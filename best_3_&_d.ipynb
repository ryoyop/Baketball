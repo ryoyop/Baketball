{
 "cells": [
  {
   "cell_type": "markdown",
   "metadata": {},
   "source": [
    "## Import & Conf"
   ]
  },
  {
   "cell_type": "code",
   "execution_count": 1,
   "metadata": {},
   "outputs": [],
   "source": [
    "import pandas as pd\n",
    "import numpy as np\n",
    "import matplotlib.pyplot as plt\n",
    "import requests\n",
    "import warnings\n",
    "warnings.filterwarnings('ignore')"
   ]
  },
  {
   "cell_type": "markdown",
   "metadata": {},
   "source": [
    "# Build the api"
   ]
  },
  {
   "cell_type": "code",
   "execution_count": 2,
   "metadata": {},
   "outputs": [],
   "source": [
    "headers = {\n",
    "  'Referer': 'https://stats.nba.com/players/shots-dribbles',\n",
    "  'User-Agent': 'Mozilla/5.0 (Windows NT 10.0; Win64; x64) AppleWebKit/537.36 (KHTML, like Gecko) Chrome/79.0.3945.130 Safari/537.36',\n",
    "  'x-nba-stats-origin': 'stats'\n",
    "}\n",
    "\n"
   ]
  },
  {
   "cell_type": "code",
   "execution_count": 3,
   "metadata": {},
   "outputs": [],
   "source": [
    "def get_shooting_stats(  url=\"http://stats.nba.com/stats/leaguedashplayerptshot?\",\n",
    "                PerMode=\"PerGame\",\n",
    "                LeagueID = \"00\",\n",
    "                Season = \"2019-20\",\n",
    "                SeasonType = \"Regular Season\",\n",
    "                PORound= 0,\n",
    "                CloseDefDistRange= '',\n",
    "                ShotClockRange='',\n",
    "                ShotDistRange= '',#'> 5',\n",
    "                TouchTimeRange= '',\n",
    "                DribbleRange= \"0 Dribbles\",\n",
    "                GeneralRange= '',\n",
    "                TeamID= 0,\n",
    "                Outcome= '',\n",
    "                Location= '',\n",
    "                Month= 0,\n",
    "                SeasonSegment= '',\n",
    "                DateFrom= '',\n",
    "                DateTo= '',\n",
    "                OpponentTeamID= 0,\n",
    "                VsConference= '',\n",
    "                VsDivision= '',\n",
    "                Conference= '',\n",
    "                Division= '',\n",
    "                GameSegment= '',\n",
    "                Period= 0,\n",
    "                LastNGames= 0):\n",
    "    url = url\n",
    "    api_param = {\n",
    "    \"PerMode\": PerMode,\n",
    "    \"LeagueID\": LeagueID,\n",
    "    \"Season\": Season,\n",
    "    \"SeasonType\": SeasonType,\n",
    "    \"PORound\": PORound,\n",
    "    \"CloseDefDistRange\": CloseDefDistRange,#'0-2 Feet - Very Tight',\n",
    "    \"ShotClockRange\":ShotClockRange,\n",
    "    \"ShotDistRange\": ShotDistRange,#'> 5',\n",
    "    \"TouchTimeRange\": TouchTimeRange,\n",
    "    \"DribbleRange\": DribbleRange,\n",
    "    \"GeneralRange\": GeneralRange,\n",
    "    \"TeamID\": TeamID,\n",
    "    \"Outcome\": Outcome,\n",
    "    \"Location\": Location,\n",
    "    \"Month\": Month,\n",
    "    \"SeasonSegment\": SeasonSegment,\n",
    "    \"DateFrom\": DateFrom,\n",
    "    \"DateTo\": DateTo,\n",
    "    \"OpponentTeamID\": OpponentTeamID,\n",
    "    \"VsConference\": VsConference,\n",
    "    \"VsDivision\": VsDivision,\n",
    "    \"Conference\": Conference,\n",
    "    \"Division\": Division,\n",
    "    \"GameSegment\": GameSegment,\n",
    "    \"Period\": Period,\n",
    "    \"LastNGames\": LastNGames\n",
    "    }\n",
    "    payload = {}\n",
    "    response = requests.request(\"GET\",url,params=api_param,headers=headers,data = payload)\n",
    "    data = response.json()\n",
    "    df = pd.DataFrame(data['resultSets'][0]['rowSet'],columns=data['resultSets'][0]['headers'])\n",
    "    df[\"Season\"] = Season\n",
    "    df[\"CloseDefDistRange\"] = CloseDefDistRange\n",
    "    df[\"DribbleRange\"] = DribbleRange\n",
    "    return df\n",
    "\n",
    "def seasons_string(start,end):\n",
    "    '''\n",
    "    creates a list of NBA seasons from start-end\n",
    "    '''\n",
    "    years = np.arange(start,end+1)\n",
    "    seasons = []\n",
    "    for year in years:\n",
    "        string1 = str(year)\n",
    "        string2 = str(year+1)\n",
    "        season = '{}-{}'.format(string1,string2[-2:])\n",
    "        seasons.append(season)\n",
    "    return seasons\n",
    "\n",
    "def get_usg_stats(  url=\"http://stats.nba.com/stats/leaguedashplayerstats?\",\n",
    "                MeasureType= \"Advanced\",\n",
    "                PerMode= \"PerGame\",\n",
    "                PlusMinus= \"N\",\n",
    "                PaceAdjust= \"N\",\n",
    "                Rank= \"N\",\n",
    "                LeagueID= \"00\",\n",
    "                Season= \"2019-20\",\n",
    "                SeasonType= \"Regular Season\",\n",
    "                PORound= 0,\n",
    "                Outcome= '',\n",
    "                Location= '',\n",
    "                Month= 0,\n",
    "                SeasonSegment= '',\n",
    "                DateFrom= '',\n",
    "                DateTo= '',\n",
    "                OpponentTeamID= 0,\n",
    "                VsConference= '',\n",
    "                VsDivision= '',\n",
    "                TeamID= 0,\n",
    "                Conference= '',\n",
    "                Division= '',\n",
    "                GameSegment= '',\n",
    "                Period= 0,\n",
    "                ShotClockRange= '',\n",
    "                LastNGames= 0,\n",
    "                GameScope= '',\n",
    "                PlayerExperience= '',\n",
    "                PlayerPosition= '',\n",
    "                StarterBench= '',\n",
    "                DraftYear= '',\n",
    "                DraftPick= '',\n",
    "                College= '',\n",
    "                Country= '',\n",
    "                Height= '',\n",
    "                Weight= '',\n",
    "                TwoWay= 0):\n",
    "    url = url\n",
    "    api_param = {\n",
    "    \"MeasureType\":MeasureType,\n",
    "    \"PerMode\":PerMode,\n",
    "    \"PlusMinus\":PlusMinus,\n",
    "    \"PaceAdjust\":PaceAdjust,\n",
    "    \"Rank\":Rank,\n",
    "    \"LeagueID\":LeagueID,\n",
    "    \"Season\":Season,\n",
    "    \"SeasonType\":SeasonType,\n",
    "    \"PORound\":PORound,\n",
    "    \"Outcome\":Outcome,\n",
    "    \"Location\":Location,\n",
    "    \"Month\":Month,\n",
    "    \"SeasonSegment\":SeasonSegment,\n",
    "    \"DateFrom\":DateFrom,\n",
    "    \"DateTo\":DateTo,\n",
    "    \"OpponentTeamID\":OpponentTeamID,\n",
    "    \"VsConference\":VsConference,\n",
    "    \"VsDivision\":VsDivision,\n",
    "    \"TeamID\":TeamID,\n",
    "    \"Conference\":Conference,\n",
    "    \"Division\":Division,\n",
    "    \"GameSegment\":GameSegment,\n",
    "    \"Period\":Period,\n",
    "    \"ShotClockRange\":ShotClockRange,\n",
    "    \"LastNGames\":LastNGames,\n",
    "    \"GameScope\":GameScope,\n",
    "    \"PlayerExperience\":PlayerExperience,\n",
    "    \"PlayerPosition\":PlayerPosition,\n",
    "    \"StarterBench\":StarterBench,\n",
    "    \"DraftYear\":DraftYear,\n",
    "    \"DraftPick\":DraftPick,\n",
    "    \"College\":College,\n",
    "    \"Country\":Country,\n",
    "    \"Height\":Height,\n",
    "    \"Weight\":Weight,\n",
    "    \"TwoWay\":TwoWay\n",
    "    }\n",
    "    payload = {}\n",
    "    response = requests.request(\"GET\",url,params=api_param,headers=headers,data = payload)\n",
    "    data = response.json()\n",
    "    df = pd.DataFrame(data['resultSets'][0]['rowSet'],columns=data['resultSets'][0]['headers'])\n",
    "    df[\"Season\"] = Season\n",
    "#     df[\"CloseDefDistRange\"] = CloseDefDistRange\n",
    "#     df[\"DribbleRange\"] = DribbleRange\n",
    "    return df\n",
    "\n",
    "\n",
    "def get_def_diff_pct_stats(url=\"https://stats.nba.com/stats/leaguedashptdefend?\",\n",
    "                PerMode= \"PerGame\",\n",
    "                LeagueID= \"00\",\n",
    "                Season= \"2019-20\",\n",
    "                SeasonType= \"Regular Season\",\n",
    "                PORound= 0,\n",
    "                PlayerID= '',\n",
    "                TeamID= 0,\n",
    "                Outcome= '',\n",
    "                Location= '',\n",
    "                Month= 0,\n",
    "                SeasonSegment= '',\n",
    "                DateFrom= '',\n",
    "                DateTo= '',\n",
    "                OpponentTeamID= 0,\n",
    "                VsConference= '',\n",
    "                VsDivision= '',\n",
    "                Conference= '',\n",
    "                Division= '',\n",
    "                GameSegment= '',\n",
    "                Period= 0,\n",
    "                LastNGames= 0,\n",
    "                DraftYear= '',\n",
    "                DraftPick= '',\n",
    "                College= '',\n",
    "                Country= '',\n",
    "                Height= '',\n",
    "                Weight= '',\n",
    "                PlayerExperience= '',\n",
    "                PlayerPosition= '',\n",
    "                StarterBench= '',\n",
    "                DefenseCategory= \"Overall\"):\n",
    "    url = url\n",
    "    api_param = {\n",
    "    \"PerMode\":PerMode,\n",
    "    \"LeagueID\":LeagueID,\n",
    "    \"Season\":Season,\n",
    "    \"SeasonType\":SeasonType,\n",
    "    \"PORound\":PORound,\n",
    "    \"PlayerID\":PlayerID,\n",
    "    \"TeamID\":TeamID,\n",
    "    \"Outcome\":Outcome,\n",
    "    \"Location\":Location,\n",
    "    \"Month\":Month,\n",
    "    \"SeasonSegment\":SeasonSegment,\n",
    "    \"DateFrom\":DateFrom,\n",
    "    \"DateTo\":DateTo,\n",
    "    \"OpponentTeamID\":OpponentTeamID,\n",
    "    \"VsConference\":VsConference,\n",
    "    \"VsDivision\":VsDivision,\n",
    "    \"Conference\":Conference,\n",
    "    \"Division\":Division,\n",
    "    \"GameSegment\":GameSegment,\n",
    "    \"Period\":Period,\n",
    "    \"LastNGames\":LastNGames,\n",
    "    \"DraftYear\":DraftYear,\n",
    "    \"DraftPick\":DraftPick,\n",
    "    \"College\":College,\n",
    "    \"Country\":Country,\n",
    "    \"Height\":Height,\n",
    "    \"Weight\":Weight,\n",
    "    \"PlayerExperience\":PlayerExperience,\n",
    "    \"PlayerPosition\":PlayerPosition,\n",
    "    \"StarterBench\":StarterBench,\n",
    "    \"DefenseCategory\":DefenseCategory\n",
    "}\n",
    "\n",
    "    payload = {}\n",
    "    response = requests.request(\"GET\",url,params=api_param,headers=headers,data = payload)\n",
    "    data = response.json()\n",
    "    df = pd.DataFrame(data['resultSets'][0]['rowSet'],columns=data['resultSets'][0]['headers'])\n",
    "    df[\"Season\"] = Season\n",
    "#     df[\"CloseDefDistRange\"] = CloseDefDistRange\n",
    "#     df[\"DribbleRange\"] = DribbleRange\n",
    "    return df\n",
    "    \n",
    "def get_shooting_stats(  url=\"http://stats.nba.com/stats/leaguedashplayerptshot?\",\n",
    "                PerMode=\"PerGame\",\n",
    "                LeagueID = \"00\",\n",
    "                Season = \"2019-20\",\n",
    "                SeasonType = \"Regular Season\",\n",
    "                PORound= 0,\n",
    "                CloseDefDistRange= '',\n",
    "                ShotClockRange='',\n",
    "                ShotDistRange= '',#'> 5',\n",
    "                TouchTimeRange= '',\n",
    "                DribbleRange= \"0 Dribbles\",\n",
    "                GeneralRange= '',\n",
    "                TeamID= 0,\n",
    "                Outcome= '',\n",
    "                Location= '',\n",
    "                Month= 0,\n",
    "                SeasonSegment= '',\n",
    "                DateFrom= '',\n",
    "                DateTo= '',\n",
    "                OpponentTeamID= 0,\n",
    "                VsConference= '',\n",
    "                VsDivision= '',\n",
    "                Conference= '',\n",
    "                Division= '',\n",
    "                GameSegment= '',\n",
    "                Period= 0,\n",
    "                LastNGames= 0):\n",
    "    url = url\n",
    "    api_param = {\n",
    "    \"PerMode\": PerMode,\n",
    "    \"LeagueID\": LeagueID,\n",
    "    \"Season\": Season,\n",
    "    \"SeasonType\": SeasonType,\n",
    "    \"PORound\": PORound,\n",
    "    \"CloseDefDistRange\": CloseDefDistRange,#'0-2 Feet - Very Tight',\n",
    "    \"ShotClockRange\":ShotClockRange,\n",
    "    \"ShotDistRange\": ShotDistRange,#'> 5',\n",
    "    \"TouchTimeRange\": TouchTimeRange,\n",
    "    \"DribbleRange\": DribbleRange,\n",
    "    \"GeneralRange\": GeneralRange,\n",
    "    \"TeamID\": TeamID,\n",
    "    \"Outcome\": Outcome,\n",
    "    \"Location\": Location,\n",
    "    \"Month\": Month,\n",
    "    \"SeasonSegment\": SeasonSegment,\n",
    "    \"DateFrom\": DateFrom,\n",
    "    \"DateTo\": DateTo,\n",
    "    \"OpponentTeamID\": OpponentTeamID,\n",
    "    \"VsConference\": VsConference,\n",
    "    \"VsDivision\": VsDivision,\n",
    "    \"Conference\": Conference,\n",
    "    \"Division\": Division,\n",
    "    \"GameSegment\": GameSegment,\n",
    "    \"Period\": Period,\n",
    "    \"LastNGames\": LastNGames\n",
    "    }\n",
    "    payload = {}\n",
    "    response = requests.request(\"GET\",url,params=api_param,headers=headers,data = payload)\n",
    "    data = response.json()\n",
    "    df = pd.DataFrame(data['resultSets'][0]['rowSet'],columns=data['resultSets'][0]['headers'])\n",
    "    df[\"Season\"] = Season\n",
    "    df[\"CloseDefDistRange\"] = CloseDefDistRange\n",
    "    df[\"DribbleRange\"] = DribbleRange\n",
    "    return df"
   ]
  },
  {
   "cell_type": "markdown",
   "metadata": {},
   "source": [
    "# Conf"
   ]
  },
  {
   "cell_type": "code",
   "execution_count": 4,
   "metadata": {},
   "outputs": [],
   "source": [
    "minimum_minuites = 20 * 50\n",
    "start_season = 2017\n",
    "end_season = 2019"
   ]
  },
  {
   "cell_type": "markdown",
   "metadata": {},
   "source": [
    "## functions"
   ]
  },
  {
   "cell_type": "code",
   "execution_count": 5,
   "metadata": {},
   "outputs": [],
   "source": [
    "def minuites_filter(df):\n",
    "    return df[(df[\"SUM_MIN\"] > minimum_minuites)]"
   ]
  },
  {
   "cell_type": "markdown",
   "metadata": {},
   "source": [
    "## Shooting analytics"
   ]
  },
  {
   "cell_type": "markdown",
   "metadata": {},
   "source": [
    "## Conf"
   ]
  },
  {
   "cell_type": "code",
   "execution_count": 55,
   "metadata": {},
   "outputs": [],
   "source": [
    "min_shots_attempts = 150\n",
    "dribbles = [\"0 Dribbles\",\"1 Dribble\"]\n",
    "CloseDefDistRanges = ['4-6 Feet - Open'] #['0-2 Feet - Very Tight','2-4 Feet - Tight','4-6 Feet - Open','']#['4-6 Feet - Open']#\n",
    "relevant_3pt_columns = [\"PLAYER_NAME\",\"GP\",\"TOTAL_ATTEMPTS\",\"CloseDefDistRange\",\"DribbleRange\",\"TOTAL_MADE\",\"Season\"]"
   ]
  },
  {
   "cell_type": "markdown",
   "metadata": {},
   "source": [
    "## Read From API"
   ]
  },
  {
   "cell_type": "code",
   "execution_count": 7,
   "metadata": {},
   "outputs": [],
   "source": [
    "df = []\n",
    "all_shots_df = []\n",
    "for season in seasons_string(start_season,end_season):\n",
    "    all_shots_df.append(get_shooting_stats(Season=season,CloseDefDistRange='',DribbleRange=''))\n",
    "    for dribble in dribbles:\n",
    "        for closeDefDistRange in CloseDefDistRanges:\n",
    "            df.append(get_shooting_stats(Season=season,CloseDefDistRange=closeDefDistRange,DribbleRange=dribble))\n",
    "shooting_stats_df = pd.concat([x for x in df],ignore_index=True)\n",
    "all_shots_df = pd.concat([x for x in all_shots_df],ignore_index=True)\n"
   ]
  },
  {
   "cell_type": "markdown",
   "metadata": {},
   "source": [
    "## Aggregate attempts - enganeering"
   ]
  },
  {
   "cell_type": "code",
   "execution_count": 8,
   "metadata": {},
   "outputs": [],
   "source": [
    "df_3pt = shooting_stats_df\n",
    "df_3pt[\"TOTAL_ATTEMPTS\"] = round(df_3pt[\"GP\"] * df_3pt[\"FG3A\"])\n",
    "df_3pt[\"TOTAL_MADE\"]     = round(df_3pt[\"GP\"] * df_3pt[\"FG3M\"])\n"
   ]
  },
  {
   "cell_type": "code",
   "execution_count": 9,
   "metadata": {},
   "outputs": [],
   "source": [
    "all_shots_df[\"TOTAL_3S\"]    = round(all_shots_df[\"GP\"] * all_shots_df[\"FG3A\"])\n",
    "all_shots_df[\"TOTAL_SHOTS\"] = all_shots_df[\"GP\"] * all_shots_df[\"FGA\"]"
   ]
  },
  {
   "cell_type": "markdown",
   "metadata": {},
   "source": [
    "## Group data to last season"
   ]
  },
  {
   "cell_type": "code",
   "execution_count": 10,
   "metadata": {},
   "outputs": [],
   "source": [
    "df_3pt_summary = df_3pt[relevant_3pt_columns].groupby(\"PLAYER_NAME\",as_index=False).sum()\n",
    "df_3pt_summary[\"3PT_PCT\"] = df_3pt_summary[\"TOTAL_MADE\"] / df_3pt_summary[\"TOTAL_ATTEMPTS\"]"
   ]
  },
  {
   "cell_type": "code",
   "execution_count": 11,
   "metadata": {},
   "outputs": [],
   "source": [
    "all_shots_summary = all_shots_df.groupby(\"PLAYER_NAME\",as_index=False).sum()\n",
    "all_shots_summary[\"FREQ_PCT\"] = all_shots_summary[\"TOTAL_3S\"] / all_shots_summary[\"TOTAL_SHOTS\"]\n",
    "df_3pt_frequency = all_shots_summary[[\"FREQ_PCT\",\"PLAYER_NAME\"]]"
   ]
  },
  {
   "cell_type": "markdown",
   "metadata": {},
   "source": [
    "## add 3pt frequency to our 3pt shots"
   ]
  },
  {
   "cell_type": "code",
   "execution_count": 51,
   "metadata": {},
   "outputs": [],
   "source": [
    "df_3pt_freq_pct = df_3pt_summary.merge(df_3pt_frequency)\n"
   ]
  },
  {
   "cell_type": "markdown",
   "metadata": {},
   "source": [
    "## Calculate avargaes to filter data"
   ]
  },
  {
   "cell_type": "code",
   "execution_count": 976,
   "metadata": {},
   "outputs": [],
   "source": [
    "avg_3pt_freq = (all_shots_summary[\"TOTAL_3S\"].sum() / all_shots_summary[\"TOTAL_SHOTS\"].sum()) * 1.4\n",
    "avg_shooting_pct = (df_3pt_freq_pct[\"TOTAL_MADE\"].sum() / df_3pt_freq_pct[\"TOTAL_ATTEMPTS\"].sum())\n",
    "freq_3pt_filter = 0.5"
   ]
  },
  {
   "cell_type": "markdown",
   "metadata": {},
   "source": [
    "## Filter data"
   ]
  },
  {
   "cell_type": "code",
   "execution_count": 977,
   "metadata": {},
   "outputs": [],
   "source": [
    "min_attemps_filter = df_3pt_freq_pct[\"TOTAL_ATTEMPTS\"] > min_shots_attempts\n",
    "above_avg_freq_filter = df_3pt_freq_pct[\"FREQ_PCT\"] > freq_3pt_filter\n",
    "df_3pt_freq_pct_filtered = df_3pt_freq_pct[min_attemps_filter]\n",
    "df_3pt_freq_pct_filtered = df_3pt_freq_pct_filtered[above_avg_freq_filter]\n",
    "df_3pt_freq_pct_filtered = df_3pt_freq_pct_filtered.drop([\"GP\"],axis=1)\n"
   ]
  },
  {
   "cell_type": "code",
   "execution_count": 962,
   "metadata": {},
   "outputs": [
    {
     "data": {
      "text/html": [
       "<div>\n",
       "<style scoped>\n",
       "    .dataframe tbody tr th:only-of-type {\n",
       "        vertical-align: middle;\n",
       "    }\n",
       "\n",
       "    .dataframe tbody tr th {\n",
       "        vertical-align: top;\n",
       "    }\n",
       "\n",
       "    .dataframe thead th {\n",
       "        text-align: right;\n",
       "    }\n",
       "</style>\n",
       "<table border=\"1\" class=\"dataframe\">\n",
       "  <thead>\n",
       "    <tr style=\"text-align: right;\">\n",
       "      <th></th>\n",
       "      <th>PLAYER_NAME</th>\n",
       "      <th>TOTAL_ATTEMPTS</th>\n",
       "      <th>TOTAL_MADE</th>\n",
       "      <th>3PT_PCT</th>\n",
       "      <th>FREQ_PCT</th>\n",
       "    </tr>\n",
       "  </thead>\n",
       "  <tbody>\n",
       "  </tbody>\n",
       "</table>\n",
       "</div>"
      ],
      "text/plain": [
       "Empty DataFrame\n",
       "Columns: [PLAYER_NAME, TOTAL_ATTEMPTS, TOTAL_MADE, 3PT_PCT, FREQ_PCT]\n",
       "Index: []"
      ]
     },
     "execution_count": 962,
     "metadata": {},
     "output_type": "execute_result"
    }
   ],
   "source": [
    "df_3pt_freq_pct_filtered[df_3pt_freq_pct_filtered[\"PLAYER_NAME\"] == \"Matisse Thybulle\"]"
   ]
  },
  {
   "cell_type": "markdown",
   "metadata": {},
   "source": [
    "# Usage Analytics"
   ]
  },
  {
   "cell_type": "markdown",
   "metadata": {},
   "source": [
    "## Conf"
   ]
  },
  {
   "cell_type": "code",
   "execution_count": 963,
   "metadata": {},
   "outputs": [],
   "source": [
    "max_usg_pct = 0.25"
   ]
  },
  {
   "cell_type": "markdown",
   "metadata": {},
   "source": [
    "## Read From API"
   ]
  },
  {
   "cell_type": "code",
   "execution_count": 964,
   "metadata": {},
   "outputs": [],
   "source": [
    "df = []\n",
    "for season in seasons_string(start_season,end_season):\n",
    "    df.append(get_usg_stats(Season=season))\n",
    "usg_stats_df = pd.concat([x for x in df],ignore_index=True)"
   ]
  },
  {
   "cell_type": "markdown",
   "metadata": {},
   "source": [
    "## Calculate totals before group"
   ]
  },
  {
   "cell_type": "code",
   "execution_count": 965,
   "metadata": {},
   "outputs": [],
   "source": [
    "usg_stats_df[\"TOTAL_USG\"]     = usg_stats_df[\"USG_PCT\"] * usg_stats_df[\"GP\"] * usg_stats_df[\"MIN\"]\n",
    "usg_stats_df[\"TOTAL_AST_PCT\"] = usg_stats_df[\"AST_PCT\"] * usg_stats_df[\"GP\"] * usg_stats_df[\"MIN\"]\n",
    "usg_stats_df[\"TOTAL_MIN\"]     = usg_stats_df[\"GP\"] * usg_stats_df[\"MIN\"]"
   ]
  },
  {
   "cell_type": "markdown",
   "metadata": {},
   "source": [
    "## Check for players that play in last season"
   ]
  },
  {
   "cell_type": "code",
   "execution_count": 966,
   "metadata": {},
   "outputs": [],
   "source": [
    "relevant_season = usg_stats_df.groupby([\"PLAYER_NAME\"],as_index=False).max()[[\"PLAYER_NAME\",\"Season\"]]\n",
    "relevant_season = relevant_season[relevant_season[\"Season\"] == \"2019-20\"]"
   ]
  },
  {
   "cell_type": "markdown",
   "metadata": {},
   "source": [
    "## Group data toghter and enganeering"
   ]
  },
  {
   "cell_type": "code",
   "execution_count": 967,
   "metadata": {},
   "outputs": [],
   "source": [
    "usg_stats_summary = usg_stats_df.groupby(\"PLAYER_NAME\",as_index=False).sum()"
   ]
  },
  {
   "cell_type": "code",
   "execution_count": 968,
   "metadata": {},
   "outputs": [],
   "source": [
    "usg_stats_summary[\"USG_PCT\"] = usg_stats_summary[\"TOTAL_USG\"] / usg_stats_summary[\"TOTAL_MIN\"]\n",
    "usg_stats_summary[\"AST_PCT\"] = usg_stats_summary[\"TOTAL_AST_PCT\"] / usg_stats_summary[\"TOTAL_MIN\"]"
   ]
  },
  {
   "cell_type": "markdown",
   "metadata": {},
   "source": [
    "## Calculate avarage for filter and filer"
   ]
  },
  {
   "cell_type": "code",
   "execution_count": 969,
   "metadata": {},
   "outputs": [],
   "source": [
    "ast_pct_avg = usg_stats_summary[\"AST_PCT\"].mean()"
   ]
  },
  {
   "cell_type": "code",
   "execution_count": 970,
   "metadata": {},
   "outputs": [],
   "source": [
    "usg_filter = usg_stats_summary[\"USG_PCT\"] <= max_usg_pct\n",
    "ast_filter = usg_stats_summary[\"AST_PCT\"] <= ast_pct_avg\n",
    "minuites_filter = usg_stats_summary[\"TOTAL_MIN\"] >= minimum_minuites\n",
    "usg_stats_summary_filtered = usg_stats_summary[usg_filter]\n",
    "usg_stats_summary_filtered = usg_stats_summary_filtered[ast_filter]\n",
    "usg_stats_summary_filtered = usg_stats_summary_filtered[minuites_filter]\n",
    "usg_stats_summary_filtered = usg_stats_summary_filtered.merge(relevant_season,on=\"PLAYER_NAME\")"
   ]
  },
  {
   "cell_type": "markdown",
   "metadata": {},
   "source": [
    "## Merge usage and 3pt shots"
   ]
  },
  {
   "cell_type": "code",
   "execution_count": 982,
   "metadata": {
    "scrolled": true
   },
   "outputs": [
    {
     "data": {
      "text/html": [
       "<div>\n",
       "<style scoped>\n",
       "    .dataframe tbody tr th:only-of-type {\n",
       "        vertical-align: middle;\n",
       "    }\n",
       "\n",
       "    .dataframe tbody tr th {\n",
       "        vertical-align: top;\n",
       "    }\n",
       "\n",
       "    .dataframe thead th {\n",
       "        text-align: right;\n",
       "    }\n",
       "</style>\n",
       "<table border=\"1\" class=\"dataframe\">\n",
       "  <thead>\n",
       "    <tr style=\"text-align: right;\">\n",
       "      <th></th>\n",
       "      <th>PLAYER_NAME</th>\n",
       "      <th>3PT_PCT</th>\n",
       "      <th>TOTAL_ATTEMPTS</th>\n",
       "      <th>FREQ_PCT</th>\n",
       "      <th>USG_PCT</th>\n",
       "      <th>AST_PCT</th>\n",
       "    </tr>\n",
       "  </thead>\n",
       "  <tbody>\n",
       "    <tr>\n",
       "      <th>0</th>\n",
       "      <td>Al-Farouq Aminu</td>\n",
       "      <td>0.333333</td>\n",
       "      <td>192.0</td>\n",
       "      <td>0.527536</td>\n",
       "      <td>0.138241</td>\n",
       "      <td>0.059046</td>\n",
       "    </tr>\n",
       "    <tr>\n",
       "      <th>1</th>\n",
       "      <td>Allen Crabbe</td>\n",
       "      <td>0.380665</td>\n",
       "      <td>331.0</td>\n",
       "      <td>0.669855</td>\n",
       "      <td>0.166190</td>\n",
       "      <td>0.073975</td>\n",
       "    </tr>\n",
       "    <tr>\n",
       "      <th>2</th>\n",
       "      <td>Anthony Tolliver</td>\n",
       "      <td>0.378641</td>\n",
       "      <td>309.0</td>\n",
       "      <td>0.796730</td>\n",
       "      <td>0.130050</td>\n",
       "      <td>0.067566</td>\n",
       "    </tr>\n",
       "    <tr>\n",
       "      <th>3</th>\n",
       "      <td>Ben McLemore</td>\n",
       "      <td>0.365000</td>\n",
       "      <td>200.0</td>\n",
       "      <td>0.661380</td>\n",
       "      <td>0.167203</td>\n",
       "      <td>0.061037</td>\n",
       "    </tr>\n",
       "    <tr>\n",
       "      <th>4</th>\n",
       "      <td>Brook Lopez</td>\n",
       "      <td>0.315018</td>\n",
       "      <td>273.0</td>\n",
       "      <td>0.527703</td>\n",
       "      <td>0.187105</td>\n",
       "      <td>0.078685</td>\n",
       "    </tr>\n",
       "    <tr>\n",
       "      <th>5</th>\n",
       "      <td>Bryn Forbes</td>\n",
       "      <td>0.410579</td>\n",
       "      <td>397.0</td>\n",
       "      <td>0.550315</td>\n",
       "      <td>0.171722</td>\n",
       "      <td>0.094771</td>\n",
       "    </tr>\n",
       "    <tr>\n",
       "      <th>6</th>\n",
       "      <td>CJ Miles</td>\n",
       "      <td>0.333333</td>\n",
       "      <td>255.0</td>\n",
       "      <td>0.725029</td>\n",
       "      <td>0.195988</td>\n",
       "      <td>0.063050</td>\n",
       "    </tr>\n",
       "    <tr>\n",
       "      <th>7</th>\n",
       "      <td>Danny Green</td>\n",
       "      <td>0.403030</td>\n",
       "      <td>330.0</td>\n",
       "      <td>0.658343</td>\n",
       "      <td>0.145106</td>\n",
       "      <td>0.077347</td>\n",
       "    </tr>\n",
       "    <tr>\n",
       "      <th>8</th>\n",
       "      <td>Danuel House Jr.</td>\n",
       "      <td>0.298137</td>\n",
       "      <td>161.0</td>\n",
       "      <td>0.642920</td>\n",
       "      <td>0.137736</td>\n",
       "      <td>0.064057</td>\n",
       "    </tr>\n",
       "    <tr>\n",
       "      <th>9</th>\n",
       "      <td>Davis Bertans</td>\n",
       "      <td>0.407494</td>\n",
       "      <td>427.0</td>\n",
       "      <td>0.747740</td>\n",
       "      <td>0.160982</td>\n",
       "      <td>0.085540</td>\n",
       "    </tr>\n",
       "  </tbody>\n",
       "</table>\n",
       "</div>"
      ],
      "text/plain": [
       "        PLAYER_NAME   3PT_PCT  TOTAL_ATTEMPTS  FREQ_PCT   USG_PCT   AST_PCT\n",
       "0  Al-Farouq Aminu   0.333333  192.0           0.527536  0.138241  0.059046\n",
       "1  Allen Crabbe      0.380665  331.0           0.669855  0.166190  0.073975\n",
       "2  Anthony Tolliver  0.378641  309.0           0.796730  0.130050  0.067566\n",
       "3  Ben McLemore      0.365000  200.0           0.661380  0.167203  0.061037\n",
       "4  Brook Lopez       0.315018  273.0           0.527703  0.187105  0.078685\n",
       "5  Bryn Forbes       0.410579  397.0           0.550315  0.171722  0.094771\n",
       "6  CJ Miles          0.333333  255.0           0.725029  0.195988  0.063050\n",
       "7  Danny Green       0.403030  330.0           0.658343  0.145106  0.077347\n",
       "8  Danuel House Jr.  0.298137  161.0           0.642920  0.137736  0.064057\n",
       "9  Davis Bertans     0.407494  427.0           0.747740  0.160982  0.085540"
      ]
     },
     "execution_count": 982,
     "metadata": {},
     "output_type": "execute_result"
    }
   ],
   "source": [
    "usage_3pt_merge = df_3pt_freq_pct_filtered.merge(usg_stats_summary_filtered,on=\"PLAYER_NAME\")\n",
    "usage_3pt_merge[[\"PLAYER_NAME\",\"3PT_PCT\",\"TOTAL_ATTEMPTS\",\"FREQ_PCT\",\"USG_PCT\",\"AST_PCT\"]].head(10)"
   ]
  },
  {
   "cell_type": "markdown",
   "metadata": {},
   "source": [
    "## Mesure Defense - DRPM"
   ]
  },
  {
   "cell_type": "markdown",
   "metadata": {},
   "source": [
    "## Read From API"
   ]
  },
  {
   "cell_type": "code",
   "execution_count": 972,
   "metadata": {},
   "outputs": [],
   "source": [
    "rapm_df = pd.read_csv(\"rapm.csv\").drop_duplicates()"
   ]
  },
  {
   "cell_type": "markdown",
   "metadata": {},
   "source": [
    "## Calculate avg for graph"
   ]
  },
  {
   "cell_type": "code",
   "execution_count": 973,
   "metadata": {},
   "outputs": [],
   "source": [
    "avg_rapm = rapm_df[\"RAPM__Def\"].mean()"
   ]
  },
  {
   "cell_type": "markdown",
   "metadata": {},
   "source": [
    "## Graph conf"
   ]
  },
  {
   "cell_type": "code",
   "execution_count": 974,
   "metadata": {},
   "outputs": [],
   "source": [
    "from matplotlib.patches import Rectangle\n",
    "min_drpm = -3.5#rpm_3pt_usg_df[\"DRPM\"].min()\n",
    "max_drpm = 3.5#rpm_3pt_usg_df[\"DRPM\"].max()\n",
    "min_shot_pct = 0#rpm_3pt_usg_df[\"3PT_PCT\"].min()\n",
    "max_shot_pct = 0.55\n",
    "alpha= 0.2\n",
    "plt.rc('font', size=14)\n"
   ]
  },
  {
   "cell_type": "markdown",
   "metadata": {},
   "source": [
    "## Draw Graph "
   ]
  },
  {
   "cell_type": "code",
   "execution_count": 983,
   "metadata": {},
   "outputs": [
    {
     "data": {
      "image/png": "[encoded data removed]",
      "text/plain": [
       "<Figure size 1440x1080 with 1 Axes>"
      ]
     },
     "metadata": {
      "needs_background": "light"
     },
     "output_type": "display_data"
    }
   ],
   "source": [
    "# split here to two graph because overlap of text\n",
    "rapm_3pt_usg_df = usage_3pt_merge.merge(rapm_df,on=\"PLAYER_NAME\")\n",
    "rapm_3pt_usg_df = rapm_3pt_usg_df.sort_values(\"RAPM__Def\")\n",
    "#rapm_3pt_usg_df = rapm_3pt_usg_df[~rapm_3pt_usg_df[\"PLAYER_NAME\"].isin([\"Pat Connaughton\",\"Trey Lyles\",\"Danilo Gallinari\",\"Tim Hardaway Jr.\",\"Markieff Morris\",\"Bojan Bogdanovic\",\"OG Anunoby\",\"Jaylen Brown\",\"Langston Galloway\",\"Mikal Bridges\",\"DeMarre Carroll\",\"Kyle Kuzma\"])]\n",
    "                                                                    \n",
    "ax = rapm_3pt_usg_df.plot.scatter(x=\"3PT_PCT\",y=\"RAPM__Def\",figsize=(20,15))\n",
    "ax.add_patch(Rectangle((min_shot_pct,min_drpm), avg_shooting_pct - min_shot_pct , abs(avg_rapm - min_drpm),color='red',alpha=alpha))\n",
    "ax.add_patch(Rectangle((min_shot_pct,avg_rapm), avg_shooting_pct - min_shot_pct , abs(max_drpm - avg_rapm),color='yellow',alpha=alpha))\n",
    "ax.add_patch(Rectangle((avg_shooting_pct,min_drpm), max_shot_pct - avg_shooting_pct , abs(avg_rapm - min_drpm),color='yellow',alpha=alpha))\n",
    "ax.add_patch(Rectangle((avg_shooting_pct,avg_rapm), max_shot_pct - avg_shooting_pct , abs(max_drpm - avg_rapm),color='green',alpha=alpha))\n",
    "#ax.set_ylim(-3,3.2)\n",
    "for i, txt in enumerate(rapm_3pt_usg_df.PLAYER_NAME):\n",
    "    last_name_cnt = rapm_3pt_usg_df[rapm_3pt_usg_df[\"PLAYER_NAME\"].str.contains(\" \" + txt.split(\" \")[1])].count()[\"primaryKey\"]\n",
    "        \n",
    "    if(last_name_cnt > 1): # take first name and last name\n",
    "        name = txt.split(\" \")[0][0] + \".\" + txt.split(\" \")[1]\n",
    "    else: # take last name\n",
    "        name = txt.split(\" \")[0][0] + \".\" + txt.split(\" \")[1]#txt.split(\" \")[1]\n",
    "\n",
    "    ax.annotate( name, (rapm_3pt_usg_df[\"3PT_PCT\"].iat[i],rapm_3pt_usg_df[\"RAPM__Def\"].iat[i]),\\\n",
    "                xytext=(rapm_3pt_usg_df[\"3PT_PCT\"].iat[i],rapm_3pt_usg_df[\"RAPM__Def\"].iat[i]), textcoords='data',rotation=0)\n",
    "\n",
    "plt.show()"
   ]
  },
  {
   "cell_type": "code",
   "execution_count": 984,
   "metadata": {},
   "outputs": [],
   "source": [
    "# # rapm_3pt_usg_df = usage_3pt_merge.merge(rapm_df,on=\"PLAYER_NAME\")\n",
    "# # rapm_3pt_usg_df = rapm_3pt_usg_df.sort_values(\"RAPM__Def\")\n",
    "# # rapm_3pt_usg_df = rapm_3pt_usg_df[rapm_3pt_usg_df[\"PLAYER_NAME\"].isin([\"Pat Connaughton\",\"Trey Lyles\",\"Danilo Gallinari\",\"Tim Hardaway Jr.\",\"Markieff Morris\",\"Bojan Bogdanovic\",\"OG Anunoby\",\"Jaylen Brown\",\"Langston Galloway\",\"Mikal Bridges\",\"DeMarre Carroll\",\"Kyle Kuzma\"])]\n",
    "# #                                                                     # 20 , 15\n",
    "# # ax = rapm_3pt_usg_df.plot.scatter(x=\"3PT_PCT\",y=\"RAPM__Def\",figsize=(20,11))\n",
    "# # ax.add_patch(Rectangle((min_shot_pct,min_drpm), avg_shooting_pct - min_shot_pct , abs(avg_rapm - min_drpm),color='red',alpha=alpha))\n",
    "# # ax.add_patch(Rectangle((min_shot_pct,avg_rapm), avg_shooting_pct - min_shot_pct , abs(max_drpm - avg_rapm),color='yellow',alpha=alpha))\n",
    "# # ax.add_patch(Rectangle((avg_shooting_pct,min_drpm), max_shot_pct - avg_shooting_pct , abs(avg_rapm - min_drpm),color='yellow',alpha=alpha))\n",
    "# # ax.add_patch(Rectangle((avg_shooting_pct,avg_rapm), max_shot_pct - avg_shooting_pct , abs(max_drpm - avg_rapm),color='green',alpha=alpha))\n",
    "# # ax.set_ylim(-3,3)\n",
    "# # ax.set_xlim(0.23,0.49)\n",
    "# # plt.rc('font', size=16)\n",
    "\n",
    "# # for i, txt in enumerate(rapm_3pt_usg_df.PLAYER_NAME):\n",
    "# #     last_name_cnt = rapm_3pt_usg_df[rapm_3pt_usg_df[\"PLAYER_NAME\"].str.contains(\" \" + txt.split(\" \")[1])].count()[\"primaryKey\"]\n",
    "        \n",
    "# #     if(last_name_cnt > 1): # take first name and last name\n",
    "# #         name = txt.split(\" \")[0][0] + \".\" + txt.split(\" \")[1]\n",
    "# #     else: # take last name\n",
    "# #         name = txt.split(\" \")[1]\n",
    "\n",
    "# #     ax.annotate( name, (rapm_3pt_usg_df[\"3PT_PCT\"].iat[i],rapm_3pt_usg_df[\"RAPM__Def\"].iat[i]),\\\n",
    "# #                 xytext=(rapm_3pt_usg_df[\"3PT_PCT\"].iat[i],rapm_3pt_usg_df[\"RAPM__Def\"].iat[i]), textcoords='data',rotation=0)\n",
    "\n",
    "# # plt.show()\n",
    "# rapm_3pt_usg_df[rapm_3pt_usg_df[\"PLAYER_NAME\"] == \"Robert Covington\"]"
   ]
  },
  {
   "cell_type": "markdown",
   "metadata": {},
   "source": [
    "## Calculate Rank for results"
   ]
  },
  {
   "cell_type": "code",
   "execution_count": 985,
   "metadata": {},
   "outputs": [],
   "source": [
    "from sklearn.preprocessing import MinMaxScaler\n",
    "import math\n",
    "rapm_3pt_usg_df_ranking = rapm_3pt_usg_df#[rapm_3pt_usg_df[\"PLAYER_NAME\"] != \"Robert Covington\"]\n",
    "scaler=MinMaxScaler(feature_range=(rapm_3pt_usg_df[\"3PT_PCT\"].min(),rapm_3pt_usg_df[\"3PT_PCT\"].max()))\n",
    "rapm_3pt_usg_df_ranking[\"DRAPM_NORMALIZE\"]=scaler.fit_transform(rapm_3pt_usg_df_ranking[[\"RAPM__Def\"]])\n",
    "rapm_3pt_usg_df_ranking[\"DRAPM_3PT_AVG\"] = (rapm_3pt_usg_df_ranking[\"DRAPM_NORMALIZE\"] * rapm_3pt_usg_df_ranking[\"3PT_PCT\"]) ** 0.5"
   ]
  },
  {
   "cell_type": "code",
   "execution_count": 998,
   "metadata": {},
   "outputs": [],
   "source": [
    "rapm_3pt_usg_df_ranking[\"DRAPM_RANK\"] = rapm_3pt_usg_df_ranking[\"RAPM__Def\"].rank(method='first',ascending=False)\n",
    "rapm_3pt_usg_df_ranking[\"3PT_RANK\"] = rapm_3pt_usg_df_ranking[\"3PT_PCT\"].rank(method='first',ascending=False)\n",
    "rapm_3pt_usg_df_ranking[\"TOTAL_RANK\"] = (rapm_3pt_usg_df_ranking[\"DRAPM_RANK\"] + rapm_3pt_usg_df_ranking[\"3PT_RANK\"])/2\n",
    "rapm_3pt_usg_df_ranking = rapm_3pt_usg_df_ranking[[\"PLAYER_NAME\",\"TOTAL_ATTEMPTS\",\"TOTAL_MADE\",\"3PT_PCT\",\"RAPM__Def\",\"FREQ_PCT\",\"DRAPM_RANK\",\"3PT_RANK\",\"TOTAL_RANK\"]]"
   ]
  },
  {
   "cell_type": "markdown",
   "metadata": {},
   "source": [
    "## Find best players"
   ]
  },
  {
   "cell_type": "code",
   "execution_count": 999,
   "metadata": {
    "scrolled": false
   },
   "outputs": [],
   "source": [
    "rapm_3pt_usg_df_ranking_best = rapm_3pt_usg_df_ranking[rapm_3pt_usg_df_ranking[\"RAPM__Def\"] > avg_rapm]\n",
    "rapm_3pt_usg_df_ranking_best = rapm_3pt_usg_df_ranking_best[rapm_3pt_usg_df_ranking[\"3PT_PCT\"] > avg_shooting_pct]"
   ]
  },
  {
   "cell_type": "code",
   "execution_count": 1003,
   "metadata": {},
   "outputs": [
    {
     "data": {
      "text/html": [
       "<div>\n",
       "<style scoped>\n",
       "    .dataframe tbody tr th:only-of-type {\n",
       "        vertical-align: middle;\n",
       "    }\n",
       "\n",
       "    .dataframe tbody tr th {\n",
       "        vertical-align: top;\n",
       "    }\n",
       "\n",
       "    .dataframe thead th {\n",
       "        text-align: right;\n",
       "    }\n",
       "</style>\n",
       "<table border=\"1\" class=\"dataframe\">\n",
       "  <thead>\n",
       "    <tr style=\"text-align: right;\">\n",
       "      <th></th>\n",
       "      <th>PLAYER_NAME</th>\n",
       "      <th>TOTAL_ATTEMPTS</th>\n",
       "      <th>TOTAL_MADE</th>\n",
       "      <th>3PT_PCT</th>\n",
       "      <th>RAPM__Def</th>\n",
       "      <th>FREQ_PCT</th>\n",
       "      <th>DRAPM_RANK</th>\n",
       "      <th>3PT_RANK</th>\n",
       "      <th>TOTAL_RANK</th>\n",
       "    </tr>\n",
       "  </thead>\n",
       "  <tbody>\n",
       "    <tr>\n",
       "      <th>21</th>\n",
       "      <td>Kyle Korver</td>\n",
       "      <td>308.0</td>\n",
       "      <td>131.0</td>\n",
       "      <td>0.425325</td>\n",
       "      <td>1.03</td>\n",
       "      <td>0.759668</td>\n",
       "      <td>6.0</td>\n",
       "      <td>4.0</td>\n",
       "      <td>5.0</td>\n",
       "    </tr>\n",
       "    <tr>\n",
       "      <th>11</th>\n",
       "      <td>Duncan Robinson</td>\n",
       "      <td>225.0</td>\n",
       "      <td>102.0</td>\n",
       "      <td>0.453333</td>\n",
       "      <td>0.49</td>\n",
       "      <td>0.873797</td>\n",
       "      <td>11.0</td>\n",
       "      <td>2.0</td>\n",
       "      <td>6.5</td>\n",
       "    </tr>\n",
       "    <tr>\n",
       "      <th>7</th>\n",
       "      <td>Danny Green</td>\n",
       "      <td>330.0</td>\n",
       "      <td>133.0</td>\n",
       "      <td>0.403030</td>\n",
       "      <td>1.55</td>\n",
       "      <td>0.658343</td>\n",
       "      <td>3.0</td>\n",
       "      <td>10.0</td>\n",
       "      <td>6.5</td>\n",
       "    </tr>\n",
       "    <tr>\n",
       "      <th>31</th>\n",
       "      <td>Seth Curry</td>\n",
       "      <td>153.0</td>\n",
       "      <td>72.0</td>\n",
       "      <td>0.470588</td>\n",
       "      <td>0.23</td>\n",
       "      <td>0.549632</td>\n",
       "      <td>13.0</td>\n",
       "      <td>1.0</td>\n",
       "      <td>7.0</td>\n",
       "    </tr>\n",
       "    <tr>\n",
       "      <th>16</th>\n",
       "      <td>Joe Harris</td>\n",
       "      <td>431.0</td>\n",
       "      <td>191.0</td>\n",
       "      <td>0.443155</td>\n",
       "      <td>0.01</td>\n",
       "      <td>0.546107</td>\n",
       "      <td>19.0</td>\n",
       "      <td>3.0</td>\n",
       "      <td>11.0</td>\n",
       "    </tr>\n",
       "    <tr>\n",
       "      <th>27</th>\n",
       "      <td>P.J. Tucker</td>\n",
       "      <td>185.0</td>\n",
       "      <td>70.0</td>\n",
       "      <td>0.378378</td>\n",
       "      <td>0.77</td>\n",
       "      <td>0.721019</td>\n",
       "      <td>7.0</td>\n",
       "      <td>19.0</td>\n",
       "      <td>13.0</td>\n",
       "    </tr>\n",
       "    <tr>\n",
       "      <th>30</th>\n",
       "      <td>Robert Covington</td>\n",
       "      <td>548.0</td>\n",
       "      <td>193.0</td>\n",
       "      <td>0.352190</td>\n",
       "      <td>3.16</td>\n",
       "      <td>0.660412</td>\n",
       "      <td>1.0</td>\n",
       "      <td>28.0</td>\n",
       "      <td>14.5</td>\n",
       "    </tr>\n",
       "    <tr>\n",
       "      <th>14</th>\n",
       "      <td>Garrett Temple</td>\n",
       "      <td>271.0</td>\n",
       "      <td>98.0</td>\n",
       "      <td>0.361624</td>\n",
       "      <td>1.27</td>\n",
       "      <td>0.563859</td>\n",
       "      <td>5.0</td>\n",
       "      <td>25.0</td>\n",
       "      <td>15.0</td>\n",
       "    </tr>\n",
       "    <tr>\n",
       "      <th>1</th>\n",
       "      <td>Allen Crabbe</td>\n",
       "      <td>331.0</td>\n",
       "      <td>126.0</td>\n",
       "      <td>0.380665</td>\n",
       "      <td>0.01</td>\n",
       "      <td>0.669855</td>\n",
       "      <td>20.0</td>\n",
       "      <td>17.0</td>\n",
       "      <td>18.5</td>\n",
       "    </tr>\n",
       "    <tr>\n",
       "      <th>26</th>\n",
       "      <td>Marvin Williams</td>\n",
       "      <td>274.0</td>\n",
       "      <td>98.0</td>\n",
       "      <td>0.357664</td>\n",
       "      <td>0.35</td>\n",
       "      <td>0.576764</td>\n",
       "      <td>12.0</td>\n",
       "      <td>26.0</td>\n",
       "      <td>19.0</td>\n",
       "    </tr>\n",
       "    <tr>\n",
       "      <th>41</th>\n",
       "      <td>Wayne Ellington</td>\n",
       "      <td>385.0</td>\n",
       "      <td>135.0</td>\n",
       "      <td>0.350649</td>\n",
       "      <td>0.62</td>\n",
       "      <td>0.829574</td>\n",
       "      <td>10.0</td>\n",
       "      <td>29.0</td>\n",
       "      <td>19.5</td>\n",
       "    </tr>\n",
       "    <tr>\n",
       "      <th>17</th>\n",
       "      <td>Josh Hart</td>\n",
       "      <td>333.0</td>\n",
       "      <td>119.0</td>\n",
       "      <td>0.357357</td>\n",
       "      <td>0.04</td>\n",
       "      <td>0.613207</td>\n",
       "      <td>18.0</td>\n",
       "      <td>27.0</td>\n",
       "      <td>22.5</td>\n",
       "    </tr>\n",
       "  </tbody>\n",
       "</table>\n",
       "</div>"
      ],
      "text/plain": [
       "         PLAYER_NAME  TOTAL_ATTEMPTS  TOTAL_MADE   3PT_PCT  RAPM__Def  \\\n",
       "21  Kyle Korver       308.0           131.0       0.425325  1.03        \n",
       "11  Duncan Robinson   225.0           102.0       0.453333  0.49        \n",
       "7   Danny Green       330.0           133.0       0.403030  1.55        \n",
       "31  Seth Curry        153.0           72.0        0.470588  0.23        \n",
       "16  Joe Harris        431.0           191.0       0.443155  0.01        \n",
       "27  P.J. Tucker       185.0           70.0        0.378378  0.77        \n",
       "30  Robert Covington  548.0           193.0       0.352190  3.16        \n",
       "14  Garrett Temple    271.0           98.0        0.361624  1.27        \n",
       "1   Allen Crabbe      331.0           126.0       0.380665  0.01        \n",
       "26  Marvin Williams   274.0           98.0        0.357664  0.35        \n",
       "41  Wayne Ellington   385.0           135.0       0.350649  0.62        \n",
       "17  Josh Hart         333.0           119.0       0.357357  0.04        \n",
       "\n",
       "    FREQ_PCT  DRAPM_RANK  3PT_RANK  TOTAL_RANK  \n",
       "21  0.759668  6.0         4.0       5.0         \n",
       "11  0.873797  11.0        2.0       6.5         \n",
       "7   0.658343  3.0         10.0      6.5         \n",
       "31  0.549632  13.0        1.0       7.0         \n",
       "16  0.546107  19.0        3.0       11.0        \n",
       "27  0.721019  7.0         19.0      13.0        \n",
       "30  0.660412  1.0         28.0      14.5        \n",
       "14  0.563859  5.0         25.0      15.0        \n",
       "1   0.669855  20.0        17.0      18.5        \n",
       "26  0.576764  12.0        26.0      19.0        \n",
       "41  0.829574  10.0        29.0      19.5        \n",
       "17  0.613207  18.0        27.0      22.5        "
      ]
     },
     "execution_count": 1003,
     "metadata": {},
     "output_type": "execute_result"
    }
   ],
   "source": [
    "rapm_3pt_usg_df_ranking_best.sort_values(\"TOTAL_RANK\",ascending=True).head(60)"
   ]
  },
  {
   "cell_type": "markdown",
   "metadata": {},
   "source": [
    "## Find worst players"
   ]
  },
  {
   "cell_type": "code",
   "execution_count": 1004,
   "metadata": {},
   "outputs": [],
   "source": [
    "rapm_3pt_usg_df_ranking_worst = rapm_3pt_usg_df_ranking[rapm_3pt_usg_df_ranking[\"RAPM__Def\"] < avg_rapm]\n",
    "rapm_3pt_usg_df_ranking_worst = rapm_3pt_usg_df_ranking_worst[rapm_3pt_usg_df_ranking[\"3PT_PCT\"] < avg_shooting_pct]"
   ]
  },
  {
   "cell_type": "code",
   "execution_count": 1005,
   "metadata": {},
   "outputs": [
    {
     "data": {
      "text/html": [
       "<div>\n",
       "<style scoped>\n",
       "    .dataframe tbody tr th:only-of-type {\n",
       "        vertical-align: middle;\n",
       "    }\n",
       "\n",
       "    .dataframe tbody tr th {\n",
       "        vertical-align: top;\n",
       "    }\n",
       "\n",
       "    .dataframe thead th {\n",
       "        text-align: right;\n",
       "    }\n",
       "</style>\n",
       "<table border=\"1\" class=\"dataframe\">\n",
       "  <thead>\n",
       "    <tr style=\"text-align: right;\">\n",
       "      <th></th>\n",
       "      <th>PLAYER_NAME</th>\n",
       "      <th>TOTAL_ATTEMPTS</th>\n",
       "      <th>TOTAL_MADE</th>\n",
       "      <th>3PT_PCT</th>\n",
       "      <th>RAPM__Def</th>\n",
       "      <th>FREQ_PCT</th>\n",
       "      <th>DRAPM_RANK</th>\n",
       "      <th>3PT_RANK</th>\n",
       "      <th>TOTAL_RANK</th>\n",
       "    </tr>\n",
       "  </thead>\n",
       "  <tbody>\n",
       "    <tr>\n",
       "      <th>33</th>\n",
       "      <td>Terrance Ferguson</td>\n",
       "      <td>201.0</td>\n",
       "      <td>65.0</td>\n",
       "      <td>0.323383</td>\n",
       "      <td>-1.95</td>\n",
       "      <td>0.710448</td>\n",
       "      <td>42.0</td>\n",
       "      <td>37.0</td>\n",
       "      <td>39.5</td>\n",
       "    </tr>\n",
       "    <tr>\n",
       "      <th>37</th>\n",
       "      <td>Torrey Craig</td>\n",
       "      <td>187.0</td>\n",
       "      <td>60.0</td>\n",
       "      <td>0.320856</td>\n",
       "      <td>-1.80</td>\n",
       "      <td>0.512192</td>\n",
       "      <td>40.0</td>\n",
       "      <td>39.0</td>\n",
       "      <td>39.5</td>\n",
       "    </tr>\n",
       "    <tr>\n",
       "      <th>15</th>\n",
       "      <td>Jae Crowder</td>\n",
       "      <td>451.0</td>\n",
       "      <td>145.0</td>\n",
       "      <td>0.321508</td>\n",
       "      <td>-1.70</td>\n",
       "      <td>0.620590</td>\n",
       "      <td>39.0</td>\n",
       "      <td>38.0</td>\n",
       "      <td>38.5</td>\n",
       "    </tr>\n",
       "    <tr>\n",
       "      <th>38</th>\n",
       "      <td>Trevor Ariza</td>\n",
       "      <td>394.0</td>\n",
       "      <td>126.0</td>\n",
       "      <td>0.319797</td>\n",
       "      <td>-0.25</td>\n",
       "      <td>0.653587</td>\n",
       "      <td>26.0</td>\n",
       "      <td>40.0</td>\n",
       "      <td>33.0</td>\n",
       "    </tr>\n",
       "    <tr>\n",
       "      <th>28</th>\n",
       "      <td>Pat Connaughton</td>\n",
       "      <td>231.0</td>\n",
       "      <td>80.0</td>\n",
       "      <td>0.346320</td>\n",
       "      <td>-0.40</td>\n",
       "      <td>0.557586</td>\n",
       "      <td>30.0</td>\n",
       "      <td>30.0</td>\n",
       "      <td>30.0</td>\n",
       "    </tr>\n",
       "    <tr>\n",
       "      <th>6</th>\n",
       "      <td>CJ Miles</td>\n",
       "      <td>255.0</td>\n",
       "      <td>85.0</td>\n",
       "      <td>0.333333</td>\n",
       "      <td>-0.06</td>\n",
       "      <td>0.725029</td>\n",
       "      <td>21.0</td>\n",
       "      <td>33.0</td>\n",
       "      <td>27.0</td>\n",
       "    </tr>\n",
       "  </tbody>\n",
       "</table>\n",
       "</div>"
      ],
      "text/plain": [
       "          PLAYER_NAME  TOTAL_ATTEMPTS  TOTAL_MADE   3PT_PCT  RAPM__Def  \\\n",
       "33  Terrance Ferguson  201.0           65.0        0.323383 -1.95        \n",
       "37  Torrey Craig       187.0           60.0        0.320856 -1.80        \n",
       "15  Jae Crowder        451.0           145.0       0.321508 -1.70        \n",
       "38  Trevor Ariza       394.0           126.0       0.319797 -0.25        \n",
       "28  Pat Connaughton    231.0           80.0        0.346320 -0.40        \n",
       "6   CJ Miles           255.0           85.0        0.333333 -0.06        \n",
       "\n",
       "    FREQ_PCT  DRAPM_RANK  3PT_RANK  TOTAL_RANK  \n",
       "33  0.710448  42.0        37.0      39.5        \n",
       "37  0.512192  40.0        39.0      39.5        \n",
       "15  0.620590  39.0        38.0      38.5        \n",
       "38  0.653587  26.0        40.0      33.0        \n",
       "28  0.557586  30.0        30.0      30.0        \n",
       "6   0.725029  21.0        33.0      27.0        "
      ]
     },
     "execution_count": 1005,
     "metadata": {},
     "output_type": "execute_result"
    }
   ],
   "source": [
    "rapm_3pt_usg_df_ranking_worst.sort_values(\"TOTAL_RANK\",ascending=False).head(20)"
   ]
  },
  {
   "cell_type": "markdown",
   "metadata": {},
   "source": [
    "## Find one job players"
   ]
  },
  {
   "cell_type": "code",
   "execution_count": 991,
   "metadata": {},
   "outputs": [],
   "source": [
    "rapm_3pt_usg_df_ranking_yellow = rapm_3pt_usg_df_ranking[\\\n",
    "~((rapm_3pt_usg_df_ranking[\"RAPM__Def\"] < avg_rapm) & (rapm_3pt_usg_df_ranking[\"3PT_PCT\"] < avg_shooting_pct)) \\\n",
    "& ~((rapm_3pt_usg_df_ranking[\"RAPM__Def\"] > avg_rapm) & (rapm_3pt_usg_df_ranking[\"3PT_PCT\"] >avg_shooting_pct))]"
   ]
  },
  {
   "cell_type": "code",
   "execution_count": 996,
   "metadata": {},
   "outputs": [
    {
     "data": {
      "text/html": [
       "<div>\n",
       "<style scoped>\n",
       "    .dataframe tbody tr th:only-of-type {\n",
       "        vertical-align: middle;\n",
       "    }\n",
       "\n",
       "    .dataframe tbody tr th {\n",
       "        vertical-align: top;\n",
       "    }\n",
       "\n",
       "    .dataframe thead th {\n",
       "        text-align: right;\n",
       "    }\n",
       "</style>\n",
       "<table border=\"1\" class=\"dataframe\">\n",
       "  <thead>\n",
       "    <tr style=\"text-align: right;\">\n",
       "      <th></th>\n",
       "      <th>PLAYER_NAME</th>\n",
       "      <th>TOTAL_ATTEMPTS</th>\n",
       "      <th>TOTAL_MADE</th>\n",
       "      <th>3PT_PCT</th>\n",
       "      <th>RAPM__Def</th>\n",
       "      <th>FREQ_PCT</th>\n",
       "      <th>TOTAL_RANK</th>\n",
       "      <th>DRAPM_RANK</th>\n",
       "      <th>3PT_RANK</th>\n",
       "    </tr>\n",
       "  </thead>\n",
       "  <tbody>\n",
       "    <tr>\n",
       "      <th>29</th>\n",
       "      <td>Reggie Bullock</td>\n",
       "      <td>262.0</td>\n",
       "      <td>109.0</td>\n",
       "      <td>0.416031</td>\n",
       "      <td>-0.09</td>\n",
       "      <td>0.587109</td>\n",
       "      <td>14.5</td>\n",
       "      <td>22.0</td>\n",
       "      <td>7.0</td>\n",
       "    </tr>\n",
       "    <tr>\n",
       "      <th>9</th>\n",
       "      <td>Davis Bertans</td>\n",
       "      <td>427.0</td>\n",
       "      <td>174.0</td>\n",
       "      <td>0.407494</td>\n",
       "      <td>-0.25</td>\n",
       "      <td>0.747740</td>\n",
       "      <td>18.0</td>\n",
       "      <td>27.0</td>\n",
       "      <td>9.0</td>\n",
       "    </tr>\n",
       "    <tr>\n",
       "      <th>0</th>\n",
       "      <td>Al-Farouq Aminu</td>\n",
       "      <td>192.0</td>\n",
       "      <td>64.0</td>\n",
       "      <td>0.333333</td>\n",
       "      <td>1.54</td>\n",
       "      <td>0.527536</td>\n",
       "      <td>19.0</td>\n",
       "      <td>4.0</td>\n",
       "      <td>34.0</td>\n",
       "    </tr>\n",
       "    <tr>\n",
       "      <th>23</th>\n",
       "      <td>Langston Galloway</td>\n",
       "      <td>389.0</td>\n",
       "      <td>152.0</td>\n",
       "      <td>0.390746</td>\n",
       "      <td>-0.25</td>\n",
       "      <td>0.635901</td>\n",
       "      <td>19.5</td>\n",
       "      <td>25.0</td>\n",
       "      <td>14.0</td>\n",
       "    </tr>\n",
       "    <tr>\n",
       "      <th>13</th>\n",
       "      <td>Furkan Korkmaz</td>\n",
       "      <td>178.0</td>\n",
       "      <td>75.0</td>\n",
       "      <td>0.421348</td>\n",
       "      <td>-0.88</td>\n",
       "      <td>0.608344</td>\n",
       "      <td>19.5</td>\n",
       "      <td>33.0</td>\n",
       "      <td>6.0</td>\n",
       "    </tr>\n",
       "  </tbody>\n",
       "</table>\n",
       "</div>"
      ],
      "text/plain": [
       "          PLAYER_NAME  TOTAL_ATTEMPTS  TOTAL_MADE   3PT_PCT  RAPM__Def  \\\n",
       "29  Reggie Bullock     262.0           109.0       0.416031 -0.09        \n",
       "9   Davis Bertans      427.0           174.0       0.407494 -0.25        \n",
       "0   Al-Farouq Aminu    192.0           64.0        0.333333  1.54        \n",
       "23  Langston Galloway  389.0           152.0       0.390746 -0.25        \n",
       "13  Furkan Korkmaz     178.0           75.0        0.421348 -0.88        \n",
       "\n",
       "    FREQ_PCT  TOTAL_RANK  DRAPM_RANK  3PT_RANK  \n",
       "29  0.587109  14.5        22.0        7.0       \n",
       "9   0.747740  18.0        27.0        9.0       \n",
       "0   0.527536  19.0        4.0         34.0      \n",
       "23  0.635901  19.5        25.0        14.0      \n",
       "13  0.608344  19.5        33.0        6.0       "
      ]
     },
     "execution_count": 996,
     "metadata": {},
     "output_type": "execute_result"
    }
   ],
   "source": [
    "rapm_3pt_usg_df_ranking_yellow.sort_values(\"TOTAL_RANK\",ascending=True).head(5)"
   ]
  },
  {
   "cell_type": "code",
   "execution_count": null,
   "metadata": {},
   "outputs": [],
   "source": []
  },
  {
   "cell_type": "code",
   "execution_count": null,
   "metadata": {},
   "outputs": [],
   "source": []
  },
  {
   "cell_type": "code",
   "execution_count": null,
   "metadata": {},
   "outputs": [],
   "source": []
  },
  {
   "cell_type": "code",
   "execution_count": 779,
   "metadata": {},
   "outputs": [],
   "source": [
    "# from IPython.display import HTML\n",
    "# import base64\n",
    "\n",
    "# def image_formatter(im):\n",
    "#     return f'<img src=\"data:image/jpeg;base64,{image_base64(im)}\" width=50 height=50>'\n",
    "\n",
    "# def image_base64(im):\n",
    "#     if isinstance(im, str):\n",
    "#         im = get_thumbnail(im)\n",
    "#     with BytesIO() as buffer:\n",
    "#         im = im.convert(\"RGB\")\n",
    "#         im.save(buffer, 'jpeg')\n",
    "#         return base64.b64encode(buffer.getvalue()).decode()\n",
    "    \n",
    "# def get_thumbnail(path):\n",
    "#     i = Image.open(path)\n",
    "#     i.thumbnail((150, 150), Image.LANCZOS)\n",
    "#     return i\n",
    "    \n",
    "# from PIL import Image\n",
    "# import requests\n",
    "# from io import BytesIO\n",
    "# rpm_3pt_usg_df_ranking_best[\"pic\"] = \"\"\n",
    "# for index,row in rpm_3pt_usg_df_ranking_best.iterrows():\n",
    "#     player_name = rpm_3pt_usg_df_ranking_best[\"PLAYER_NAME\"][index].split(\" \")\n",
    "#     payload = {}\n",
    "#     response = requests.request(\"GET\",\"https://nba-players.herokuapp.com/players/{0}/{1}\".format(player_name[1],player_name[0]),params={},headers=headers,data = payload)\n",
    "#     try:\n",
    "#         img = Image.open(BytesIO(response.content))\n",
    "    \n",
    "#     except:\n",
    "#         response = requests.request(\"GET\",\"https://nba-players.herokuapp.com/players/curry/stephen\",params={},headers=headers,data = payload)\n",
    "#         img = None#Image.open(BytesIO(response.content))\n",
    "    \n",
    "#     rpm_3pt_usg_df_ranking_best[\"pic\"][index] = img\n",
    "#     #break\n",
    "\n",
    "# # rpm_3pt_usg_df_ranking_worst[\"pic\"] = img\n",
    "# #HTML(rpm_3pt_usg_df_ranking_best.to_html(formatters={'pic': image_formatter}, escape=False))\n"
   ]
  },
  {
   "cell_type": "code",
   "execution_count": 880,
   "metadata": {},
   "outputs": [
    {
     "data": {
      "image/png": "[encoded data removed]",
      "text/plain": [
       "<Figure size 1440x1080 with 1 Axes>"
      ]
     },
     "metadata": {
      "needs_background": "light"
     },
     "output_type": "display_data"
    }
   ],
   "source": [
    "# split here to two graph because overlap of text\n",
    "#rapm_3pt_usg_df = usage_3pt_merge.merge(rapm_df,on=\"PLAYER_NAME\")\n",
    "#rapm_3pt_usg_df = rapm_3pt_usg_df.sort_values(\"RAPM__Def\")\n",
    "#rapm_3pt_usg_df = rapm_3pt_usg_df[~rapm_3pt_usg_df[\"PLAYER_NAME\"].isin([\"Pat Connaughton\",\"Trey Lyles\",\"Danilo Gallinari\",\"Tim Hardaway Jr.\",\"Markieff Morris\",\"Bojan Bogdanovic\",\"OG Anunoby\",\"Jaylen Brown\",\"Langston Galloway\",\"Mikal Bridges\",\"DeMarre Carroll\",\"Kyle Kuzma\"])]\n",
    "                                                                    \n",
    "ax = rapm_3pt_usg_df_ranking.plot.scatter(x=\"3PT_PCT\",y=\"DRAPM_NORMALIZE\",figsize=(20,15))\n",
    "ax.add_patch(Rectangle((min_shot_pct,min_drpm), avg_shooting_pct - min_shot_pct , abs(avg_rapm - min_drpm),color='red',alpha=alpha))\n",
    "ax.add_patch(Rectangle((min_shot_pct,avg_rapm), avg_shooting_pct - min_shot_pct , abs(max_drpm - avg_rapm),color='yellow',alpha=alpha))\n",
    "ax.add_patch(Rectangle((avg_shooting_pct,min_drpm), max_shot_pct - avg_shooting_pct , abs(avg_rapm - min_drpm),color='yellow',alpha=alpha))\n",
    "ax.add_patch(Rectangle((avg_shooting_pct,avg_rapm), max_shot_pct - avg_shooting_pct , abs(max_drpm - avg_rapm),color='green',alpha=alpha))\n",
    "ax.set_ylim(0.25,0.49)\n",
    "for i, txt in enumerate(rapm_3pt_usg_df.PLAYER_NAME):\n",
    "    last_name_cnt = rapm_3pt_usg_df_ranking[rapm_3pt_usg_df_ranking[\"PLAYER_NAME\"].str.contains(\" \" + txt.split(\" \")[1])].count()[\"TOTAL_RANK\"]\n",
    "        \n",
    "    if(last_name_cnt > 1): # take first name and last name\n",
    "        name = txt.split(\" \")[0][0] + \".\" + txt.split(\" \")[1]\n",
    "    else: # take last name\n",
    "        name = txt.split(\" \")[1]\n",
    "\n",
    "    ax.annotate( name, (rapm_3pt_usg_df_ranking[\"3PT_PCT\"].iat[i],rapm_3pt_usg_df_ranking[\"DRAPM_NORMALIZE\"].iat[i]),\\\n",
    "                xytext=(rapm_3pt_usg_df_ranking[\"3PT_PCT\"].iat[i],rapm_3pt_usg_df_ranking[\"DRAPM_NORMALIZE\"].iat[i]), textcoords='data',rotation=0)\n",
    "\n",
    "plt.show()"
   ]
  },
  {
   "cell_type": "code",
   "execution_count": null,
   "metadata": {},
   "outputs": [],
   "source": []
  }
 ],
 "metadata": {
  "kernelspec": {
   "display_name": "Python 3",
   "language": "python",
   "name": "python3"
  },
  "language_info": {
   "codemirror_mode": {
    "name": "ipython",
    "version": 3
   },
   "file_extension": ".py",
   "mimetype": "text/x-python",
   "name": "python",
   "nbconvert_exporter": "python",
   "pygments_lexer": "ipython3",
   "version": "3.8.0"
  }
 },
 "nbformat": 4,
 "nbformat_minor": 2
}
