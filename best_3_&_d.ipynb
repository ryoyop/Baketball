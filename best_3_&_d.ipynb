{
 "cells": [
  {
   "cell_type": "markdown",
   "metadata": {},
   "source": [
    "## Import & Conf"
   ]
  },
  {
   "cell_type": "code",
   "execution_count": 1,
   "metadata": {},
   "outputs": [],
   "source": [
    "import pandas as pd\n",
    "import numpy as np\n",
    "import matplotlib.pyplot as plt\n",
    "import requests\n",
    "import warnings\n",
    "warnings.filterwarnings('ignore')"
   ]
  },
  {
   "cell_type": "markdown",
   "metadata": {},
   "source": [
    "# Build the api"
   ]
  },
  {
   "cell_type": "code",
   "execution_count": 2,
   "metadata": {},
   "outputs": [],
   "source": [
    "headers = {\n",
    "  'Referer': 'https://stats.nba.com/players/shots-dribbles',\n",
    "  'User-Agent': 'Mozilla/5.0 (Windows NT 10.0; Win64; x64) AppleWebKit/537.36 (KHTML, like Gecko) Chrome/79.0.3945.130 Safari/537.36',\n",
    "  'x-nba-stats-origin': 'stats'\n",
    "}"
   ]
  },
  {
   "cell_type": "code",
   "execution_count": 3,
   "metadata": {},
   "outputs": [],
   "source": [
    "def get_shooting_stats(  url=\"http://stats.nba.com/stats/leaguedashplayerptshot?\",\n",
    "                PerMode=\"PerGame\",\n",
    "                LeagueID = \"00\",\n",
    "                Season = \"2019-20\",\n",
    "                SeasonType = \"Regular Season\",\n",
    "                PORound= 0,\n",
    "                CloseDefDistRange= '',\n",
    "                ShotClockRange='',\n",
    "                ShotDistRange= '',#'> 5',\n",
    "                TouchTimeRange= '',\n",
    "                DribbleRange= \"0 Dribbles\",\n",
    "                GeneralRange= '',\n",
    "                TeamID= 0,\n",
    "                Outcome= '',\n",
    "                Location= '',\n",
    "                Month= 0,\n",
    "                SeasonSegment= '',\n",
    "                DateFrom= '',\n",
    "                DateTo= '',\n",
    "                OpponentTeamID= 0,\n",
    "                VsConference= '',\n",
    "                VsDivision= '',\n",
    "                Conference= '',\n",
    "                Division= '',\n",
    "                GameSegment= '',\n",
    "                Period= 0,\n",
    "                LastNGames= 0):\n",
    "    url = url\n",
    "    api_param = {\n",
    "    \"PerMode\": PerMode,\n",
    "    \"LeagueID\": LeagueID,\n",
    "    \"Season\": Season,\n",
    "    \"SeasonType\": SeasonType,\n",
    "    \"PORound\": PORound,\n",
    "    \"CloseDefDistRange\": CloseDefDistRange,#'0-2 Feet - Very Tight',\n",
    "    \"ShotClockRange\":ShotClockRange,\n",
    "    \"ShotDistRange\": ShotDistRange,#'> 5',\n",
    "    \"TouchTimeRange\": TouchTimeRange,\n",
    "    \"DribbleRange\": DribbleRange,\n",
    "    \"GeneralRange\": GeneralRange,\n",
    "    \"TeamID\": TeamID,\n",
    "    \"Outcome\": Outcome,\n",
    "    \"Location\": Location,\n",
    "    \"Month\": Month,\n",
    "    \"SeasonSegment\": SeasonSegment,\n",
    "    \"DateFrom\": DateFrom,\n",
    "    \"DateTo\": DateTo,\n",
    "    \"OpponentTeamID\": OpponentTeamID,\n",
    "    \"VsConference\": VsConference,\n",
    "    \"VsDivision\": VsDivision,\n",
    "    \"Conference\": Conference,\n",
    "    \"Division\": Division,\n",
    "    \"GameSegment\": GameSegment,\n",
    "    \"Period\": Period,\n",
    "    \"LastNGames\": LastNGames\n",
    "    }\n",
    "    payload = {}\n",
    "    response = requests.request(\"GET\",url,params=api_param,headers=headers,data = payload)\n",
    "    data = response.json()\n",
    "    df = pd.DataFrame(data['resultSets'][0]['rowSet'],columns=data['resultSets'][0]['headers'])\n",
    "    df[\"Season\"] = Season\n",
    "    df[\"CloseDefDistRange\"] = CloseDefDistRange\n",
    "    df[\"DribbleRange\"] = DribbleRange\n",
    "    return df\n",
    "\n",
    "def seasons_string(start,end):\n",
    "    '''\n",
    "    creates a list of NBA seasons from start-end\n",
    "    '''\n",
    "    years = np.arange(start,end+1)\n",
    "    seasons = []\n",
    "    for year in years:\n",
    "        string1 = str(year)\n",
    "        string2 = str(year+1)\n",
    "        season = '{}-{}'.format(string1,string2[-2:])\n",
    "        seasons.append(season)\n",
    "    return seasons\n",
    "\n",
    "def get_usg_stats(  url=\"http://stats.nba.com/stats/leaguedashplayerstats?\",\n",
    "                MeasureType= \"Advanced\",\n",
    "                PerMode= \"PerGame\",\n",
    "                PlusMinus= \"N\",\n",
    "                PaceAdjust= \"N\",\n",
    "                Rank= \"N\",\n",
    "                LeagueID= \"00\",\n",
    "                Season= \"2019-20\",\n",
    "                SeasonType= \"Regular Season\",\n",
    "                PORound= 0,\n",
    "                Outcome= '',\n",
    "                Location= '',\n",
    "                Month= 0,\n",
    "                SeasonSegment= '',\n",
    "                DateFrom= '',\n",
    "                DateTo= '',\n",
    "                OpponentTeamID= 0,\n",
    "                VsConference= '',\n",
    "                VsDivision= '',\n",
    "                TeamID= 0,\n",
    "                Conference= '',\n",
    "                Division= '',\n",
    "                GameSegment= '',\n",
    "                Period= 0,\n",
    "                ShotClockRange= '',\n",
    "                LastNGames= 0,\n",
    "                GameScope= '',\n",
    "                PlayerExperience= '',\n",
    "                PlayerPosition= '',\n",
    "                StarterBench= '',\n",
    "                DraftYear= '',\n",
    "                DraftPick= '',\n",
    "                College= '',\n",
    "                Country= '',\n",
    "                Height= '',\n",
    "                Weight= '',\n",
    "                TwoWay= 0):\n",
    "    url = url\n",
    "    api_param = {\n",
    "    \"MeasureType\":MeasureType,\n",
    "    \"PerMode\":PerMode,\n",
    "    \"PlusMinus\":PlusMinus,\n",
    "    \"PaceAdjust\":PaceAdjust,\n",
    "    \"Rank\":Rank,\n",
    "    \"LeagueID\":LeagueID,\n",
    "    \"Season\":Season,\n",
    "    \"SeasonType\":SeasonType,\n",
    "    \"PORound\":PORound,\n",
    "    \"Outcome\":Outcome,\n",
    "    \"Location\":Location,\n",
    "    \"Month\":Month,\n",
    "    \"SeasonSegment\":SeasonSegment,\n",
    "    \"DateFrom\":DateFrom,\n",
    "    \"DateTo\":DateTo,\n",
    "    \"OpponentTeamID\":OpponentTeamID,\n",
    "    \"VsConference\":VsConference,\n",
    "    \"VsDivision\":VsDivision,\n",
    "    \"TeamID\":TeamID,\n",
    "    \"Conference\":Conference,\n",
    "    \"Division\":Division,\n",
    "    \"GameSegment\":GameSegment,\n",
    "    \"Period\":Period,\n",
    "    \"ShotClockRange\":ShotClockRange,\n",
    "    \"LastNGames\":LastNGames,\n",
    "    \"GameScope\":GameScope,\n",
    "    \"PlayerExperience\":PlayerExperience,\n",
    "    \"PlayerPosition\":PlayerPosition,\n",
    "    \"StarterBench\":StarterBench,\n",
    "    \"DraftYear\":DraftYear,\n",
    "    \"DraftPick\":DraftPick,\n",
    "    \"College\":College,\n",
    "    \"Country\":Country,\n",
    "    \"Height\":Height,\n",
    "    \"Weight\":Weight,\n",
    "    \"TwoWay\":TwoWay\n",
    "    }\n",
    "    payload = {}\n",
    "    response = requests.request(\"GET\",url,params=api_param,headers=headers,data = payload)\n",
    "    data = response.json()\n",
    "    df = pd.DataFrame(data['resultSets'][0]['rowSet'],columns=data['resultSets'][0]['headers'])\n",
    "    df[\"Season\"] = Season\n",
    "#     df[\"CloseDefDistRange\"] = CloseDefDistRange\n",
    "#     df[\"DribbleRange\"] = DribbleRange\n",
    "    return df\n",
    "\n",
    "\n",
    "def get_def_diff_pct_stats(url=\"https://stats.nba.com/stats/leaguedashptdefend?\",\n",
    "                PerMode= \"PerGame\",\n",
    "                LeagueID= \"00\",\n",
    "                Season= \"2019-20\",\n",
    "                SeasonType= \"Regular Season\",\n",
    "                PORound= 0,\n",
    "                PlayerID= '',\n",
    "                TeamID= 0,\n",
    "                Outcome= '',\n",
    "                Location= '',\n",
    "                Month= 0,\n",
    "                SeasonSegment= '',\n",
    "                DateFrom= '',\n",
    "                DateTo= '',\n",
    "                OpponentTeamID= 0,\n",
    "                VsConference= '',\n",
    "                VsDivision= '',\n",
    "                Conference= '',\n",
    "                Division= '',\n",
    "                GameSegment= '',\n",
    "                Period= 0,\n",
    "                LastNGames= 0,\n",
    "                DraftYear= '',\n",
    "                DraftPick= '',\n",
    "                College= '',\n",
    "                Country= '',\n",
    "                Height= '',\n",
    "                Weight= '',\n",
    "                PlayerExperience= '',\n",
    "                PlayerPosition= '',\n",
    "                StarterBench= '',\n",
    "                DefenseCategory= \"Overall\"):\n",
    "    url = url\n",
    "    api_param = {\n",
    "    \"PerMode\":PerMode,\n",
    "    \"LeagueID\":LeagueID,\n",
    "    \"Season\":Season,\n",
    "    \"SeasonType\":SeasonType,\n",
    "    \"PORound\":PORound,\n",
    "    \"PlayerID\":PlayerID,\n",
    "    \"TeamID\":TeamID,\n",
    "    \"Outcome\":Outcome,\n",
    "    \"Location\":Location,\n",
    "    \"Month\":Month,\n",
    "    \"SeasonSegment\":SeasonSegment,\n",
    "    \"DateFrom\":DateFrom,\n",
    "    \"DateTo\":DateTo,\n",
    "    \"OpponentTeamID\":OpponentTeamID,\n",
    "    \"VsConference\":VsConference,\n",
    "    \"VsDivision\":VsDivision,\n",
    "    \"Conference\":Conference,\n",
    "    \"Division\":Division,\n",
    "    \"GameSegment\":GameSegment,\n",
    "    \"Period\":Period,\n",
    "    \"LastNGames\":LastNGames,\n",
    "    \"DraftYear\":DraftYear,\n",
    "    \"DraftPick\":DraftPick,\n",
    "    \"College\":College,\n",
    "    \"Country\":Country,\n",
    "    \"Height\":Height,\n",
    "    \"Weight\":Weight,\n",
    "    \"PlayerExperience\":PlayerExperience,\n",
    "    \"PlayerPosition\":PlayerPosition,\n",
    "    \"StarterBench\":StarterBench,\n",
    "    \"DefenseCategory\":DefenseCategory\n",
    "}\n",
    "\n",
    "    payload = {}\n",
    "    response = requests.request(\"GET\",url,params=api_param,headers=headers,data = payload)\n",
    "    data = response.json()\n",
    "    df = pd.DataFrame(data['resultSets'][0]['rowSet'],columns=data['resultSets'][0]['headers'])\n",
    "    df[\"Season\"] = Season\n",
    "#     df[\"CloseDefDistRange\"] = CloseDefDistRange\n",
    "#     df[\"DribbleRange\"] = DribbleRange\n",
    "    return df\n",
    "    \n",
    "def get_shooting_stats(  url=\"http://stats.nba.com/stats/leaguedashplayerptshot?\",\n",
    "                PerMode=\"PerGame\",\n",
    "                LeagueID = \"00\",\n",
    "                Season = \"2019-20\",\n",
    "                SeasonType = \"Regular Season\",\n",
    "                PORound= 0,\n",
    "                CloseDefDistRange= '',\n",
    "                ShotClockRange='',\n",
    "                ShotDistRange= '',#'> 5',\n",
    "                TouchTimeRange= '',\n",
    "                DribbleRange= \"0 Dribbles\",\n",
    "                GeneralRange= '',\n",
    "                TeamID= 0,\n",
    "                Outcome= '',\n",
    "                Location= '',\n",
    "                Month= 0,\n",
    "                SeasonSegment= '',\n",
    "                DateFrom= '',\n",
    "                DateTo= '',\n",
    "                OpponentTeamID= 0,\n",
    "                VsConference= '',\n",
    "                VsDivision= '',\n",
    "                Conference= '',\n",
    "                Division= '',\n",
    "                GameSegment= '',\n",
    "                Period= 0,\n",
    "                LastNGames= 0):\n",
    "    url = url\n",
    "    api_param = {\n",
    "    \"PerMode\": PerMode,\n",
    "    \"LeagueID\": LeagueID,\n",
    "    \"Season\": Season,\n",
    "    \"SeasonType\": SeasonType,\n",
    "    \"PORound\": PORound,\n",
    "    \"CloseDefDistRange\": CloseDefDistRange,#'0-2 Feet - Very Tight',\n",
    "    \"ShotClockRange\":ShotClockRange,\n",
    "    \"ShotDistRange\": ShotDistRange,#'> 5',\n",
    "    \"TouchTimeRange\": TouchTimeRange,\n",
    "    \"DribbleRange\": DribbleRange,\n",
    "    \"GeneralRange\": GeneralRange,\n",
    "    \"TeamID\": TeamID,\n",
    "    \"Outcome\": Outcome,\n",
    "    \"Location\": Location,\n",
    "    \"Month\": Month,\n",
    "    \"SeasonSegment\": SeasonSegment,\n",
    "    \"DateFrom\": DateFrom,\n",
    "    \"DateTo\": DateTo,\n",
    "    \"OpponentTeamID\": OpponentTeamID,\n",
    "    \"VsConference\": VsConference,\n",
    "    \"VsDivision\": VsDivision,\n",
    "    \"Conference\": Conference,\n",
    "    \"Division\": Division,\n",
    "    \"GameSegment\": GameSegment,\n",
    "    \"Period\": Period,\n",
    "    \"LastNGames\": LastNGames\n",
    "    }\n",
    "    payload = {}\n",
    "    response = requests.request(\"GET\",url,params=api_param,headers=headers,data = payload)\n",
    "    data = response.json()\n",
    "    df = pd.DataFrame(data['resultSets'][0]['rowSet'],columns=data['resultSets'][0]['headers'])\n",
    "    df[\"Season\"] = Season\n",
    "    df[\"CloseDefDistRange\"] = CloseDefDistRange\n",
    "    df[\"DribbleRange\"] = DribbleRange\n",
    "    return df"
   ]
  },
  {
   "cell_type": "markdown",
   "metadata": {},
   "source": [
    "# Conf"
   ]
  },
  {
   "cell_type": "code",
   "execution_count": 4,
   "metadata": {},
   "outputs": [],
   "source": [
    "minimum_minuites = 20 * 50\n",
    "start_season = 2017\n",
    "end_season = 2019"
   ]
  },
  {
   "cell_type": "markdown",
   "metadata": {},
   "source": [
    "## functions"
   ]
  },
  {
   "cell_type": "code",
   "execution_count": 5,
   "metadata": {},
   "outputs": [],
   "source": [
    "def minuites_filter(df):\n",
    "    return df[(df[\"SUM_MIN\"] > minimum_minuites)]"
   ]
  },
  {
   "cell_type": "markdown",
   "metadata": {},
   "source": [
    "## Shooting analytics"
   ]
  },
  {
   "cell_type": "markdown",
   "metadata": {},
   "source": [
    "## Conf"
   ]
  },
  {
   "cell_type": "code",
   "execution_count": 55,
   "metadata": {},
   "outputs": [],
   "source": [
    "min_shots_attempts = 150\n",
    "dribbles = [\"0 Dribbles\",\"1 Dribble\"]\n",
    "CloseDefDistRanges = ['4-6 Feet - Open'] #['0-2 Feet - Very Tight','2-4 Feet - Tight','4-6 Feet - Open','']#['4-6 Feet - Open']#\n",
    "relevant_3pt_columns = [\"PLAYER_NAME\",\"GP\",\"TOTAL_ATTEMPTS\",\"CloseDefDistRange\",\"DribbleRange\",\"TOTAL_MADE\",\"Season\"]"
   ]
  },
  {
   "cell_type": "markdown",
   "metadata": {},
   "source": [
    "## Read From API"
   ]
  },
  {
   "cell_type": "code",
   "execution_count": 7,
   "metadata": {},
   "outputs": [],
   "source": [
    "df = []\n",
    "all_shots_df = []\n",
    "for season in seasons_string(start_season,end_season):\n",
    "    all_shots_df.append(get_shooting_stats(Season=season,CloseDefDistRange='',DribbleRange=''))\n",
    "    for dribble in dribbles:\n",
    "        for closeDefDistRange in CloseDefDistRanges:\n",
    "            df.append(get_shooting_stats(Season=season,CloseDefDistRange=closeDefDistRange,DribbleRange=dribble))\n",
    "shooting_stats_df = pd.concat([x for x in df],ignore_index=True)\n",
    "all_shots_df = pd.concat([x for x in all_shots_df],ignore_index=True)\n"
   ]
  },
  {
   "cell_type": "markdown",
   "metadata": {},
   "source": [
    "## Aggregate attempts - enganeering"
   ]
  },
  {
   "cell_type": "code",
   "execution_count": 8,
   "metadata": {},
   "outputs": [],
   "source": [
    "df_3pt = shooting_stats_df\n",
    "df_3pt[\"TOTAL_ATTEMPTS\"] = round(df_3pt[\"GP\"] * df_3pt[\"FG3A\"])\n",
    "df_3pt[\"TOTAL_MADE\"]     = round(df_3pt[\"GP\"] * df_3pt[\"FG3M\"])\n"
   ]
  },
  {
   "cell_type": "code",
   "execution_count": 9,
   "metadata": {},
   "outputs": [],
   "source": [
    "all_shots_df[\"TOTAL_3S\"]    = round(all_shots_df[\"GP\"] * all_shots_df[\"FG3A\"])\n",
    "all_shots_df[\"TOTAL_SHOTS\"] = all_shots_df[\"GP\"] * all_shots_df[\"FGA\"]"
   ]
  },
  {
   "cell_type": "markdown",
   "metadata": {},
   "source": [
    "## Group data to last season"
   ]
  },
  {
   "cell_type": "code",
   "execution_count": 10,
   "metadata": {},
   "outputs": [],
   "source": [
    "df_3pt_summary = df_3pt[relevant_3pt_columns].groupby(\"PLAYER_NAME\",as_index=False).sum()\n",
    "df_3pt_summary[\"3PT_PCT\"] = df_3pt_summary[\"TOTAL_MADE\"] / df_3pt_summary[\"TOTAL_ATTEMPTS\"]"
   ]
  },
  {
   "cell_type": "code",
   "execution_count": 11,
   "metadata": {},
   "outputs": [],
   "source": [
    "all_shots_summary = all_shots_df.groupby(\"PLAYER_NAME\",as_index=False).sum()\n",
    "all_shots_summary[\"FREQ_PCT\"] = all_shots_summary[\"TOTAL_3S\"] / all_shots_summary[\"TOTAL_SHOTS\"]\n",
    "df_3pt_frequency = all_shots_summary[[\"FREQ_PCT\",\"PLAYER_NAME\"]]"
   ]
  },
  {
   "cell_type": "markdown",
   "metadata": {},
   "source": [
    "## add 3pt frequency to our 3pt shots"
   ]
  },
  {
   "cell_type": "code",
   "execution_count": 51,
   "metadata": {},
   "outputs": [],
   "source": [
    "df_3pt_freq_pct = df_3pt_summary.merge(df_3pt_frequency)\n"
   ]
  },
  {
   "cell_type": "markdown",
   "metadata": {},
   "source": [
    "## Calculate avargaes to filter data"
   ]
  },
  {
   "cell_type": "code",
   "execution_count": 13,
   "metadata": {},
   "outputs": [],
   "source": [
    "avg_3pt_freq = (all_shots_summary[\"TOTAL_3S\"].sum() / all_shots_summary[\"TOTAL_SHOTS\"].sum())\n",
    "avg_shooting_pct = (df_3pt_freq_pct[\"TOTAL_MADE\"].sum() / df_3pt_freq_pct[\"TOTAL_ATTEMPTS\"].sum())"
   ]
  },
  {
   "cell_type": "markdown",
   "metadata": {},
   "source": [
    "## Filter data"
   ]
  },
  {
   "cell_type": "code",
   "execution_count": 58,
   "metadata": {},
   "outputs": [],
   "source": [
    "min_attemps_filter = df_3pt_freq_pct[\"TOTAL_ATTEMPTS\"] > min_shots_attempts\n",
    "above_avg_freq_filter = df_3pt_freq_pct[\"FREQ_PCT\"] > avg_3pt_freq\n",
    "df_3pt_freq_pct_filtered = df_3pt_freq_pct[min_attemps_filter]\n",
    "df_3pt_freq_pct_filtered = df_3pt_freq_pct_filtered[above_avg_freq_filter]\n",
    "df_3pt_freq_pct_filtered = df_3pt_freq_pct_filtered.drop([\"GP\"],axis=1)\n"
   ]
  },
  {
   "cell_type": "code",
   "execution_count": 59,
   "metadata": {},
   "outputs": [
    {
     "data": {
      "text/html": [
       "<div>\n",
       "<style scoped>\n",
       "    .dataframe tbody tr th:only-of-type {\n",
       "        vertical-align: middle;\n",
       "    }\n",
       "\n",
       "    .dataframe tbody tr th {\n",
       "        vertical-align: top;\n",
       "    }\n",
       "\n",
       "    .dataframe thead th {\n",
       "        text-align: right;\n",
       "    }\n",
       "</style>\n",
       "<table border=\"1\" class=\"dataframe\">\n",
       "  <thead>\n",
       "    <tr style=\"text-align: right;\">\n",
       "      <th></th>\n",
       "      <th>PLAYER_NAME</th>\n",
       "      <th>TOTAL_ATTEMPTS</th>\n",
       "      <th>TOTAL_MADE</th>\n",
       "      <th>3PT_PCT</th>\n",
       "      <th>FREQ_PCT</th>\n",
       "    </tr>\n",
       "  </thead>\n",
       "  <tbody>\n",
       "  </tbody>\n",
       "</table>\n",
       "</div>"
      ],
      "text/plain": [
       "Empty DataFrame\n",
       "Columns: [PLAYER_NAME, TOTAL_ATTEMPTS, TOTAL_MADE, 3PT_PCT, FREQ_PCT]\n",
       "Index: []"
      ]
     },
     "execution_count": 59,
     "metadata": {},
     "output_type": "execute_result"
    }
   ],
   "source": [
    "df_3pt_freq_pct_filtered[df_3pt_freq_pct_filtered[\"PLAYER_NAME\"] == \"Matisse Thybulle\"]"
   ]
  },
  {
   "cell_type": "markdown",
   "metadata": {},
   "source": [
    "# Usage Analytics"
   ]
  },
  {
   "cell_type": "markdown",
   "metadata": {},
   "source": [
    "## Conf"
   ]
  },
  {
   "cell_type": "code",
   "execution_count": 60,
   "metadata": {},
   "outputs": [],
   "source": [
    "max_usg_pct = 0.25"
   ]
  },
  {
   "cell_type": "markdown",
   "metadata": {},
   "source": [
    "## Read From API"
   ]
  },
  {
   "cell_type": "code",
   "execution_count": 61,
   "metadata": {},
   "outputs": [],
   "source": [
    "df = []\n",
    "for season in seasons_string(start_season,end_season):\n",
    "    df.append(get_usg_stats(Season=season))\n",
    "usg_stats_df = pd.concat([x for x in df],ignore_index=True)"
   ]
  },
  {
   "cell_type": "markdown",
   "metadata": {},
   "source": [
    "## Calculate totals before group"
   ]
  },
  {
   "cell_type": "code",
   "execution_count": 88,
   "metadata": {},
   "outputs": [],
   "source": [
    "usg_stats_df[\"TOTAL_USG\"]     = usg_stats_df[\"USG_PCT\"] * usg_stats_df[\"GP\"] * usg_stats_df[\"MIN\"]\n",
    "usg_stats_df[\"TOTAL_AST_PCT\"] = usg_stats_df[\"AST_PCT\"] * usg_stats_df[\"GP\"] * usg_stats_df[\"MIN\"]\n",
    "usg_stats_df[\"TOTAL_MIN\"]     = usg_stats_df[\"GP\"] * usg_stats_df[\"MIN\"]"
   ]
  },
  {
   "cell_type": "markdown",
   "metadata": {},
   "source": [
    "## Check for players that play in last season"
   ]
  },
  {
   "cell_type": "code",
   "execution_count": 63,
   "metadata": {},
   "outputs": [],
   "source": [
    "relevant_season = usg_stats_df.groupby([\"PLAYER_NAME\"],as_index=False).max()[[\"PLAYER_NAME\",\"Season\"]]\n",
    "relevant_season = relevant_season[relevant_season[\"Season\"] == \"2019-20\"]"
   ]
  },
  {
   "cell_type": "markdown",
   "metadata": {},
   "source": [
    "## Group data toghter and enganeering"
   ]
  },
  {
   "cell_type": "code",
   "execution_count": 64,
   "metadata": {},
   "outputs": [],
   "source": [
    "usg_stats_summary = usg_stats_df.groupby(\"PLAYER_NAME\",as_index=False).sum()"
   ]
  },
  {
   "cell_type": "code",
   "execution_count": 65,
   "metadata": {},
   "outputs": [],
   "source": [
    "usg_stats_summary[\"USG_PCT\"] = usg_stats_summary[\"TOTAL_USG\"] / usg_stats_summary[\"TOTAL_MIN\"]\n",
    "usg_stats_summary[\"AST_PCT\"] = usg_stats_summary[\"TOTAL_AST_PCT\"] / usg_stats_summary[\"TOTAL_MIN\"]"
   ]
  },
  {
   "cell_type": "markdown",
   "metadata": {},
   "source": [
    "## Calculate avarage for filter and filer"
   ]
  },
  {
   "cell_type": "code",
   "execution_count": 66,
   "metadata": {},
   "outputs": [],
   "source": [
    "ast_pct_avg = usg_stats_summary[\"AST_PCT\"].mean()"
   ]
  },
  {
   "cell_type": "code",
   "execution_count": 67,
   "metadata": {},
   "outputs": [],
   "source": [
    "usg_filter = usg_stats_summary[\"USG_PCT\"] <= max_usg_pct\n",
    "ast_filter = usg_stats_summary[\"AST_PCT\"] <= ast_pct_avg\n",
    "minuites_filter = usg_stats_summary[\"TOTAL_MIN\"] >= minimum_minuites\n",
    "usg_stats_summary_filtered = usg_stats_summary[usg_filter]\n",
    "usg_stats_summary_filtered = usg_stats_summary_filtered[ast_filter]\n",
    "usg_stats_summary_filtered = usg_stats_summary_filtered[minuites_filter]\n",
    "usg_stats_summary_filtered = usg_stats_summary_filtered.merge(relevant_season,on=\"PLAYER_NAME\")"
   ]
  },
  {
   "cell_type": "markdown",
   "metadata": {},
   "source": [
    "## Merge usage and 3pt shots"
   ]
  },
  {
   "cell_type": "code",
   "execution_count": 68,
   "metadata": {},
   "outputs": [
    {
     "data": {
      "text/html": [
       "<div>\n",
       "<style scoped>\n",
       "    .dataframe tbody tr th:only-of-type {\n",
       "        vertical-align: middle;\n",
       "    }\n",
       "\n",
       "    .dataframe tbody tr th {\n",
       "        vertical-align: top;\n",
       "    }\n",
       "\n",
       "    .dataframe thead th {\n",
       "        text-align: right;\n",
       "    }\n",
       "</style>\n",
       "<table border=\"1\" class=\"dataframe\">\n",
       "  <thead>\n",
       "    <tr style=\"text-align: right;\">\n",
       "      <th></th>\n",
       "      <th>PLAYER_NAME</th>\n",
       "      <th>3PT_PCT</th>\n",
       "      <th>TOTAL_ATTEMPTS</th>\n",
       "      <th>FREQ_PCT</th>\n",
       "      <th>TOTAL_USG</th>\n",
       "      <th>TOTAL_AST_PCT</th>\n",
       "    </tr>\n",
       "  </thead>\n",
       "  <tbody>\n",
       "    <tr>\n",
       "      <th>0</th>\n",
       "      <td>Al-Farouq Aminu</td>\n",
       "      <td>0.333333</td>\n",
       "      <td>192.0</td>\n",
       "      <td>0.527536</td>\n",
       "      <td>655.5528</td>\n",
       "      <td>280.0035</td>\n",
       "    </tr>\n",
       "    <tr>\n",
       "      <th>1</th>\n",
       "      <td>Allen Crabbe</td>\n",
       "      <td>0.380665</td>\n",
       "      <td>331.0</td>\n",
       "      <td>0.669855</td>\n",
       "      <td>662.0857</td>\n",
       "      <td>294.7094</td>\n",
       "    </tr>\n",
       "    <tr>\n",
       "      <th>2</th>\n",
       "      <td>Anthony Tolliver</td>\n",
       "      <td>0.378641</td>\n",
       "      <td>309.0</td>\n",
       "      <td>0.796730</td>\n",
       "      <td>463.7582</td>\n",
       "      <td>240.9418</td>\n",
       "    </tr>\n",
       "    <tr>\n",
       "      <th>3</th>\n",
       "      <td>Avery Bradley</td>\n",
       "      <td>0.246753</td>\n",
       "      <td>154.0</td>\n",
       "      <td>0.395242</td>\n",
       "      <td>814.5042</td>\n",
       "      <td>450.5984</td>\n",
       "    </tr>\n",
       "    <tr>\n",
       "      <th>4</th>\n",
       "      <td>Ben McLemore</td>\n",
       "      <td>0.365000</td>\n",
       "      <td>200.0</td>\n",
       "      <td>0.661380</td>\n",
       "      <td>449.1241</td>\n",
       "      <td>163.9519</td>\n",
       "    </tr>\n",
       "    <tr>\n",
       "      <th>5</th>\n",
       "      <td>Bojan Bogdanovic</td>\n",
       "      <td>0.404639</td>\n",
       "      <td>388.0</td>\n",
       "      <td>0.441645</td>\n",
       "      <td>1545.4358</td>\n",
       "      <td>626.0897</td>\n",
       "    </tr>\n",
       "    <tr>\n",
       "      <th>6</th>\n",
       "      <td>Brook Lopez</td>\n",
       "      <td>0.315018</td>\n",
       "      <td>273.0</td>\n",
       "      <td>0.527703</td>\n",
       "      <td>1062.5533</td>\n",
       "      <td>446.8469</td>\n",
       "    </tr>\n",
       "    <tr>\n",
       "      <th>7</th>\n",
       "      <td>Bryn Forbes</td>\n",
       "      <td>0.410579</td>\n",
       "      <td>397.0</td>\n",
       "      <td>0.550315</td>\n",
       "      <td>926.8365</td>\n",
       "      <td>511.5061</td>\n",
       "    </tr>\n",
       "    <tr>\n",
       "      <th>8</th>\n",
       "      <td>CJ Miles</td>\n",
       "      <td>0.333333</td>\n",
       "      <td>255.0</td>\n",
       "      <td>0.725029</td>\n",
       "      <td>461.8648</td>\n",
       "      <td>148.5826</td>\n",
       "    </tr>\n",
       "    <tr>\n",
       "      <th>9</th>\n",
       "      <td>Carmelo Anthony</td>\n",
       "      <td>0.338583</td>\n",
       "      <td>254.0</td>\n",
       "      <td>0.383263</td>\n",
       "      <td>971.1034</td>\n",
       "      <td>273.0888</td>\n",
       "    </tr>\n",
       "  </tbody>\n",
       "</table>\n",
       "</div>"
      ],
      "text/plain": [
       "        PLAYER_NAME   3PT_PCT  TOTAL_ATTEMPTS  FREQ_PCT  TOTAL_USG  \\\n",
       "0   Al-Farouq Aminu  0.333333           192.0  0.527536   655.5528   \n",
       "1      Allen Crabbe  0.380665           331.0  0.669855   662.0857   \n",
       "2  Anthony Tolliver  0.378641           309.0  0.796730   463.7582   \n",
       "3     Avery Bradley  0.246753           154.0  0.395242   814.5042   \n",
       "4      Ben McLemore  0.365000           200.0  0.661380   449.1241   \n",
       "5  Bojan Bogdanovic  0.404639           388.0  0.441645  1545.4358   \n",
       "6       Brook Lopez  0.315018           273.0  0.527703  1062.5533   \n",
       "7       Bryn Forbes  0.410579           397.0  0.550315   926.8365   \n",
       "8          CJ Miles  0.333333           255.0  0.725029   461.8648   \n",
       "9   Carmelo Anthony  0.338583           254.0  0.383263   971.1034   \n",
       "\n",
       "   TOTAL_AST_PCT  \n",
       "0       280.0035  \n",
       "1       294.7094  \n",
       "2       240.9418  \n",
       "3       450.5984  \n",
       "4       163.9519  \n",
       "5       626.0897  \n",
       "6       446.8469  \n",
       "7       511.5061  \n",
       "8       148.5826  \n",
       "9       273.0888  "
      ]
     },
     "execution_count": 68,
     "metadata": {},
     "output_type": "execute_result"
    }
   ],
   "source": [
    "usage_3pt_merge = df_3pt_freq_pct_filtered.merge(usg_stats_summary_filtered,on=\"PLAYER_NAME\")\n",
    "usage_3pt_merge[[\"PLAYER_NAME\",\"3PT_PCT\",\"TOTAL_ATTEMPTS\",\"FREQ_PCT\",\"TOTAL_USG\",\"TOTAL_AST_PCT\"]].head(10)"
   ]
  },
  {
   "cell_type": "markdown",
   "metadata": {},
   "source": [
    "# Mesure Defense - Old"
   ]
  },
  {
   "cell_type": "markdown",
   "metadata": {},
   "source": [
    "## Conf "
   ]
  },
  {
   "cell_type": "code",
   "execution_count": 69,
   "metadata": {},
   "outputs": [],
   "source": [
    "# def_cols = [\"PLAYER_NAME\",\"PCT_PLUSMINUS\",\"Season\"]"
   ]
  },
  {
   "cell_type": "markdown",
   "metadata": {},
   "source": [
    "## Read From API"
   ]
  },
  {
   "cell_type": "code",
   "execution_count": 70,
   "metadata": {},
   "outputs": [],
   "source": [
    "# df = []\n",
    "# for season in seasons_string(start_season,end_season):\n",
    "#             df.append(get_def_diff_pct_stats(Season=season))\n",
    "# def_stats_df = pd.concat([x for x in df],ignore_index=True)\n",
    "# def_stats_df = def_stats_df[def_cols]\n",
    "# def_stats_df[\"PCT_PLUSMINUS_CONVERTED\"] = def_stats_df[\"PCT_PLUSMINUS\"] * -100\n",
    "# avg_def_metric = def_stats_df[\"PCT_PLUSMINUS_CONVERTED\"].mean()\n",
    "# usage_3pt_merge = usage_3pt_merge[usage_3pt_merge[\"Season\"] == \"2019-20\"]\n",
    "# def_3pt_usg_df = usage_3pt_merge.merge(def_stats_df,on=[\"PLAYER_NAME\",\"Season\"])\n",
    "# def_3pt_usg_df[def_3pt_usg_df[\"PLAYER_NAME\"] == \"James Harden\"]\n",
    "# ax = def_3pt_usg_df.plot.scatter(x=\"3pt_PCT\",y=\"PCT_PLUSMINUS_CONVERTED\",figsize=(20,10))\n",
    "# plt.axvline(avg_shooting_pct)\n",
    "# plt.axhline(avg_def_metric)\n",
    "# for i, txt in enumerate(def_3pt_usg_df.PLAYER_NAME):\n",
    "#     ax.annotate(txt, (def_3pt_usg_df[\"3pt_PCT\"].iat[i],def_3pt_usg_df[\"PCT_PLUSMINUS_CONVERTED\"].iat[i]))\n",
    "# plt.show()"
   ]
  },
  {
   "cell_type": "markdown",
   "metadata": {},
   "source": [
    "## Mesure Defense - DRPM"
   ]
  },
  {
   "cell_type": "markdown",
   "metadata": {},
   "source": [
    "## Read From API"
   ]
  },
  {
   "cell_type": "code",
   "execution_count": 71,
   "metadata": {},
   "outputs": [],
   "source": [
    "rpm_df = pd.read_excel(\"rpm.xlsx\")"
   ]
  },
  {
   "cell_type": "markdown",
   "metadata": {},
   "source": [
    "## Calculate avg for graph"
   ]
  },
  {
   "cell_type": "code",
   "execution_count": 72,
   "metadata": {},
   "outputs": [],
   "source": [
    "avg_rpm_df = rpm_df[\"DRPM\"].mean()"
   ]
  },
  {
   "cell_type": "code",
   "execution_count": 73,
   "metadata": {},
   "outputs": [],
   "source": [
    "rpm_3pt_usg_df = usage_3pt_merge.merge(rpm_df,on=\"PLAYER_NAME\")"
   ]
  },
  {
   "cell_type": "code",
   "execution_count": 74,
   "metadata": {},
   "outputs": [
    {
     "data": {
      "image/png": "[encoded data removed]",
      "text/plain": [
       "<Figure size 1440x720 with 1 Axes>"
      ]
     },
     "metadata": {
      "needs_background": "light"
     },
     "output_type": "display_data"
    }
   ],
   "source": [
    "ax = rpm_3pt_usg_df.plot.scatter(x=\"3PT_PCT\",y=\"DRPM\",figsize=(20,10))\n",
    "plt.axvline(avg_shooting_pct)\n",
    "plt.axhline(avg_rpm_df)\n",
    "for i, txt in enumerate(rpm_3pt_usg_df.PLAYER_NAME):\n",
    "    ax.annotate(txt, (rpm_3pt_usg_df[\"3PT_PCT\"].iat[i],rpm_3pt_usg_df[\"DRPM\"].iat[i]))\n",
    "plt.show()"
   ]
  },
  {
   "cell_type": "markdown",
   "metadata": {},
   "source": [
    "## Calculate Rank for results"
   ]
  },
  {
   "cell_type": "code",
   "execution_count": 89,
   "metadata": {},
   "outputs": [],
   "source": [
    "rpm_3pt_usg_df_ranking = rpm_3pt_usg_df\n",
    "rpm_3pt_usg_df_ranking[\"DRPM_RANK\"] = rpm_3pt_usg_df[\"DRPM\"].rank(method='first',ascending=False)\n",
    "rpm_3pt_usg_df_ranking[\"3PT_PCT_RANK\"] = rpm_3pt_usg_df_ranking[\"3PT_PCT\"].rank(method='first',ascending=False)"
   ]
  },
  {
   "cell_type": "code",
   "execution_count": 90,
   "metadata": {},
   "outputs": [],
   "source": [
    "rpm_3pt_usg_df_ranking[\"TOTAL_RANK\"] = (rpm_3pt_usg_df_ranking[\"DRPM_RANK\"] + rpm_3pt_usg_df_ranking[\"3PT_PCT_RANK\"])/2\n",
    "rpm_3pt_usg_df_ranking = rpm_3pt_usg_df_ranking[[\"PLAYER_NAME\",\"TOTAL_ATTEMPTS\",\"TOTAL_MADE\",\"3PT_PCT\",\"FREQ_PCT\",\"DRPM\",\"DRPM_RANK\",\"3PT_PCT_RANK\",\"TOTAL_RANK\"]]"
   ]
  },
  {
   "cell_type": "markdown",
   "metadata": {},
   "source": [
    "## Find best players"
   ]
  },
  {
   "cell_type": "code",
   "execution_count": 93,
   "metadata": {
    "scrolled": false
   },
   "outputs": [],
   "source": [
    "rpm_3pt_usg_df_ranking_best = rpm_3pt_usg_df_ranking[rpm_3pt_usg_df_ranking[\"DRPM\"] > avg_rpm_df]\n",
    "rpm_3pt_usg_df_ranking_best = rpm_3pt_usg_df_ranking_best[rpm_3pt_usg_df_ranking[\"3PT_PCT\"] > avg_shooting_pct]"
   ]
  },
  {
   "cell_type": "code",
   "execution_count": 94,
   "metadata": {},
   "outputs": [
    {
     "data": {
      "text/html": [
       "<div>\n",
       "<style scoped>\n",
       "    .dataframe tbody tr th:only-of-type {\n",
       "        vertical-align: middle;\n",
       "    }\n",
       "\n",
       "    .dataframe tbody tr th {\n",
       "        vertical-align: top;\n",
       "    }\n",
       "\n",
       "    .dataframe thead th {\n",
       "        text-align: right;\n",
       "    }\n",
       "</style>\n",
       "<table border=\"1\" class=\"dataframe\">\n",
       "  <thead>\n",
       "    <tr style=\"text-align: right;\">\n",
       "      <th></th>\n",
       "      <th>PLAYER_NAME</th>\n",
       "      <th>TOTAL_ATTEMPTS</th>\n",
       "      <th>TOTAL_MADE</th>\n",
       "      <th>3PT_PCT</th>\n",
       "      <th>FREQ_PCT</th>\n",
       "      <th>DRPM</th>\n",
       "      <th>DRPM_RANK</th>\n",
       "      <th>3PT_PCT_RANK</th>\n",
       "      <th>TOTAL_RANK</th>\n",
       "    </tr>\n",
       "  </thead>\n",
       "  <tbody>\n",
       "    <tr>\n",
       "      <th>5</th>\n",
       "      <td>Duncan Robinson</td>\n",
       "      <td>225.0</td>\n",
       "      <td>102.0</td>\n",
       "      <td>0.453333</td>\n",
       "      <td>0.873797</td>\n",
       "      <td>0.83</td>\n",
       "      <td>5.0</td>\n",
       "      <td>2.0</td>\n",
       "      <td>3.5</td>\n",
       "    </tr>\n",
       "    <tr>\n",
       "      <th>3</th>\n",
       "      <td>Danny Green</td>\n",
       "      <td>330.0</td>\n",
       "      <td>133.0</td>\n",
       "      <td>0.403030</td>\n",
       "      <td>0.658343</td>\n",
       "      <td>0.91</td>\n",
       "      <td>4.0</td>\n",
       "      <td>8.0</td>\n",
       "      <td>6.0</td>\n",
       "    </tr>\n",
       "    <tr>\n",
       "      <th>4</th>\n",
       "      <td>Dillon Brooks</td>\n",
       "      <td>257.0</td>\n",
       "      <td>106.0</td>\n",
       "      <td>0.412451</td>\n",
       "      <td>0.373718</td>\n",
       "      <td>0.43</td>\n",
       "      <td>10.0</td>\n",
       "      <td>6.0</td>\n",
       "      <td>8.0</td>\n",
       "    </tr>\n",
       "    <tr>\n",
       "      <th>8</th>\n",
       "      <td>Furkan Korkmaz</td>\n",
       "      <td>178.0</td>\n",
       "      <td>75.0</td>\n",
       "      <td>0.421348</td>\n",
       "      <td>0.608344</td>\n",
       "      <td>0.19</td>\n",
       "      <td>13.0</td>\n",
       "      <td>4.0</td>\n",
       "      <td>8.5</td>\n",
       "    </tr>\n",
       "    <tr>\n",
       "      <th>10</th>\n",
       "      <td>Gary Harris</td>\n",
       "      <td>298.0</td>\n",
       "      <td>114.0</td>\n",
       "      <td>0.382550</td>\n",
       "      <td>0.416349</td>\n",
       "      <td>1.88</td>\n",
       "      <td>1.0</td>\n",
       "      <td>16.0</td>\n",
       "      <td>8.5</td>\n",
       "    </tr>\n",
       "    <tr>\n",
       "      <th>23</th>\n",
       "      <td>Terrence Ross</td>\n",
       "      <td>339.0</td>\n",
       "      <td>135.0</td>\n",
       "      <td>0.398230</td>\n",
       "      <td>0.559571</td>\n",
       "      <td>0.53</td>\n",
       "      <td>7.0</td>\n",
       "      <td>11.0</td>\n",
       "      <td>9.0</td>\n",
       "    </tr>\n",
       "    <tr>\n",
       "      <th>21</th>\n",
       "      <td>Reggie Bullock</td>\n",
       "      <td>262.0</td>\n",
       "      <td>109.0</td>\n",
       "      <td>0.416031</td>\n",
       "      <td>0.587109</td>\n",
       "      <td>-0.02</td>\n",
       "      <td>17.0</td>\n",
       "      <td>5.0</td>\n",
       "      <td>11.0</td>\n",
       "    </tr>\n",
       "    <tr>\n",
       "      <th>11</th>\n",
       "      <td>Jaylen Brown</td>\n",
       "      <td>316.0</td>\n",
       "      <td>117.0</td>\n",
       "      <td>0.370253</td>\n",
       "      <td>0.370990</td>\n",
       "      <td>0.64</td>\n",
       "      <td>6.0</td>\n",
       "      <td>18.0</td>\n",
       "      <td>12.0</td>\n",
       "    </tr>\n",
       "    <tr>\n",
       "      <th>19</th>\n",
       "      <td>Norman Powell</td>\n",
       "      <td>204.0</td>\n",
       "      <td>74.0</td>\n",
       "      <td>0.362745</td>\n",
       "      <td>0.463239</td>\n",
       "      <td>0.93</td>\n",
       "      <td>3.0</td>\n",
       "      <td>21.0</td>\n",
       "      <td>12.0</td>\n",
       "    </tr>\n",
       "    <tr>\n",
       "      <th>24</th>\n",
       "      <td>Tim Hardaway Jr.</td>\n",
       "      <td>497.0</td>\n",
       "      <td>185.0</td>\n",
       "      <td>0.372233</td>\n",
       "      <td>0.512819</td>\n",
       "      <td>0.45</td>\n",
       "      <td>9.0</td>\n",
       "      <td>17.0</td>\n",
       "      <td>13.0</td>\n",
       "    </tr>\n",
       "    <tr>\n",
       "      <th>25</th>\n",
       "      <td>Troy Daniels</td>\n",
       "      <td>309.0</td>\n",
       "      <td>124.0</td>\n",
       "      <td>0.401294</td>\n",
       "      <td>0.762037</td>\n",
       "      <td>0.05</td>\n",
       "      <td>16.0</td>\n",
       "      <td>10.0</td>\n",
       "      <td>13.0</td>\n",
       "    </tr>\n",
       "    <tr>\n",
       "      <th>9</th>\n",
       "      <td>Garrett Temple</td>\n",
       "      <td>271.0</td>\n",
       "      <td>98.0</td>\n",
       "      <td>0.361624</td>\n",
       "      <td>0.563859</td>\n",
       "      <td>0.46</td>\n",
       "      <td>8.0</td>\n",
       "      <td>22.0</td>\n",
       "      <td>15.0</td>\n",
       "    </tr>\n",
       "    <tr>\n",
       "      <th>27</th>\n",
       "      <td>Wayne Ellington</td>\n",
       "      <td>385.0</td>\n",
       "      <td>135.0</td>\n",
       "      <td>0.350649</td>\n",
       "      <td>0.829574</td>\n",
       "      <td>0.32</td>\n",
       "      <td>12.0</td>\n",
       "      <td>24.0</td>\n",
       "      <td>18.0</td>\n",
       "    </tr>\n",
       "    <tr>\n",
       "      <th>12</th>\n",
       "      <td>Josh Hart</td>\n",
       "      <td>333.0</td>\n",
       "      <td>119.0</td>\n",
       "      <td>0.357357</td>\n",
       "      <td>0.613207</td>\n",
       "      <td>0.17</td>\n",
       "      <td>14.0</td>\n",
       "      <td>23.0</td>\n",
       "      <td>18.5</td>\n",
       "    </tr>\n",
       "  </tbody>\n",
       "</table>\n",
       "</div>"
      ],
      "text/plain": [
       "         PLAYER_NAME  TOTAL_ATTEMPTS  TOTAL_MADE   3PT_PCT  FREQ_PCT  DRPM  \\\n",
       "5    Duncan Robinson           225.0       102.0  0.453333  0.873797  0.83   \n",
       "3        Danny Green           330.0       133.0  0.403030  0.658343  0.91   \n",
       "4      Dillon Brooks           257.0       106.0  0.412451  0.373718  0.43   \n",
       "8     Furkan Korkmaz           178.0        75.0  0.421348  0.608344  0.19   \n",
       "10       Gary Harris           298.0       114.0  0.382550  0.416349  1.88   \n",
       "23     Terrence Ross           339.0       135.0  0.398230  0.559571  0.53   \n",
       "21    Reggie Bullock           262.0       109.0  0.416031  0.587109 -0.02   \n",
       "11      Jaylen Brown           316.0       117.0  0.370253  0.370990  0.64   \n",
       "19     Norman Powell           204.0        74.0  0.362745  0.463239  0.93   \n",
       "24  Tim Hardaway Jr.           497.0       185.0  0.372233  0.512819  0.45   \n",
       "25      Troy Daniels           309.0       124.0  0.401294  0.762037  0.05   \n",
       "9     Garrett Temple           271.0        98.0  0.361624  0.563859  0.46   \n",
       "27   Wayne Ellington           385.0       135.0  0.350649  0.829574  0.32   \n",
       "12         Josh Hart           333.0       119.0  0.357357  0.613207  0.17   \n",
       "\n",
       "    DRPM_RANK  3PT_PCT_RANK  TOTAL_RANK  \n",
       "5         5.0           2.0         3.5  \n",
       "3         4.0           8.0         6.0  \n",
       "4        10.0           6.0         8.0  \n",
       "8        13.0           4.0         8.5  \n",
       "10        1.0          16.0         8.5  \n",
       "23        7.0          11.0         9.0  \n",
       "21       17.0           5.0        11.0  \n",
       "11        6.0          18.0        12.0  \n",
       "19        3.0          21.0        12.0  \n",
       "24        9.0          17.0        13.0  \n",
       "25       16.0          10.0        13.0  \n",
       "9         8.0          22.0        15.0  \n",
       "27       12.0          24.0        18.0  \n",
       "12       14.0          23.0        18.5  "
      ]
     },
     "execution_count": 94,
     "metadata": {},
     "output_type": "execute_result"
    }
   ],
   "source": [
    "rpm_3pt_usg_df_ranking_best.sort_values(\"TOTAL_RANK\",ascending=True)"
   ]
  },
  {
   "cell_type": "markdown",
   "metadata": {},
   "source": [
    "## Find worst players"
   ]
  },
  {
   "cell_type": "code",
   "execution_count": 84,
   "metadata": {},
   "outputs": [],
   "source": [
    "rpm_3pt_usg_df_ranking_worst = rpm_3pt_usg_df_ranking[rpm_3pt_usg_df_ranking[\"DRPM\"] < avg_rpm_df]\n",
    "rpm_3pt_usg_df_ranking_worst = rpm_3pt_usg_df_ranking_worst[rpm_3pt_usg_df_ranking[\"3PT_PCT\"] < avg_shooting_pct]"
   ]
  },
  {
   "cell_type": "code",
   "execution_count": 85,
   "metadata": {},
   "outputs": [
    {
     "data": {
      "text/html": [
       "<div>\n",
       "<style scoped>\n",
       "    .dataframe tbody tr th:only-of-type {\n",
       "        vertical-align: middle;\n",
       "    }\n",
       "\n",
       "    .dataframe tbody tr th {\n",
       "        vertical-align: top;\n",
       "    }\n",
       "\n",
       "    .dataframe thead th {\n",
       "        text-align: right;\n",
       "    }\n",
       "</style>\n",
       "<table border=\"1\" class=\"dataframe\">\n",
       "  <thead>\n",
       "    <tr style=\"text-align: right;\">\n",
       "      <th></th>\n",
       "      <th>PLAYER_NAME</th>\n",
       "      <th>TOTAL_ATTEMPTS</th>\n",
       "      <th>TOTAL_MADE</th>\n",
       "      <th>3PT_PCT</th>\n",
       "      <th>FREQ_PCT</th>\n",
       "      <th>DRPM</th>\n",
       "      <th>DRPM_RANK</th>\n",
       "      <th>3PT_PCT_RANK</th>\n",
       "      <th>TOTAL_RANK</th>\n",
       "    </tr>\n",
       "  </thead>\n",
       "  <tbody>\n",
       "    <tr>\n",
       "      <th>2</th>\n",
       "      <td>Damyean Dotson</td>\n",
       "      <td>236.0</td>\n",
       "      <td>71.0</td>\n",
       "      <td>0.300847</td>\n",
       "      <td>0.499982</td>\n",
       "      <td>-0.77</td>\n",
       "      <td>25.0</td>\n",
       "      <td>28.0</td>\n",
       "      <td>26.5</td>\n",
       "    </tr>\n",
       "    <tr>\n",
       "      <th>7</th>\n",
       "      <td>Eric Gordon</td>\n",
       "      <td>388.0</td>\n",
       "      <td>106.0</td>\n",
       "      <td>0.273196</td>\n",
       "      <td>0.650292</td>\n",
       "      <td>-0.39</td>\n",
       "      <td>18.0</td>\n",
       "      <td>29.0</td>\n",
       "      <td>23.5</td>\n",
       "    </tr>\n",
       "  </tbody>\n",
       "</table>\n",
       "</div>"
      ],
      "text/plain": [
       "      PLAYER_NAME  TOTAL_ATTEMPTS  TOTAL_MADE   3PT_PCT  FREQ_PCT  DRPM  \\\n",
       "2  Damyean Dotson           236.0        71.0  0.300847  0.499982 -0.77   \n",
       "7     Eric Gordon           388.0       106.0  0.273196  0.650292 -0.39   \n",
       "\n",
       "   DRPM_RANK  3PT_PCT_RANK  TOTAL_RANK  \n",
       "2       25.0          28.0        26.5  \n",
       "7       18.0          29.0        23.5  "
      ]
     },
     "execution_count": 85,
     "metadata": {},
     "output_type": "execute_result"
    }
   ],
   "source": [
    "rpm_3pt_usg_df_ranking_worst.sort_values(\"TOTAL_RANK\",ascending=False).head(10)"
   ]
  },
  {
   "cell_type": "code",
   "execution_count": null,
   "metadata": {},
   "outputs": [],
   "source": []
  }
 ],
 "metadata": {
  "kernelspec": {
   "display_name": "Python 3",
   "language": "python",
   "name": "python3"
  },
  "language_info": {
   "codemirror_mode": {
    "name": "ipython",
    "version": 3
   },
   "file_extension": ".py",
   "mimetype": "text/x-python",
   "name": "python",
   "nbconvert_exporter": "python",
   "pygments_lexer": "ipython3",
   "version": "3.8.0"
  }
 },
 "nbformat": 4,
 "nbformat_minor": 2
}
