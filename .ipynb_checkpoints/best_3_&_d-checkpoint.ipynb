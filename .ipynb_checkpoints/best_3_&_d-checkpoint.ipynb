{
 "cells": [
  {
   "cell_type": "markdown",
   "metadata": {},
   "source": [
    "## Import & Conf"
   ]
  },
  {
   "cell_type": "code",
   "execution_count": 2,
   "metadata": {},
   "outputs": [],
   "source": [
    "import pandas as pd\n",
    "import numpy as np\n",
    "import matplotlib.pyplot as plt\n",
    "import requests\n",
    "import warnings\n",
    "warnings.filterwarnings('ignore')"
   ]
  },
  {
   "cell_type": "markdown",
   "metadata": {},
   "source": [
    "# Build the api"
   ]
  },
  {
   "cell_type": "code",
   "execution_count": 3,
   "metadata": {},
   "outputs": [],
   "source": [
    "headers = {\n",
    "  'Referer': 'https://stats.nba.com/players/shots-dribbles',\n",
    "  'User-Agent': 'Mozilla/5.0 (Windows NT 10.0; Win64; x64) AppleWebKit/537.36 (KHTML, like Gecko) Chrome/79.0.3945.130 Safari/537.36',\n",
    "  'x-nba-stats-origin': 'stats'\n",
    "}\n",
    "\n"
   ]
  },
  {
   "cell_type": "code",
   "execution_count": 4,
   "metadata": {},
   "outputs": [],
   "source": [
    "def get_shooting_stats(  url=\"http://stats.nba.com/stats/leaguedashplayerptshot?\",\n",
    "                PerMode=\"PerGame\",\n",
    "                LeagueID = \"00\",\n",
    "                Season = \"2019-20\",\n",
    "                SeasonType = \"Regular Season\",\n",
    "                PORound= 0,\n",
    "                CloseDefDistRange= '',\n",
    "                ShotClockRange='',\n",
    "                ShotDistRange= '',#'> 5',\n",
    "                TouchTimeRange= '',\n",
    "                DribbleRange= \"0 Dribbles\",\n",
    "                GeneralRange= '',\n",
    "                TeamID= 0,\n",
    "                Outcome= '',\n",
    "                Location= '',\n",
    "                Month= 0,\n",
    "                SeasonSegment= '',\n",
    "                DateFrom= '',\n",
    "                DateTo= '',\n",
    "                OpponentTeamID= 0,\n",
    "                VsConference= '',\n",
    "                VsDivision= '',\n",
    "                Conference= '',\n",
    "                Division= '',\n",
    "                GameSegment= '',\n",
    "                Period= 0,\n",
    "                LastNGames= 0):\n",
    "    url = url\n",
    "    api_param = {\n",
    "    \"PerMode\": PerMode,\n",
    "    \"LeagueID\": LeagueID,\n",
    "    \"Season\": Season,\n",
    "    \"SeasonType\": SeasonType,\n",
    "    \"PORound\": PORound,\n",
    "    \"CloseDefDistRange\": CloseDefDistRange,#'0-2 Feet - Very Tight',\n",
    "    \"ShotClockRange\":ShotClockRange,\n",
    "    \"ShotDistRange\": ShotDistRange,#'> 5',\n",
    "    \"TouchTimeRange\": TouchTimeRange,\n",
    "    \"DribbleRange\": DribbleRange,\n",
    "    \"GeneralRange\": GeneralRange,\n",
    "    \"TeamID\": TeamID,\n",
    "    \"Outcome\": Outcome,\n",
    "    \"Location\": Location,\n",
    "    \"Month\": Month,\n",
    "    \"SeasonSegment\": SeasonSegment,\n",
    "    \"DateFrom\": DateFrom,\n",
    "    \"DateTo\": DateTo,\n",
    "    \"OpponentTeamID\": OpponentTeamID,\n",
    "    \"VsConference\": VsConference,\n",
    "    \"VsDivision\": VsDivision,\n",
    "    \"Conference\": Conference,\n",
    "    \"Division\": Division,\n",
    "    \"GameSegment\": GameSegment,\n",
    "    \"Period\": Period,\n",
    "    \"LastNGames\": LastNGames\n",
    "    }\n",
    "    payload = {}\n",
    "    response = requests.request(\"GET\",url,params=api_param,headers=headers,data = payload)\n",
    "    data = response.json()\n",
    "    df = pd.DataFrame(data['resultSets'][0]['rowSet'],columns=data['resultSets'][0]['headers'])\n",
    "    df[\"Season\"] = Season\n",
    "    df[\"CloseDefDistRange\"] = CloseDefDistRange\n",
    "    df[\"DribbleRange\"] = DribbleRange\n",
    "    return df\n",
    "\n",
    "def seasons_string(start,end):\n",
    "    '''\n",
    "    creates a list of NBA seasons from start-end\n",
    "    '''\n",
    "    years = np.arange(start,end+1)\n",
    "    seasons = []\n",
    "    for year in years:\n",
    "        string1 = str(year)\n",
    "        string2 = str(year+1)\n",
    "        season = '{}-{}'.format(string1,string2[-2:])\n",
    "        seasons.append(season)\n",
    "    return seasons\n",
    "\n",
    "def get_usg_stats(  url=\"http://stats.nba.com/stats/leaguedashplayerstats?\",\n",
    "                MeasureType= \"Advanced\",\n",
    "                PerMode= \"PerGame\",\n",
    "                PlusMinus= \"N\",\n",
    "                PaceAdjust= \"N\",\n",
    "                Rank= \"N\",\n",
    "                LeagueID= \"00\",\n",
    "                Season= \"2019-20\",\n",
    "                SeasonType= \"Regular Season\",\n",
    "                PORound= 0,\n",
    "                Outcome= '',\n",
    "                Location= '',\n",
    "                Month= 0,\n",
    "                SeasonSegment= '',\n",
    "                DateFrom= '',\n",
    "                DateTo= '',\n",
    "                OpponentTeamID= 0,\n",
    "                VsConference= '',\n",
    "                VsDivision= '',\n",
    "                TeamID= 0,\n",
    "                Conference= '',\n",
    "                Division= '',\n",
    "                GameSegment= '',\n",
    "                Period= 0,\n",
    "                ShotClockRange= '',\n",
    "                LastNGames= 0,\n",
    "                GameScope= '',\n",
    "                PlayerExperience= '',\n",
    "                PlayerPosition= '',\n",
    "                StarterBench= '',\n",
    "                DraftYear= '',\n",
    "                DraftPick= '',\n",
    "                College= '',\n",
    "                Country= '',\n",
    "                Height= '',\n",
    "                Weight= '',\n",
    "                TwoWay= 0):\n",
    "    url = url\n",
    "    api_param = {\n",
    "    \"MeasureType\":MeasureType,\n",
    "    \"PerMode\":PerMode,\n",
    "    \"PlusMinus\":PlusMinus,\n",
    "    \"PaceAdjust\":PaceAdjust,\n",
    "    \"Rank\":Rank,\n",
    "    \"LeagueID\":LeagueID,\n",
    "    \"Season\":Season,\n",
    "    \"SeasonType\":SeasonType,\n",
    "    \"PORound\":PORound,\n",
    "    \"Outcome\":Outcome,\n",
    "    \"Location\":Location,\n",
    "    \"Month\":Month,\n",
    "    \"SeasonSegment\":SeasonSegment,\n",
    "    \"DateFrom\":DateFrom,\n",
    "    \"DateTo\":DateTo,\n",
    "    \"OpponentTeamID\":OpponentTeamID,\n",
    "    \"VsConference\":VsConference,\n",
    "    \"VsDivision\":VsDivision,\n",
    "    \"TeamID\":TeamID,\n",
    "    \"Conference\":Conference,\n",
    "    \"Division\":Division,\n",
    "    \"GameSegment\":GameSegment,\n",
    "    \"Period\":Period,\n",
    "    \"ShotClockRange\":ShotClockRange,\n",
    "    \"LastNGames\":LastNGames,\n",
    "    \"GameScope\":GameScope,\n",
    "    \"PlayerExperience\":PlayerExperience,\n",
    "    \"PlayerPosition\":PlayerPosition,\n",
    "    \"StarterBench\":StarterBench,\n",
    "    \"DraftYear\":DraftYear,\n",
    "    \"DraftPick\":DraftPick,\n",
    "    \"College\":College,\n",
    "    \"Country\":Country,\n",
    "    \"Height\":Height,\n",
    "    \"Weight\":Weight,\n",
    "    \"TwoWay\":TwoWay\n",
    "    }\n",
    "    payload = {}\n",
    "    response = requests.request(\"GET\",url,params=api_param,headers=headers,data = payload)\n",
    "    data = response.json()\n",
    "    df = pd.DataFrame(data['resultSets'][0]['rowSet'],columns=data['resultSets'][0]['headers'])\n",
    "    df[\"Season\"] = Season\n",
    "#     df[\"CloseDefDistRange\"] = CloseDefDistRange\n",
    "#     df[\"DribbleRange\"] = DribbleRange\n",
    "    return df\n",
    "\n",
    "\n",
    "def get_def_diff_pct_stats(url=\"https://stats.nba.com/stats/leaguedashptdefend?\",\n",
    "                PerMode= \"PerGame\",\n",
    "                LeagueID= \"00\",\n",
    "                Season= \"2019-20\",\n",
    "                SeasonType= \"Regular Season\",\n",
    "                PORound= 0,\n",
    "                PlayerID= '',\n",
    "                TeamID= 0,\n",
    "                Outcome= '',\n",
    "                Location= '',\n",
    "                Month= 0,\n",
    "                SeasonSegment= '',\n",
    "                DateFrom= '',\n",
    "                DateTo= '',\n",
    "                OpponentTeamID= 0,\n",
    "                VsConference= '',\n",
    "                VsDivision= '',\n",
    "                Conference= '',\n",
    "                Division= '',\n",
    "                GameSegment= '',\n",
    "                Period= 0,\n",
    "                LastNGames= 0,\n",
    "                DraftYear= '',\n",
    "                DraftPick= '',\n",
    "                College= '',\n",
    "                Country= '',\n",
    "                Height= '',\n",
    "                Weight= '',\n",
    "                PlayerExperience= '',\n",
    "                PlayerPosition= '',\n",
    "                StarterBench= '',\n",
    "                DefenseCategory= \"Overall\"):\n",
    "    url = url\n",
    "    api_param = {\n",
    "    \"PerMode\":PerMode,\n",
    "    \"LeagueID\":LeagueID,\n",
    "    \"Season\":Season,\n",
    "    \"SeasonType\":SeasonType,\n",
    "    \"PORound\":PORound,\n",
    "    \"PlayerID\":PlayerID,\n",
    "    \"TeamID\":TeamID,\n",
    "    \"Outcome\":Outcome,\n",
    "    \"Location\":Location,\n",
    "    \"Month\":Month,\n",
    "    \"SeasonSegment\":SeasonSegment,\n",
    "    \"DateFrom\":DateFrom,\n",
    "    \"DateTo\":DateTo,\n",
    "    \"OpponentTeamID\":OpponentTeamID,\n",
    "    \"VsConference\":VsConference,\n",
    "    \"VsDivision\":VsDivision,\n",
    "    \"Conference\":Conference,\n",
    "    \"Division\":Division,\n",
    "    \"GameSegment\":GameSegment,\n",
    "    \"Period\":Period,\n",
    "    \"LastNGames\":LastNGames,\n",
    "    \"DraftYear\":DraftYear,\n",
    "    \"DraftPick\":DraftPick,\n",
    "    \"College\":College,\n",
    "    \"Country\":Country,\n",
    "    \"Height\":Height,\n",
    "    \"Weight\":Weight,\n",
    "    \"PlayerExperience\":PlayerExperience,\n",
    "    \"PlayerPosition\":PlayerPosition,\n",
    "    \"StarterBench\":StarterBench,\n",
    "    \"DefenseCategory\":DefenseCategory\n",
    "}\n",
    "\n",
    "    payload = {}\n",
    "    response = requests.request(\"GET\",url,params=api_param,headers=headers,data = payload)\n",
    "    data = response.json()\n",
    "    df = pd.DataFrame(data['resultSets'][0]['rowSet'],columns=data['resultSets'][0]['headers'])\n",
    "    df[\"Season\"] = Season\n",
    "#     df[\"CloseDefDistRange\"] = CloseDefDistRange\n",
    "#     df[\"DribbleRange\"] = DribbleRange\n",
    "    return df\n",
    "    \n",
    "def get_shooting_stats(  url=\"http://stats.nba.com/stats/leaguedashplayerptshot?\",\n",
    "                PerMode=\"PerGame\",\n",
    "                LeagueID = \"00\",\n",
    "                Season = \"2019-20\",\n",
    "                SeasonType = \"Regular Season\",\n",
    "                PORound= 0,\n",
    "                CloseDefDistRange= '',\n",
    "                ShotClockRange='',\n",
    "                ShotDistRange= '',#'> 5',\n",
    "                TouchTimeRange= '',\n",
    "                DribbleRange= \"0 Dribbles\",\n",
    "                GeneralRange= '',\n",
    "                TeamID= 0,\n",
    "                Outcome= '',\n",
    "                Location= '',\n",
    "                Month= 0,\n",
    "                SeasonSegment= '',\n",
    "                DateFrom= '',\n",
    "                DateTo= '',\n",
    "                OpponentTeamID= 0,\n",
    "                VsConference= '',\n",
    "                VsDivision= '',\n",
    "                Conference= '',\n",
    "                Division= '',\n",
    "                GameSegment= '',\n",
    "                Period= 0,\n",
    "                LastNGames= 0):\n",
    "    url = url\n",
    "    api_param = {\n",
    "    \"PerMode\": PerMode,\n",
    "    \"LeagueID\": LeagueID,\n",
    "    \"Season\": Season,\n",
    "    \"SeasonType\": SeasonType,\n",
    "    \"PORound\": PORound,\n",
    "    \"CloseDefDistRange\": CloseDefDistRange,#'0-2 Feet - Very Tight',\n",
    "    \"ShotClockRange\":ShotClockRange,\n",
    "    \"ShotDistRange\": ShotDistRange,#'> 5',\n",
    "    \"TouchTimeRange\": TouchTimeRange,\n",
    "    \"DribbleRange\": DribbleRange,\n",
    "    \"GeneralRange\": GeneralRange,\n",
    "    \"TeamID\": TeamID,\n",
    "    \"Outcome\": Outcome,\n",
    "    \"Location\": Location,\n",
    "    \"Month\": Month,\n",
    "    \"SeasonSegment\": SeasonSegment,\n",
    "    \"DateFrom\": DateFrom,\n",
    "    \"DateTo\": DateTo,\n",
    "    \"OpponentTeamID\": OpponentTeamID,\n",
    "    \"VsConference\": VsConference,\n",
    "    \"VsDivision\": VsDivision,\n",
    "    \"Conference\": Conference,\n",
    "    \"Division\": Division,\n",
    "    \"GameSegment\": GameSegment,\n",
    "    \"Period\": Period,\n",
    "    \"LastNGames\": LastNGames\n",
    "    }\n",
    "    payload = {}\n",
    "    response = requests.request(\"GET\",url,params=api_param,headers=headers,data = payload)\n",
    "    data = response.json()\n",
    "    df = pd.DataFrame(data['resultSets'][0]['rowSet'],columns=data['resultSets'][0]['headers'])\n",
    "    df[\"Season\"] = Season\n",
    "    df[\"CloseDefDistRange\"] = CloseDefDistRange\n",
    "    df[\"DribbleRange\"] = DribbleRange\n",
    "    return df"
   ]
  },
  {
   "cell_type": "markdown",
   "metadata": {},
   "source": [
    "# Conf"
   ]
  },
  {
   "cell_type": "code",
   "execution_count": 5,
   "metadata": {},
   "outputs": [],
   "source": [
    "minimum_minuites = 20 * 50\n",
    "start_season = 2017\n",
    "end_season = 2019"
   ]
  },
  {
   "cell_type": "markdown",
   "metadata": {},
   "source": [
    "## functions"
   ]
  },
  {
   "cell_type": "code",
   "execution_count": 6,
   "metadata": {},
   "outputs": [],
   "source": [
    "def minuites_filter(df):\n",
    "    return df[(df[\"SUM_MIN\"] > minimum_minuites)]"
   ]
  },
  {
   "cell_type": "markdown",
   "metadata": {},
   "source": [
    "## Shooting analytics"
   ]
  },
  {
   "cell_type": "markdown",
   "metadata": {},
   "source": [
    "## Conf"
   ]
  },
  {
   "cell_type": "code",
   "execution_count": 73,
   "metadata": {},
   "outputs": [],
   "source": [
    "min_shots_attempts = 300\n",
    "dribbles = [\"0 Dribbles\",\"1 Dribble\"]\n",
    "CloseDefDistRanges = ['4-6 Feet - Open','6+ Feet - Wide Open'] #['0-2 Feet - Very Tight','2-4 Feet - Tight','4-6 Feet - Open','']#['4-6 Feet - Open']#\n",
    "relevant_3pt_columns = [\"PLAYER_NAME\",\"GP\",\"TOTAL_ATTEMPTS\",\"CloseDefDistRange\",\"DribbleRange\",\"TOTAL_MADE\",\"Season\"]"
   ]
  },
  {
   "cell_type": "markdown",
   "metadata": {},
   "source": [
    "## Read From API"
   ]
  },
  {
   "cell_type": "code",
   "execution_count": null,
   "metadata": {},
   "outputs": [],
   "source": [
    "df = []\n",
    "all_shots_df = []\n",
    "for season in seasons_string(start_season,end_season):\n",
    "    all_shots_df.append(get_shooting_stats(Season=season,CloseDefDistRange='',DribbleRange=''))\n",
    "    for dribble in dribbles:\n",
    "        for closeDefDistRange in CloseDefDistRanges:\n",
    "            df.append(get_shooting_stats(Season=season,CloseDefDistRange=closeDefDistRange,DribbleRange=dribble))\n",
    "shooting_stats_df = pd.concat([x for x in df],ignore_index=True)\n",
    "all_shots_df = pd.concat([x for x in all_shots_df],ignore_index=True)\n"
   ]
  },
  {
   "cell_type": "markdown",
   "metadata": {},
   "source": [
    "## Aggregate attempts - enganeering"
   ]
  },
  {
   "cell_type": "code",
   "execution_count": null,
   "metadata": {},
   "outputs": [],
   "source": [
    "df_3pt = shooting_stats_df\n",
    "df_3pt[\"TOTAL_ATTEMPTS\"] = round(df_3pt[\"GP\"] * df_3pt[\"FG3A\"])\n",
    "df_3pt[\"TOTAL_MADE\"]     = round(df_3pt[\"GP\"] * df_3pt[\"FG3M\"])\n",
    "df_3pt_by_dist = df_3pt.groupby([\"CloseDefDistRange\",\"PLAYER_NAME\"],as_index=False).sum()\n",
    "df_3pt_by_dist[\"3PT_PCT_DIST\"] = df_3pt_by_dist[\"TOTAL_MADE\"] / df_3pt_by_dist[\"TOTAL_ATTEMPTS\"]\n",
    "df_3pt_by_dist = df_3pt_by_dist.pivot_table(index='PLAYER_NAME', columns='CloseDefDistRange', values='3PT_PCT_DIST').reset_index()\n",
    "df_3pt_by_dist\n",
    "# df_3pt_by_dist[\"OPEN_FROM_ALL_SHOTS\"] = df_3pt_by_dist[\"4-6 Feet - Open\"] / (df_3pt_by_dist[\"4-6 Feet - Open\"] + df_3pt_by_dist[\"6+ Feet - Wide Open\"])\n",
    "# df_3pt_by_dist = df_3pt_by_dist[df_3pt_by_dist[\"4-6 Feet - Open\"] + df_3pt_by_dist[\"6+ Feet - Wide Open\"] > 150]\n",
    "# df_3pt_by_dist.sort_values(\"OPEN_FROM_ALL_SHOTS\",ascending=False).head(60)"
   ]
  },
  {
   "cell_type": "code",
   "execution_count": null,
   "metadata": {},
   "outputs": [],
   "source": [
    "all_shots_df[\"TOTAL_3S\"]    = round(all_shots_df[\"GP\"] * all_shots_df[\"FG3A\"])\n",
    "all_shots_df[\"TOTAL_SHOTS\"] = all_shots_df[\"GP\"] * all_shots_df[\"FGA\"]"
   ]
  },
  {
   "cell_type": "markdown",
   "metadata": {},
   "source": [
    "## Group data to last season"
   ]
  },
  {
   "cell_type": "code",
   "execution_count": null,
   "metadata": {},
   "outputs": [],
   "source": [
    "df_3pt_summary = df_3pt[relevant_3pt_columns].groupby(\"PLAYER_NAME\",as_index=False).sum()\n",
    "df_3pt_summary[\"3PT_PCT\"] = df_3pt_summary[\"TOTAL_MADE\"] / df_3pt_summary[\"TOTAL_ATTEMPTS\"]"
   ]
  },
  {
   "cell_type": "code",
   "execution_count": null,
   "metadata": {},
   "outputs": [],
   "source": [
    "all_shots_summary = all_shots_df.groupby(\"PLAYER_NAME\",as_index=False).sum()\n",
    "all_shots_summary[\"FREQ_PCT\"] = all_shots_summary[\"TOTAL_3S\"] / all_shots_summary[\"TOTAL_SHOTS\"]\n",
    "df_3pt_frequency = all_shots_summary[[\"FREQ_PCT\",\"PLAYER_NAME\"]]"
   ]
  },
  {
   "cell_type": "markdown",
   "metadata": {},
   "source": [
    "## add 3pt frequency to our 3pt shots"
   ]
  },
  {
   "cell_type": "code",
   "execution_count": null,
   "metadata": {},
   "outputs": [],
   "source": [
    "df_3pt_freq_pct = df_3pt_summary.merge(df_3pt_frequency)"
   ]
  },
  {
   "cell_type": "markdown",
   "metadata": {},
   "source": [
    "## Calculate avargaes to filter data"
   ]
  },
  {
   "cell_type": "code",
   "execution_count": null,
   "metadata": {},
   "outputs": [],
   "source": [
    "avg_3pt_freq = (all_shots_summary[\"TOTAL_3S\"].sum() / all_shots_summary[\"TOTAL_SHOTS\"].sum()) * 1.4\n",
    "avg_shooting_pct = (df_3pt_freq_pct[\"TOTAL_MADE\"].sum() / df_3pt_freq_pct[\"TOTAL_ATTEMPTS\"].sum())\n",
    "freq_3pt_filter = 0.5"
   ]
  },
  {
   "cell_type": "markdown",
   "metadata": {},
   "source": [
    "## Filter data"
   ]
  },
  {
   "cell_type": "code",
   "execution_count": null,
   "metadata": {},
   "outputs": [],
   "source": [
    "min_attemps_filter = df_3pt_freq_pct[\"TOTAL_ATTEMPTS\"] > min_shots_attempts\n",
    "above_avg_freq_filter = df_3pt_freq_pct[\"FREQ_PCT\"] > freq_3pt_filter\n",
    "df_3pt_freq_pct_filtered = df_3pt_freq_pct[min_attemps_filter]\n",
    "df_3pt_freq_pct_filtered = df_3pt_freq_pct_filtered[above_avg_freq_filter]\n",
    "df_3pt_freq_pct_filtered = df_3pt_freq_pct_filtered.drop([\"GP\"],axis=1)"
   ]
  },
  {
   "cell_type": "code",
   "execution_count": null,
   "metadata": {},
   "outputs": [],
   "source": [
    "df_3pt_freq_pct_filtered[df_3pt_freq_pct_filtered[\"PLAYER_NAME\"] == \"Matisse Thybulle\"]"
   ]
  },
  {
   "cell_type": "markdown",
   "metadata": {},
   "source": [
    "# Usage Analytics"
   ]
  },
  {
   "cell_type": "markdown",
   "metadata": {},
   "source": [
    "## Conf"
   ]
  },
  {
   "cell_type": "code",
   "execution_count": null,
   "metadata": {},
   "outputs": [],
   "source": [
    "max_usg_pct = 0.25"
   ]
  },
  {
   "cell_type": "markdown",
   "metadata": {},
   "source": [
    "## Read From API"
   ]
  },
  {
   "cell_type": "code",
   "execution_count": null,
   "metadata": {},
   "outputs": [],
   "source": [
    "df = []\n",
    "for season in seasons_string(start_season,end_season):\n",
    "    df.append(get_usg_stats(Season=season))\n",
    "usg_stats_df = pd.concat([x for x in df],ignore_index=True)"
   ]
  },
  {
   "cell_type": "markdown",
   "metadata": {},
   "source": [
    "## Calculate totals before group"
   ]
  },
  {
   "cell_type": "code",
   "execution_count": null,
   "metadata": {},
   "outputs": [],
   "source": [
    "usg_stats_df[\"TOTAL_USG\"]     = usg_stats_df[\"USG_PCT\"] * usg_stats_df[\"GP\"] * usg_stats_df[\"MIN\"]\n",
    "usg_stats_df[\"TOTAL_AST_PCT\"] = usg_stats_df[\"AST_PCT\"] * usg_stats_df[\"GP\"] * usg_stats_df[\"MIN\"]\n",
    "usg_stats_df[\"TOTAL_MIN\"]     = usg_stats_df[\"GP\"] * usg_stats_df[\"MIN\"]"
   ]
  },
  {
   "cell_type": "markdown",
   "metadata": {},
   "source": [
    "## Check for players that play in last season"
   ]
  },
  {
   "cell_type": "code",
   "execution_count": null,
   "metadata": {},
   "outputs": [],
   "source": [
    "relevant_season = usg_stats_df.groupby([\"PLAYER_NAME\"],as_index=False).max()[[\"PLAYER_NAME\",\"Season\"]]\n",
    "relevant_season = relevant_season[relevant_season[\"Season\"] == \"2019-20\"]"
   ]
  },
  {
   "cell_type": "markdown",
   "metadata": {},
   "source": [
    "## Group data toghter and enganeering"
   ]
  },
  {
   "cell_type": "code",
   "execution_count": null,
   "metadata": {},
   "outputs": [],
   "source": [
    "usg_stats_summary = usg_stats_df.groupby(\"PLAYER_NAME\",as_index=False).sum()"
   ]
  },
  {
   "cell_type": "code",
   "execution_count": null,
   "metadata": {},
   "outputs": [],
   "source": [
    "usg_stats_summary[\"USG_PCT\"] = usg_stats_summary[\"TOTAL_USG\"] / usg_stats_summary[\"TOTAL_MIN\"]\n",
    "usg_stats_summary[\"AST_PCT\"] = usg_stats_summary[\"TOTAL_AST_PCT\"] / usg_stats_summary[\"TOTAL_MIN\"]"
   ]
  },
  {
   "cell_type": "markdown",
   "metadata": {},
   "source": [
    "## Calculate avarage for filter and filer"
   ]
  },
  {
   "cell_type": "code",
   "execution_count": null,
   "metadata": {},
   "outputs": [],
   "source": [
    "ast_pct_avg = usg_stats_summary[\"AST_PCT\"].mean()"
   ]
  },
  {
   "cell_type": "code",
   "execution_count": null,
   "metadata": {},
   "outputs": [],
   "source": [
    "usg_filter = usg_stats_summary[\"USG_PCT\"] <= max_usg_pct\n",
    "ast_filter = usg_stats_summary[\"AST_PCT\"] <= ast_pct_avg\n",
    "minuites_filter = usg_stats_summary[\"TOTAL_MIN\"] >= minimum_minuites\n",
    "usg_stats_summary_filtered = usg_stats_summary[usg_filter]\n",
    "usg_stats_summary_filtered = usg_stats_summary_filtered[ast_filter]\n",
    "usg_stats_summary_filtered = usg_stats_summary_filtered[minuites_filter]\n",
    "usg_stats_summary_filtered = usg_stats_summary_filtered.merge(relevant_season,on=\"PLAYER_NAME\")"
   ]
  },
  {
   "cell_type": "markdown",
   "metadata": {},
   "source": [
    "## Merge usage and 3pt shots"
   ]
  },
  {
   "cell_type": "code",
   "execution_count": null,
   "metadata": {
    "scrolled": true
   },
   "outputs": [],
   "source": [
    "usage_3pt_merge = df_3pt_freq_pct_filtered.merge(usg_stats_summary_filtered,on=\"PLAYER_NAME\")\n",
    "usage_3pt_merge[[\"PLAYER_NAME\",\"3PT_PCT\",\"TOTAL_ATTEMPTS\",\"FREQ_PCT\",\"USG_PCT\",\"AST_PCT\"]].head(10)\n",
    "usage_3pt_merge = usage_3pt_merge.merge(df_3pt_by_dist)\n",
    "usage_3pt_merge[\"NORMALIZE_3PT_PCT\"] = (usage_3pt_merge['4-6 Feet - Open'] + usage_3pt_merge['6+ Feet - Wide Open'])/2"
   ]
  },
  {
   "cell_type": "markdown",
   "metadata": {},
   "source": [
    "## Mesure Defense - DRPM"
   ]
  },
  {
   "cell_type": "markdown",
   "metadata": {},
   "source": [
    "## Read From API"
   ]
  },
  {
   "cell_type": "code",
   "execution_count": null,
   "metadata": {},
   "outputs": [],
   "source": [
    "rapm_df = pd.read_csv(\"rapm.csv\").drop_duplicates()"
   ]
  },
  {
   "cell_type": "markdown",
   "metadata": {},
   "source": [
    "## Calculate avg for graph"
   ]
  },
  {
   "cell_type": "code",
   "execution_count": null,
   "metadata": {},
   "outputs": [],
   "source": [
    "avg_rapm = rapm_df[\"RAPM__Def\"].mean()"
   ]
  },
  {
   "cell_type": "markdown",
   "metadata": {},
   "source": [
    "## Graph conf"
   ]
  },
  {
   "cell_type": "code",
   "execution_count": null,
   "metadata": {},
   "outputs": [],
   "source": [
    "from matplotlib.patches import Rectangle\n",
    "min_drpm = -3.5#rpm_3pt_usg_df[\"DRPM\"].min()\n",
    "max_drpm = 3.5#rpm_3pt_usg_df[\"DRPM\"].max()\n",
    "min_shot_pct = 0#rpm_3pt_usg_df[\"3PT_PCT\"].min()\n",
    "max_shot_pct = 0.55\n",
    "alpha= 0.2\n",
    "plt.rc('font', size=14)\n"
   ]
  },
  {
   "cell_type": "markdown",
   "metadata": {},
   "source": [
    "## Draw Graph "
   ]
  },
  {
   "cell_type": "code",
   "execution_count": null,
   "metadata": {},
   "outputs": [],
   "source": [
    "# split here to two graph because overlap of text\n",
    "rapm_3pt_usg_df = usage_3pt_merge.merge(rapm_df,on=\"PLAYER_NAME\")\n",
    "rapm_3pt_usg_df = rapm_3pt_usg_df.sort_values(\"RAPM__Def\")\n",
    "#rapm_3pt_usg_df = rapm_3pt_usg_df[~rapm_3pt_usg_df[\"PLAYER_NAME\"].isin([\"Pat Connaughton\",\"Trey Lyles\",\"Danilo Gallinari\",\"Tim Hardaway Jr.\",\"Markieff Morris\",\"Bojan Bogdanovic\",\"OG Anunoby\",\"Jaylen Brown\",\"Langston Galloway\",\"Mikal Bridges\",\"DeMarre Carroll\",\"Kyle Kuzma\"])]\n",
    "                                                                    \n",
    "ax = rapm_3pt_usg_df.plot.scatter(x=\"3PT_PCT\",y=\"RAPM__Def\",figsize=(20,15))\n",
    "ax.add_patch(Rectangle((min_shot_pct,min_drpm), avg_shooting_pct - min_shot_pct , abs(avg_rapm - min_drpm),color='red',alpha=alpha))\n",
    "ax.add_patch(Rectangle((min_shot_pct,avg_rapm), avg_shooting_pct - min_shot_pct , abs(max_drpm - avg_rapm),color='yellow',alpha=alpha))\n",
    "ax.add_patch(Rectangle((avg_shooting_pct,min_drpm), max_shot_pct - avg_shooting_pct , abs(avg_rapm - min_drpm),color='yellow',alpha=alpha))\n",
    "ax.add_patch(Rectangle((avg_shooting_pct,avg_rapm), max_shot_pct - avg_shooting_pct , abs(max_drpm - avg_rapm),color='green',alpha=alpha))\n",
    "#ax.set_ylim(-3,3.2)\n",
    "for i, txt in enumerate(rapm_3pt_usg_df.PLAYER_NAME):\n",
    "    last_name_cnt = rapm_3pt_usg_df[rapm_3pt_usg_df[\"PLAYER_NAME\"].str.contains(\" \" + txt.split(\" \")[1])].count()[\"primaryKey\"]\n",
    "        \n",
    "    if(last_name_cnt > 1): # take first name and last name\n",
    "        name = txt.split(\" \")[0][0] + \".\" + txt.split(\" \")[1]\n",
    "    else: # take last name\n",
    "        name = txt.split(\" \")[0][0] + \".\" + txt.split(\" \")[1]#txt.split(\" \")[1]\n",
    "\n",
    "    ax.annotate( name, (rapm_3pt_usg_df[\"3PT_PCT\"].iat[i],rapm_3pt_usg_df[\"RAPM__Def\"].iat[i]),\\\n",
    "                xytext=(rapm_3pt_usg_df[\"3PT_PCT\"].iat[i],rapm_3pt_usg_df[\"RAPM__Def\"].iat[i]), textcoords='data',rotation=0)\n",
    "\n",
    "plt.show()"
   ]
  },
  {
   "cell_type": "code",
   "execution_count": null,
   "metadata": {},
   "outputs": [],
   "source": [
    "# split here to two graph because overlap of text\n",
    "rapm_3pt_usg_df = usage_3pt_merge.merge(rapm_df,on=\"PLAYER_NAME\")\n",
    "rapm_3pt_usg_df = rapm_3pt_usg_df.sort_values(\"RAPM__Def\")\n",
    "#rapm_3pt_usg_df = rapm_3pt_usg_df[~rapm_3pt_usg_df[\"PLAYER_NAME\"].isin([\"Pat Connaughton\",\"Trey Lyles\",\"Danilo Gallinari\",\"Tim Hardaway Jr.\",\"Markieff Morris\",\"Bojan Bogdanovic\",\"OG Anunoby\",\"Jaylen Brown\",\"Langston Galloway\",\"Mikal Bridges\",\"DeMarre Carroll\",\"Kyle Kuzma\"])]\n",
    "                                                                    \n",
    "ax = rapm_3pt_usg_df.plot.scatter(x=\"NORMALIZE_3PT_PCT\",y=\"RAPM__Def\",figsize=(20,15))\n",
    "ax.add_patch(Rectangle((min_shot_pct,min_drpm), avg_shooting_pct - min_shot_pct , abs(avg_rapm - min_drpm),color='red',alpha=alpha))\n",
    "ax.add_patch(Rectangle((min_shot_pct,avg_rapm), avg_shooting_pct - min_shot_pct , abs(max_drpm - avg_rapm),color='yellow',alpha=alpha))\n",
    "ax.add_patch(Rectangle((avg_shooting_pct,min_drpm), max_shot_pct - avg_shooting_pct , abs(avg_rapm - min_drpm),color='yellow',alpha=alpha))\n",
    "ax.add_patch(Rectangle((avg_shooting_pct,avg_rapm), max_shot_pct - avg_shooting_pct , abs(max_drpm - avg_rapm),color='green',alpha=alpha))\n",
    "#ax.set_ylim(-3,3.2)\n",
    "for i, txt in enumerate(rapm_3pt_usg_df.PLAYER_NAME):\n",
    "    last_name_cnt = rapm_3pt_usg_df[rapm_3pt_usg_df[\"PLAYER_NAME\"].str.contains(\" \" + txt.split(\" \")[1])].count()[\"primaryKey\"]\n",
    "        \n",
    "    if(last_name_cnt > 1): # take first name and last name\n",
    "        name = txt.split(\" \")[0][0] + \".\" + txt.split(\" \")[1]\n",
    "    else: # take last name\n",
    "        name = txt.split(\" \")[0][0] + \".\" + txt.split(\" \")[1]#txt.split(\" \")[1]\n",
    "\n",
    "    ax.annotate( name, (rapm_3pt_usg_df[\"NORMALIZE_3PT_PCT\"].iat[i],rapm_3pt_usg_df[\"RAPM__Def\"].iat[i]),\\\n",
    "                xytext=(rapm_3pt_usg_df[\"NORMALIZE_3PT_PCT\"].iat[i],rapm_3pt_usg_df[\"RAPM__Def\"].iat[i]), textcoords='data',rotation=0)\n",
    "\n",
    "plt.show()"
   ]
  },
  {
   "cell_type": "markdown",
   "metadata": {},
   "source": [
    "## Calculate Rank for results"
   ]
  },
  {
   "cell_type": "code",
   "execution_count": null,
   "metadata": {},
   "outputs": [],
   "source": [
    "from sklearn.preprocessing import MinMaxScaler\n",
    "import math\n",
    "rapm_3pt_usg_df_ranking = rapm_3pt_usg_df#[rapm_3pt_usg_df[\"PLAYER_NAME\"] != \"Robert Covington\"]\n",
    "scaler=MinMaxScaler(feature_range=(rapm_3pt_usg_df[\"3PT_PCT\"].min(),rapm_3pt_usg_df[\"3PT_PCT\"].max()))\n",
    "rapm_3pt_usg_df_ranking[\"DRAPM_NORMALIZE\"]=scaler.fit_transform(rapm_3pt_usg_df_ranking[[\"RAPM__Def\"]])\n",
    "rapm_3pt_usg_df_ranking[\"DRAPM_3PT_AVG\"] = (rapm_3pt_usg_df_ranking[\"DRAPM_NORMALIZE\"] * rapm_3pt_usg_df_ranking[\"3PT_PCT\"]) ** 0.5"
   ]
  },
  {
   "cell_type": "code",
   "execution_count": null,
   "metadata": {},
   "outputs": [],
   "source": [
    "rapm_3pt_usg_df_ranking[\"DRAPM\"] = rapm_3pt_usg_df_ranking[\"RAPM__Def\"]\n",
    "rapm_3pt_usg_df_ranking[\"DRAPM_RANK\"] = rapm_3pt_usg_df_ranking[\"RAPM__Def\"].rank(method='first',ascending=False)\n",
    "rapm_3pt_usg_df_ranking[\"3PT_RANK\"] = rapm_3pt_usg_df_ranking[\"3PT_PCT\"].rank(method='first',ascending=False)\n",
    "rapm_3pt_usg_df_ranking[\"TOTAL_RANK\"] = (rapm_3pt_usg_df_ranking[\"DRAPM_RANK\"] + rapm_3pt_usg_df_ranking[\"3PT_RANK\"])/2\n",
    "rapm_3pt_usg_df_ranking = rapm_3pt_usg_df_ranking[[\"PLAYER_NAME\",\"TOTAL_ATTEMPTS\",\"TOTAL_MADE\",\"3PT_PCT\",\"DRAPM\",\"FREQ_PCT\",\"DRAPM_RANK\",\"3PT_RANK\",\"TOTAL_RANK\",'4-6 Feet - Open','6+ Feet - Wide Open','NORMALIZE_3PT_PCT']]"
   ]
  },
  {
   "cell_type": "markdown",
   "metadata": {},
   "source": [
    "## Find best players"
   ]
  },
  {
   "cell_type": "code",
   "execution_count": null,
   "metadata": {
    "scrolled": false
   },
   "outputs": [],
   "source": [
    "rapm_3pt_usg_df_ranking_best = rapm_3pt_usg_df_ranking[rapm_3pt_usg_df_ranking[\"DRAPM\"] > avg_rapm]\n",
    "rapm_3pt_usg_df_ranking_best = rapm_3pt_usg_df_ranking_best[rapm_3pt_usg_df_ranking[\"NORMALIZE_3PT_PCT\"] > avg_shooting_pct]"
   ]
  },
  {
   "cell_type": "code",
   "execution_count": null,
   "metadata": {},
   "outputs": [],
   "source": [
    "rapm_3pt_usg_df_ranking_best.sort_values(\"TOTAL_RANK\",ascending=True).head(60)"
   ]
  },
  {
   "cell_type": "markdown",
   "metadata": {},
   "source": [
    "## Find worst players"
   ]
  },
  {
   "cell_type": "code",
   "execution_count": 1024,
   "metadata": {},
   "outputs": [],
   "source": [
    "rapm_3pt_usg_df_ranking_worst = rapm_3pt_usg_df_ranking[rapm_3pt_usg_df_ranking[\"DRAPM\"] < avg_rapm]\n",
    "rapm_3pt_usg_df_ranking_worst = rapm_3pt_usg_df_ranking_worst[rapm_3pt_usg_df_ranking[\"3PT_PCT\"] < avg_shooting_pct]"
   ]
  },
  {
   "cell_type": "code",
   "execution_count": 1025,
   "metadata": {},
   "outputs": [
    {
     "data": {
      "text/html": [
       "<div>\n",
       "<style scoped>\n",
       "    .dataframe tbody tr th:only-of-type {\n",
       "        vertical-align: middle;\n",
       "    }\n",
       "\n",
       "    .dataframe tbody tr th {\n",
       "        vertical-align: top;\n",
       "    }\n",
       "\n",
       "    .dataframe thead th {\n",
       "        text-align: right;\n",
       "    }\n",
       "</style>\n",
       "<table border=\"1\" class=\"dataframe\">\n",
       "  <thead>\n",
       "    <tr style=\"text-align: right;\">\n",
       "      <th></th>\n",
       "      <th>PLAYER_NAME</th>\n",
       "      <th>TOTAL_ATTEMPTS</th>\n",
       "      <th>TOTAL_MADE</th>\n",
       "      <th>3PT_PCT</th>\n",
       "      <th>DRAPM</th>\n",
       "      <th>FREQ_PCT</th>\n",
       "      <th>DRAPM_RANK</th>\n",
       "      <th>3PT_RANK</th>\n",
       "      <th>TOTAL_RANK</th>\n",
       "    </tr>\n",
       "  </thead>\n",
       "  <tbody>\n",
       "    <tr>\n",
       "      <th>33</th>\n",
       "      <td>Terrance Ferguson</td>\n",
       "      <td>201.0</td>\n",
       "      <td>65.0</td>\n",
       "      <td>0.323383</td>\n",
       "      <td>-1.95</td>\n",
       "      <td>0.710448</td>\n",
       "      <td>42.0</td>\n",
       "      <td>37.0</td>\n",
       "      <td>39.5</td>\n",
       "    </tr>\n",
       "    <tr>\n",
       "      <th>37</th>\n",
       "      <td>Torrey Craig</td>\n",
       "      <td>187.0</td>\n",
       "      <td>60.0</td>\n",
       "      <td>0.320856</td>\n",
       "      <td>-1.80</td>\n",
       "      <td>0.512192</td>\n",
       "      <td>40.0</td>\n",
       "      <td>39.0</td>\n",
       "      <td>39.5</td>\n",
       "    </tr>\n",
       "    <tr>\n",
       "      <th>15</th>\n",
       "      <td>Jae Crowder</td>\n",
       "      <td>451.0</td>\n",
       "      <td>145.0</td>\n",
       "      <td>0.321508</td>\n",
       "      <td>-1.70</td>\n",
       "      <td>0.620590</td>\n",
       "      <td>39.0</td>\n",
       "      <td>38.0</td>\n",
       "      <td>38.5</td>\n",
       "    </tr>\n",
       "    <tr>\n",
       "      <th>38</th>\n",
       "      <td>Trevor Ariza</td>\n",
       "      <td>394.0</td>\n",
       "      <td>126.0</td>\n",
       "      <td>0.319797</td>\n",
       "      <td>-0.25</td>\n",
       "      <td>0.653587</td>\n",
       "      <td>26.0</td>\n",
       "      <td>40.0</td>\n",
       "      <td>33.0</td>\n",
       "    </tr>\n",
       "    <tr>\n",
       "      <th>28</th>\n",
       "      <td>Pat Connaughton</td>\n",
       "      <td>231.0</td>\n",
       "      <td>80.0</td>\n",
       "      <td>0.346320</td>\n",
       "      <td>-0.40</td>\n",
       "      <td>0.557586</td>\n",
       "      <td>30.0</td>\n",
       "      <td>30.0</td>\n",
       "      <td>30.0</td>\n",
       "    </tr>\n",
       "    <tr>\n",
       "      <th>6</th>\n",
       "      <td>CJ Miles</td>\n",
       "      <td>255.0</td>\n",
       "      <td>85.0</td>\n",
       "      <td>0.333333</td>\n",
       "      <td>-0.06</td>\n",
       "      <td>0.725029</td>\n",
       "      <td>21.0</td>\n",
       "      <td>33.0</td>\n",
       "      <td>27.0</td>\n",
       "    </tr>\n",
       "  </tbody>\n",
       "</table>\n",
       "</div>"
      ],
      "text/plain": [
       "          PLAYER_NAME  TOTAL_ATTEMPTS  TOTAL_MADE   3PT_PCT  DRAPM  FREQ_PCT  \\\n",
       "33  Terrance Ferguson  201.0           65.0        0.323383 -1.95   0.710448   \n",
       "37  Torrey Craig       187.0           60.0        0.320856 -1.80   0.512192   \n",
       "15  Jae Crowder        451.0           145.0       0.321508 -1.70   0.620590   \n",
       "38  Trevor Ariza       394.0           126.0       0.319797 -0.25   0.653587   \n",
       "28  Pat Connaughton    231.0           80.0        0.346320 -0.40   0.557586   \n",
       "6   CJ Miles           255.0           85.0        0.333333 -0.06   0.725029   \n",
       "\n",
       "    DRAPM_RANK  3PT_RANK  TOTAL_RANK  \n",
       "33  42.0        37.0      39.5        \n",
       "37  40.0        39.0      39.5        \n",
       "15  39.0        38.0      38.5        \n",
       "38  26.0        40.0      33.0        \n",
       "28  30.0        30.0      30.0        \n",
       "6   21.0        33.0      27.0        "
      ]
     },
     "execution_count": 1025,
     "metadata": {},
     "output_type": "execute_result"
    }
   ],
   "source": [
    "rapm_3pt_usg_df_ranking_worst.sort_values(\"TOTAL_RANK\",ascending=False).head(20)"
   ]
  },
  {
   "cell_type": "markdown",
   "metadata": {},
   "source": [
    "## Find one job players"
   ]
  },
  {
   "cell_type": "code",
   "execution_count": 1026,
   "metadata": {},
   "outputs": [],
   "source": [
    "rapm_3pt_usg_df_ranking_yellow = rapm_3pt_usg_df_ranking[\\\n",
    "~((rapm_3pt_usg_df_ranking[\"DRAPM\"] < avg_rapm) & (rapm_3pt_usg_df_ranking[\"3PT_PCT\"] < avg_shooting_pct)) \\\n",
    "& ~((rapm_3pt_usg_df_ranking[\"DRAPM\"] > avg_rapm) & (rapm_3pt_usg_df_ranking[\"3PT_PCT\"] >avg_shooting_pct))]"
   ]
  },
  {
   "cell_type": "code",
   "execution_count": 1027,
   "metadata": {},
   "outputs": [
    {
     "data": {
      "text/html": [
       "<div>\n",
       "<style scoped>\n",
       "    .dataframe tbody tr th:only-of-type {\n",
       "        vertical-align: middle;\n",
       "    }\n",
       "\n",
       "    .dataframe tbody tr th {\n",
       "        vertical-align: top;\n",
       "    }\n",
       "\n",
       "    .dataframe thead th {\n",
       "        text-align: right;\n",
       "    }\n",
       "</style>\n",
       "<table border=\"1\" class=\"dataframe\">\n",
       "  <thead>\n",
       "    <tr style=\"text-align: right;\">\n",
       "      <th></th>\n",
       "      <th>PLAYER_NAME</th>\n",
       "      <th>TOTAL_ATTEMPTS</th>\n",
       "      <th>TOTAL_MADE</th>\n",
       "      <th>3PT_PCT</th>\n",
       "      <th>DRAPM</th>\n",
       "      <th>FREQ_PCT</th>\n",
       "      <th>DRAPM_RANK</th>\n",
       "      <th>3PT_RANK</th>\n",
       "      <th>TOTAL_RANK</th>\n",
       "    </tr>\n",
       "  </thead>\n",
       "  <tbody>\n",
       "    <tr>\n",
       "      <th>29</th>\n",
       "      <td>Reggie Bullock</td>\n",
       "      <td>262.0</td>\n",
       "      <td>109.0</td>\n",
       "      <td>0.416031</td>\n",
       "      <td>-0.09</td>\n",
       "      <td>0.587109</td>\n",
       "      <td>22.0</td>\n",
       "      <td>7.0</td>\n",
       "      <td>14.5</td>\n",
       "    </tr>\n",
       "    <tr>\n",
       "      <th>9</th>\n",
       "      <td>Davis Bertans</td>\n",
       "      <td>427.0</td>\n",
       "      <td>174.0</td>\n",
       "      <td>0.407494</td>\n",
       "      <td>-0.25</td>\n",
       "      <td>0.747740</td>\n",
       "      <td>27.0</td>\n",
       "      <td>9.0</td>\n",
       "      <td>18.0</td>\n",
       "    </tr>\n",
       "    <tr>\n",
       "      <th>0</th>\n",
       "      <td>Al-Farouq Aminu</td>\n",
       "      <td>192.0</td>\n",
       "      <td>64.0</td>\n",
       "      <td>0.333333</td>\n",
       "      <td>1.54</td>\n",
       "      <td>0.527536</td>\n",
       "      <td>4.0</td>\n",
       "      <td>34.0</td>\n",
       "      <td>19.0</td>\n",
       "    </tr>\n",
       "    <tr>\n",
       "      <th>23</th>\n",
       "      <td>Langston Galloway</td>\n",
       "      <td>389.0</td>\n",
       "      <td>152.0</td>\n",
       "      <td>0.390746</td>\n",
       "      <td>-0.25</td>\n",
       "      <td>0.635901</td>\n",
       "      <td>25.0</td>\n",
       "      <td>14.0</td>\n",
       "      <td>19.5</td>\n",
       "    </tr>\n",
       "    <tr>\n",
       "      <th>13</th>\n",
       "      <td>Furkan Korkmaz</td>\n",
       "      <td>178.0</td>\n",
       "      <td>75.0</td>\n",
       "      <td>0.421348</td>\n",
       "      <td>-0.88</td>\n",
       "      <td>0.608344</td>\n",
       "      <td>33.0</td>\n",
       "      <td>6.0</td>\n",
       "      <td>19.5</td>\n",
       "    </tr>\n",
       "  </tbody>\n",
       "</table>\n",
       "</div>"
      ],
      "text/plain": [
       "          PLAYER_NAME  TOTAL_ATTEMPTS  TOTAL_MADE   3PT_PCT  DRAPM  FREQ_PCT  \\\n",
       "29  Reggie Bullock     262.0           109.0       0.416031 -0.09   0.587109   \n",
       "9   Davis Bertans      427.0           174.0       0.407494 -0.25   0.747740   \n",
       "0   Al-Farouq Aminu    192.0           64.0        0.333333  1.54   0.527536   \n",
       "23  Langston Galloway  389.0           152.0       0.390746 -0.25   0.635901   \n",
       "13  Furkan Korkmaz     178.0           75.0        0.421348 -0.88   0.608344   \n",
       "\n",
       "    DRAPM_RANK  3PT_RANK  TOTAL_RANK  \n",
       "29  22.0        7.0       14.5        \n",
       "9   27.0        9.0       18.0        \n",
       "0   4.0         34.0      19.0        \n",
       "23  25.0        14.0      19.5        \n",
       "13  33.0        6.0       19.5        "
      ]
     },
     "execution_count": 1027,
     "metadata": {},
     "output_type": "execute_result"
    }
   ],
   "source": [
    "rapm_3pt_usg_df_ranking_yellow.sort_values(\"TOTAL_RANK\",ascending=True).head(5)"
   ]
  },
  {
   "cell_type": "code",
   "execution_count": null,
   "metadata": {},
   "outputs": [],
   "source": []
  },
  {
   "cell_type": "code",
   "execution_count": null,
   "metadata": {},
   "outputs": [],
   "source": []
  },
  {
   "cell_type": "code",
   "execution_count": null,
   "metadata": {},
   "outputs": [],
   "source": []
  },
  {
   "cell_type": "code",
   "execution_count": 779,
   "metadata": {},
   "outputs": [],
   "source": [
    "# from IPython.display import HTML\n",
    "# import base64\n",
    "\n",
    "# def image_formatter(im):\n",
    "#     return f'<img src=\"data:image/jpeg;base64,{image_base64(im)}\" width=50 height=50>'\n",
    "\n",
    "# def image_base64(im):\n",
    "#     if isinstance(im, str):\n",
    "#         im = get_thumbnail(im)\n",
    "#     with BytesIO() as buffer:\n",
    "#         im = im.convert(\"RGB\")\n",
    "#         im.save(buffer, 'jpeg')\n",
    "#         return base64.b64encode(buffer.getvalue()).decode()\n",
    "    \n",
    "# def get_thumbnail(path):\n",
    "#     i = Image.open(path)\n",
    "#     i.thumbnail((150, 150), Image.LANCZOS)\n",
    "#     return i\n",
    "    \n",
    "# from PIL import Image\n",
    "# import requests\n",
    "# from io import BytesIO\n",
    "# rpm_3pt_usg_df_ranking_best[\"pic\"] = \"\"\n",
    "# for index,row in rpm_3pt_usg_df_ranking_best.iterrows():\n",
    "#     player_name = rpm_3pt_usg_df_ranking_best[\"PLAYER_NAME\"][index].split(\" \")\n",
    "#     payload = {}\n",
    "#     response = requests.request(\"GET\",\"https://nba-players.herokuapp.com/players/{0}/{1}\".format(player_name[1],player_name[0]),params={},headers=headers,data = payload)\n",
    "#     try:\n",
    "#         img = Image.open(BytesIO(response.content))\n",
    "    \n",
    "#     except:\n",
    "#         response = requests.request(\"GET\",\"https://nba-players.herokuapp.com/players/curry/stephen\",params={},headers=headers,data = payload)\n",
    "#         img = None#Image.open(BytesIO(response.content))\n",
    "    \n",
    "#     rpm_3pt_usg_df_ranking_best[\"pic\"][index] = img\n",
    "#     #break\n",
    "\n",
    "# # rpm_3pt_usg_df_ranking_worst[\"pic\"] = img\n",
    "# #HTML(rpm_3pt_usg_df_ranking_best.to_html(formatters={'pic': image_formatter}, escape=False))\n"
   ]
  },
  {
   "cell_type": "code",
   "execution_count": 880,
   "metadata": {},
   "outputs": [
    {
     "data": {
      "image/png": "[encoded data removed]",
      "text/plain": [
       "<Figure size 1440x1080 with 1 Axes>"
      ]
     },
     "metadata": {
      "needs_background": "light"
     },
     "output_type": "display_data"
    }
   ],
   "source": [
    "# split here to two graph because overlap of text\n",
    "#rapm_3pt_usg_df = usage_3pt_merge.merge(rapm_df,on=\"PLAYER_NAME\")\n",
    "#rapm_3pt_usg_df = rapm_3pt_usg_df.sort_values(\"RAPM__Def\")\n",
    "#rapm_3pt_usg_df = rapm_3pt_usg_df[~rapm_3pt_usg_df[\"PLAYER_NAME\"].isin([\"Pat Connaughton\",\"Trey Lyles\",\"Danilo Gallinari\",\"Tim Hardaway Jr.\",\"Markieff Morris\",\"Bojan Bogdanovic\",\"OG Anunoby\",\"Jaylen Brown\",\"Langston Galloway\",\"Mikal Bridges\",\"DeMarre Carroll\",\"Kyle Kuzma\"])]\n",
    "                                                                    \n",
    "ax = rapm_3pt_usg_df_ranking.plot.scatter(x=\"3PT_PCT\",y=\"DRAPM_NORMALIZE\",figsize=(20,15))\n",
    "ax.add_patch(Rectangle((min_shot_pct,min_drpm), avg_shooting_pct - min_shot_pct , abs(avg_rapm - min_drpm),color='red',alpha=alpha))\n",
    "ax.add_patch(Rectangle((min_shot_pct,avg_rapm), avg_shooting_pct - min_shot_pct , abs(max_drpm - avg_rapm),color='yellow',alpha=alpha))\n",
    "ax.add_patch(Rectangle((avg_shooting_pct,min_drpm), max_shot_pct - avg_shooting_pct , abs(avg_rapm - min_drpm),color='yellow',alpha=alpha))\n",
    "ax.add_patch(Rectangle((avg_shooting_pct,avg_rapm), max_shot_pct - avg_shooting_pct , abs(max_drpm - avg_rapm),color='green',alpha=alpha))\n",
    "ax.set_ylim(0.25,0.49)\n",
    "for i, txt in enumerate(rapm_3pt_usg_df.PLAYER_NAME):\n",
    "    last_name_cnt = rapm_3pt_usg_df_ranking[rapm_3pt_usg_df_ranking[\"PLAYER_NAME\"].str.contains(\" \" + txt.split(\" \")[1])].count()[\"TOTAL_RANK\"]\n",
    "        \n",
    "    if(last_name_cnt > 1): # take first name and last name\n",
    "        name = txt.split(\" \")[0][0] + \".\" + txt.split(\" \")[1]\n",
    "    else: # take last name\n",
    "        name = txt.split(\" \")[1]\n",
    "\n",
    "    ax.annotate( name, (rapm_3pt_usg_df_ranking[\"3PT_PCT\"].iat[i],rapm_3pt_usg_df_ranking[\"DRAPM_NORMALIZE\"].iat[i]),\\\n",
    "                xytext=(rapm_3pt_usg_df_ranking[\"3PT_PCT\"].iat[i],rapm_3pt_usg_df_ranking[\"DRAPM_NORMALIZE\"].iat[i]), textcoords='data',rotation=0)\n",
    "\n",
    "plt.show()"
   ]
  },
  {
   "cell_type": "code",
   "execution_count": null,
   "metadata": {},
   "outputs": [],
   "source": []
  }
 ],
 "metadata": {
  "kernelspec": {
   "display_name": "Python 3",
   "language": "python",
   "name": "python3"
  },
  "language_info": {
   "codemirror_mode": {
    "name": "ipython",
    "version": 3
   },
   "file_extension": ".py",
   "mimetype": "text/x-python",
   "name": "python",
   "nbconvert_exporter": "python",
   "pygments_lexer": "ipython3",
   "version": "3.8.0"
  }
 },
 "nbformat": 4,
 "nbformat_minor": 2
}
