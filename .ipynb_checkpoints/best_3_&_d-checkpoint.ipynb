{
 "cells": [
  {
   "cell_type": "markdown",
   "metadata": {},
   "source": [
    "## Import & Conf"
   ]
  },
  {
   "cell_type": "code",
   "execution_count": 4,
   "metadata": {},
   "outputs": [],
   "source": [
    "import pandas as pd\n",
    "import numpy as np\n",
    "import matplotlib.pyplot as plt\n",
    "import requests\n",
    "import warnings\n",
    "warnings.filterwarnings('ignore')"
   ]
  },
  {
   "cell_type": "markdown",
   "metadata": {},
   "source": [
    "# Build the api"
   ]
  },
  {
   "cell_type": "code",
   "execution_count": 5,
   "metadata": {},
   "outputs": [],
   "source": [
    "headers = {\n",
    "  'Referer': 'https://stats.nba.com/players/shots-dribbles',\n",
    "  'User-Agent': 'Mozilla/5.0 (Windows NT 10.0; Win64; x64) AppleWebKit/537.36 (KHTML, like Gecko) Chrome/79.0.3945.130 Safari/537.36',\n",
    "  'x-nba-stats-origin': 'stats'\n",
    "}"
   ]
  },
  {
   "cell_type": "code",
   "execution_count": 6,
   "metadata": {},
   "outputs": [],
   "source": [
    "def get_shooting_stats(  url=\"http://stats.nba.com/stats/leaguedashplayerptshot?\",\n",
    "                PerMode=\"PerGame\",\n",
    "                LeagueID = \"00\",\n",
    "                Season = \"2019-20\",\n",
    "                SeasonType = \"Regular Season\",\n",
    "                PORound= 0,\n",
    "                CloseDefDistRange= '',\n",
    "                ShotClockRange='',\n",
    "                ShotDistRange= '',#'> 5',\n",
    "                TouchTimeRange= '',\n",
    "                DribbleRange= \"0 Dribbles\",\n",
    "                GeneralRange= '',\n",
    "                TeamID= 0,\n",
    "                Outcome= '',\n",
    "                Location= '',\n",
    "                Month= 0,\n",
    "                SeasonSegment= '',\n",
    "                DateFrom= '',\n",
    "                DateTo= '',\n",
    "                OpponentTeamID= 0,\n",
    "                VsConference= '',\n",
    "                VsDivision= '',\n",
    "                Conference= '',\n",
    "                Division= '',\n",
    "                GameSegment= '',\n",
    "                Period= 0,\n",
    "                LastNGames= 0):\n",
    "    url = url\n",
    "    api_param = {\n",
    "    \"PerMode\": PerMode,\n",
    "    \"LeagueID\": LeagueID,\n",
    "    \"Season\": Season,\n",
    "    \"SeasonType\": SeasonType,\n",
    "    \"PORound\": PORound,\n",
    "    \"CloseDefDistRange\": CloseDefDistRange,#'0-2 Feet - Very Tight',\n",
    "    \"ShotClockRange\":ShotClockRange,\n",
    "    \"ShotDistRange\": ShotDistRange,#'> 5',\n",
    "    \"TouchTimeRange\": TouchTimeRange,\n",
    "    \"DribbleRange\": DribbleRange,\n",
    "    \"GeneralRange\": GeneralRange,\n",
    "    \"TeamID\": TeamID,\n",
    "    \"Outcome\": Outcome,\n",
    "    \"Location\": Location,\n",
    "    \"Month\": Month,\n",
    "    \"SeasonSegment\": SeasonSegment,\n",
    "    \"DateFrom\": DateFrom,\n",
    "    \"DateTo\": DateTo,\n",
    "    \"OpponentTeamID\": OpponentTeamID,\n",
    "    \"VsConference\": VsConference,\n",
    "    \"VsDivision\": VsDivision,\n",
    "    \"Conference\": Conference,\n",
    "    \"Division\": Division,\n",
    "    \"GameSegment\": GameSegment,\n",
    "    \"Period\": Period,\n",
    "    \"LastNGames\": LastNGames\n",
    "    }\n",
    "    payload = {}\n",
    "    response = requests.request(\"GET\",url,params=api_param,headers=headers,data = payload)\n",
    "    data = response.json()\n",
    "    df = pd.DataFrame(data['resultSets'][0]['rowSet'],columns=data['resultSets'][0]['headers'])\n",
    "    df[\"Season\"] = Season\n",
    "    df[\"CloseDefDistRange\"] = CloseDefDistRange\n",
    "    df[\"DribbleRange\"] = DribbleRange\n",
    "    return df\n",
    "\n",
    "def seasons_string(start,end):\n",
    "    '''\n",
    "    creates a list of NBA seasons from start-end\n",
    "    '''\n",
    "    years = np.arange(start,end+1)\n",
    "    seasons = []\n",
    "    for year in years:\n",
    "        string1 = str(year)\n",
    "        string2 = str(year+1)\n",
    "        season = '{}-{}'.format(string1,string2[-2:])\n",
    "        seasons.append(season)\n",
    "    return seasons\n",
    "\n",
    "def get_usg_stats(  url=\"http://stats.nba.com/stats/leaguedashplayerstats?\",\n",
    "                MeasureType= \"Advanced\",\n",
    "                PerMode= \"PerGame\",\n",
    "                PlusMinus= \"N\",\n",
    "                PaceAdjust= \"N\",\n",
    "                Rank= \"N\",\n",
    "                LeagueID= \"00\",\n",
    "                Season= \"2019-20\",\n",
    "                SeasonType= \"Regular Season\",\n",
    "                PORound= 0,\n",
    "                Outcome= '',\n",
    "                Location= '',\n",
    "                Month= 0,\n",
    "                SeasonSegment= '',\n",
    "                DateFrom= '',\n",
    "                DateTo= '',\n",
    "                OpponentTeamID= 0,\n",
    "                VsConference= '',\n",
    "                VsDivision= '',\n",
    "                TeamID= 0,\n",
    "                Conference= '',\n",
    "                Division= '',\n",
    "                GameSegment= '',\n",
    "                Period= 0,\n",
    "                ShotClockRange= '',\n",
    "                LastNGames= 0,\n",
    "                GameScope= '',\n",
    "                PlayerExperience= '',\n",
    "                PlayerPosition= '',\n",
    "                StarterBench= '',\n",
    "                DraftYear= '',\n",
    "                DraftPick= '',\n",
    "                College= '',\n",
    "                Country= '',\n",
    "                Height= '',\n",
    "                Weight= '',\n",
    "                TwoWay= 0):\n",
    "    url = url\n",
    "    api_param = {\n",
    "    \"MeasureType\":MeasureType,\n",
    "    \"PerMode\":PerMode,\n",
    "    \"PlusMinus\":PlusMinus,\n",
    "    \"PaceAdjust\":PaceAdjust,\n",
    "    \"Rank\":Rank,\n",
    "    \"LeagueID\":LeagueID,\n",
    "    \"Season\":Season,\n",
    "    \"SeasonType\":SeasonType,\n",
    "    \"PORound\":PORound,\n",
    "    \"Outcome\":Outcome,\n",
    "    \"Location\":Location,\n",
    "    \"Month\":Month,\n",
    "    \"SeasonSegment\":SeasonSegment,\n",
    "    \"DateFrom\":DateFrom,\n",
    "    \"DateTo\":DateTo,\n",
    "    \"OpponentTeamID\":OpponentTeamID,\n",
    "    \"VsConference\":VsConference,\n",
    "    \"VsDivision\":VsDivision,\n",
    "    \"TeamID\":TeamID,\n",
    "    \"Conference\":Conference,\n",
    "    \"Division\":Division,\n",
    "    \"GameSegment\":GameSegment,\n",
    "    \"Period\":Period,\n",
    "    \"ShotClockRange\":ShotClockRange,\n",
    "    \"LastNGames\":LastNGames,\n",
    "    \"GameScope\":GameScope,\n",
    "    \"PlayerExperience\":PlayerExperience,\n",
    "    \"PlayerPosition\":PlayerPosition,\n",
    "    \"StarterBench\":StarterBench,\n",
    "    \"DraftYear\":DraftYear,\n",
    "    \"DraftPick\":DraftPick,\n",
    "    \"College\":College,\n",
    "    \"Country\":Country,\n",
    "    \"Height\":Height,\n",
    "    \"Weight\":Weight,\n",
    "    \"TwoWay\":TwoWay\n",
    "    }\n",
    "    payload = {}\n",
    "    response = requests.request(\"GET\",url,params=api_param,headers=headers,data = payload)\n",
    "    data = response.json()\n",
    "    df = pd.DataFrame(data['resultSets'][0]['rowSet'],columns=data['resultSets'][0]['headers'])\n",
    "    df[\"Season\"] = Season\n",
    "#     df[\"CloseDefDistRange\"] = CloseDefDistRange\n",
    "#     df[\"DribbleRange\"] = DribbleRange\n",
    "    return df\n",
    "\n",
    "\n",
    "def get_def_diff_pct_stats(url=\"https://stats.nba.com/stats/leaguedashptdefend?\",\n",
    "                PerMode= \"PerGame\",\n",
    "                LeagueID= \"00\",\n",
    "                Season= \"2019-20\",\n",
    "                SeasonType= \"Regular Season\",\n",
    "                PORound= 0,\n",
    "                PlayerID= '',\n",
    "                TeamID= 0,\n",
    "                Outcome= '',\n",
    "                Location= '',\n",
    "                Month= 0,\n",
    "                SeasonSegment= '',\n",
    "                DateFrom= '',\n",
    "                DateTo= '',\n",
    "                OpponentTeamID= 0,\n",
    "                VsConference= '',\n",
    "                VsDivision= '',\n",
    "                Conference= '',\n",
    "                Division= '',\n",
    "                GameSegment= '',\n",
    "                Period= 0,\n",
    "                LastNGames= 0,\n",
    "                DraftYear= '',\n",
    "                DraftPick= '',\n",
    "                College= '',\n",
    "                Country= '',\n",
    "                Height= '',\n",
    "                Weight= '',\n",
    "                PlayerExperience= '',\n",
    "                PlayerPosition= '',\n",
    "                StarterBench= '',\n",
    "                DefenseCategory= \"Overall\"):\n",
    "    url = url\n",
    "    api_param = {\n",
    "    \"PerMode\":PerMode,\n",
    "    \"LeagueID\":LeagueID,\n",
    "    \"Season\":Season,\n",
    "    \"SeasonType\":SeasonType,\n",
    "    \"PORound\":PORound,\n",
    "    \"PlayerID\":PlayerID,\n",
    "    \"TeamID\":TeamID,\n",
    "    \"Outcome\":Outcome,\n",
    "    \"Location\":Location,\n",
    "    \"Month\":Month,\n",
    "    \"SeasonSegment\":SeasonSegment,\n",
    "    \"DateFrom\":DateFrom,\n",
    "    \"DateTo\":DateTo,\n",
    "    \"OpponentTeamID\":OpponentTeamID,\n",
    "    \"VsConference\":VsConference,\n",
    "    \"VsDivision\":VsDivision,\n",
    "    \"Conference\":Conference,\n",
    "    \"Division\":Division,\n",
    "    \"GameSegment\":GameSegment,\n",
    "    \"Period\":Period,\n",
    "    \"LastNGames\":LastNGames,\n",
    "    \"DraftYear\":DraftYear,\n",
    "    \"DraftPick\":DraftPick,\n",
    "    \"College\":College,\n",
    "    \"Country\":Country,\n",
    "    \"Height\":Height,\n",
    "    \"Weight\":Weight,\n",
    "    \"PlayerExperience\":PlayerExperience,\n",
    "    \"PlayerPosition\":PlayerPosition,\n",
    "    \"StarterBench\":StarterBench,\n",
    "    \"DefenseCategory\":DefenseCategory\n",
    "}\n",
    "\n",
    "    payload = {}\n",
    "    response = requests.request(\"GET\",url,params=api_param,headers=headers,data = payload)\n",
    "    data = response.json()\n",
    "    df = pd.DataFrame(data['resultSets'][0]['rowSet'],columns=data['resultSets'][0]['headers'])\n",
    "    df[\"Season\"] = Season\n",
    "#     df[\"CloseDefDistRange\"] = CloseDefDistRange\n",
    "#     df[\"DribbleRange\"] = DribbleRange\n",
    "    return df\n",
    "    \n",
    "def get_shooting_stats(  url=\"http://stats.nba.com/stats/leaguedashplayerptshot?\",\n",
    "                PerMode=\"PerGame\",\n",
    "                LeagueID = \"00\",\n",
    "                Season = \"2019-20\",\n",
    "                SeasonType = \"Regular Season\",\n",
    "                PORound= 0,\n",
    "                CloseDefDistRange= '',\n",
    "                ShotClockRange='',\n",
    "                ShotDistRange= '',#'> 5',\n",
    "                TouchTimeRange= '',\n",
    "                DribbleRange= \"0 Dribbles\",\n",
    "                GeneralRange= '',\n",
    "                TeamID= 0,\n",
    "                Outcome= '',\n",
    "                Location= '',\n",
    "                Month= 0,\n",
    "                SeasonSegment= '',\n",
    "                DateFrom= '',\n",
    "                DateTo= '',\n",
    "                OpponentTeamID= 0,\n",
    "                VsConference= '',\n",
    "                VsDivision= '',\n",
    "                Conference= '',\n",
    "                Division= '',\n",
    "                GameSegment= '',\n",
    "                Period= 0,\n",
    "                LastNGames= 0):\n",
    "    url = url\n",
    "    api_param = {\n",
    "    \"PerMode\": PerMode,\n",
    "    \"LeagueID\": LeagueID,\n",
    "    \"Season\": Season,\n",
    "    \"SeasonType\": SeasonType,\n",
    "    \"PORound\": PORound,\n",
    "    \"CloseDefDistRange\": CloseDefDistRange,#'0-2 Feet - Very Tight',\n",
    "    \"ShotClockRange\":ShotClockRange,\n",
    "    \"ShotDistRange\": ShotDistRange,#'> 5',\n",
    "    \"TouchTimeRange\": TouchTimeRange,\n",
    "    \"DribbleRange\": DribbleRange,\n",
    "    \"GeneralRange\": GeneralRange,\n",
    "    \"TeamID\": TeamID,\n",
    "    \"Outcome\": Outcome,\n",
    "    \"Location\": Location,\n",
    "    \"Month\": Month,\n",
    "    \"SeasonSegment\": SeasonSegment,\n",
    "    \"DateFrom\": DateFrom,\n",
    "    \"DateTo\": DateTo,\n",
    "    \"OpponentTeamID\": OpponentTeamID,\n",
    "    \"VsConference\": VsConference,\n",
    "    \"VsDivision\": VsDivision,\n",
    "    \"Conference\": Conference,\n",
    "    \"Division\": Division,\n",
    "    \"GameSegment\": GameSegment,\n",
    "    \"Period\": Period,\n",
    "    \"LastNGames\": LastNGames\n",
    "    }\n",
    "    payload = {}\n",
    "    response = requests.request(\"GET\",url,params=api_param,headers=headers,data = payload)\n",
    "    data = response.json()\n",
    "    df = pd.DataFrame(data['resultSets'][0]['rowSet'],columns=data['resultSets'][0]['headers'])\n",
    "    df[\"Season\"] = Season\n",
    "    df[\"CloseDefDistRange\"] = CloseDefDistRange\n",
    "    df[\"DribbleRange\"] = DribbleRange\n",
    "    return df"
   ]
  },
  {
   "cell_type": "markdown",
   "metadata": {},
   "source": [
    "# Conf"
   ]
  },
  {
   "cell_type": "code",
   "execution_count": 7,
   "metadata": {},
   "outputs": [],
   "source": [
    "minimum_minuites = 20 * 50\n",
    "start_season = 2017\n",
    "end_season = 2019"
   ]
  },
  {
   "cell_type": "markdown",
   "metadata": {},
   "source": [
    "## functions"
   ]
  },
  {
   "cell_type": "code",
   "execution_count": 8,
   "metadata": {},
   "outputs": [],
   "source": [
    "def minuites_filter(df):\n",
    "    return df[(df[\"SUM_MIN\"] > minimum_minuites)]"
   ]
  },
  {
   "cell_type": "markdown",
   "metadata": {},
   "source": [
    "## Shooting analytics"
   ]
  },
  {
   "cell_type": "markdown",
   "metadata": {},
   "source": [
    "## Conf"
   ]
  },
  {
   "cell_type": "code",
   "execution_count": 38,
   "metadata": {},
   "outputs": [],
   "source": [
    "min_shots_attempts = 150\n",
    "dribbles = [\"0 Dribbles\",\"1 Dribble\"]\n",
    "CloseDefDistRanges = ['4-6 Feet - Open'] #['0-2 Feet - Very Tight','2-4 Feet - Tight','4-6 Feet - Open','']#['4-6 Feet - Open']#\n",
    "relevant_3pt_columns = [\"PLAYER_NAME\",\"GP\",\"TOTAL_ATTEMPTS\",\"CloseDefDistRange\",\"DribbleRange\",\"TOTAL_MADE\",\"Season\"]"
   ]
  },
  {
   "cell_type": "markdown",
   "metadata": {},
   "source": [
    "## Read From API"
   ]
  },
  {
   "cell_type": "code",
   "execution_count": 104,
   "metadata": {},
   "outputs": [],
   "source": [
    "df = []\n",
    "all_shots_df = []\n",
    "for season in seasons_string(start_season,end_season):\n",
    "    all_shots_df.append(get_shooting_stats(Season=season,CloseDefDistRange='',DribbleRange=''))\n",
    "    for dribble in dribbles:\n",
    "        for closeDefDistRange in CloseDefDistRanges:\n",
    "            df.append(get_shooting_stats(Season=season,CloseDefDistRange=closeDefDistRange,DribbleRange=dribble))\n",
    "shooting_stats_df = pd.concat([x for x in df],ignore_index=True)\n",
    "all_shots_df = pd.concat([x for x in all_shots_df],ignore_index=True)\n"
   ]
  },
  {
   "cell_type": "markdown",
   "metadata": {},
   "source": [
    "## Aggregate attempts - enganeering"
   ]
  },
  {
   "cell_type": "code",
   "execution_count": 105,
   "metadata": {},
   "outputs": [],
   "source": [
    "df_3pt = shooting_stats_df\n",
    "df_3pt[\"TOTAL_ATTEMPTS\"] = round(df_3pt[\"GP\"] * df_3pt[\"FG3A\"])\n",
    "df_3pt[\"TOTAL_MADE\"]     = round(df_3pt[\"GP\"] * df_3pt[\"FG3M\"])\n"
   ]
  },
  {
   "cell_type": "code",
   "execution_count": 106,
   "metadata": {},
   "outputs": [],
   "source": [
    "all_shots_df[\"TOTAL_3S\"]    = round(all_shots_df[\"GP\"] * all_shots_df[\"FG3A\"])\n",
    "all_shots_df[\"TOTAL_SHOTS\"] = all_shots_df[\"GP\"] * all_shots_df[\"FGA\"]"
   ]
  },
  {
   "cell_type": "markdown",
   "metadata": {},
   "source": [
    "## Group data to last season"
   ]
  },
  {
   "cell_type": "code",
   "execution_count": 107,
   "metadata": {},
   "outputs": [],
   "source": [
    "df_3pt_summary = df_3pt[relevant_3pt_columns].groupby(\"PLAYER_NAME\",as_index=False).sum()\n",
    "df_3pt_summary[\"3PT_PCT\"] = df_3pt_summary[\"TOTAL_MADE\"] / df_3pt_summary[\"TOTAL_ATTEMPTS\"]"
   ]
  },
  {
   "cell_type": "code",
   "execution_count": 108,
   "metadata": {},
   "outputs": [],
   "source": [
    "all_shots_summary = all_shots_df.groupby(\"PLAYER_NAME\",as_index=False).sum()\n",
    "all_shots_summary[\"FREQ_PCT\"] = all_shots_summary[\"TOTAL_3S\"] / all_shots_summary[\"TOTAL_SHOTS\"]\n",
    "df_3pt_frequency = all_shots_summary[[\"FREQ_PCT\",\"PLAYER_NAME\"]]"
   ]
  },
  {
   "cell_type": "markdown",
   "metadata": {},
   "source": [
    "## add 3pt frequency to our 3pt shots"
   ]
  },
  {
   "cell_type": "code",
   "execution_count": 109,
   "metadata": {},
   "outputs": [],
   "source": [
    "df_3pt_freq_pct = df_3pt_summary.merge(df_3pt_frequency)"
   ]
  },
  {
   "cell_type": "markdown",
   "metadata": {},
   "source": [
    "## Calculate avargaes to filter data"
   ]
  },
  {
   "cell_type": "code",
   "execution_count": 110,
   "metadata": {},
   "outputs": [],
   "source": [
    "avg_3pt_freq = (all_shots_summary[\"TOTAL_3S\"].sum() / all_shots_summary[\"TOTAL_SHOTS\"].sum())\n",
    "avg_shooting_pct = (df_3pt_freq_pct[\"TOTAL_MADE\"].sum() / df_3pt_freq_pct[\"TOTAL_ATTEMPTS\"].sum())"
   ]
  },
  {
   "cell_type": "markdown",
   "metadata": {},
   "source": [
    "## Filter data"
   ]
  },
  {
   "cell_type": "code",
   "execution_count": 111,
   "metadata": {},
   "outputs": [],
   "source": [
    "min_attemps_filter = df_3pt_freq_pct[\"TOTAL_ATTEMPTS\"] > min_shots_attempts\n",
    "above_avg_freq_filter = df_3pt_freq_pct[\"FREQ_PCT\"] > avg_3pt_freq\n",
    "df_3pt_freq_pct_filtered = df_3pt_freq_pct[min_attemps_filter]\n",
    "df_3pt_freq_pct_filtered = df_3pt_freq_pct[above_avg_freq_filter]\n",
    "df_3pt_freq_pct_filtered = df_3pt_freq_pct_filtered.drop([\"GP\"],axis=1)\n"
   ]
  },
  {
   "cell_type": "markdown",
   "metadata": {},
   "source": [
    "# Usage Analytics"
   ]
  },
  {
   "cell_type": "markdown",
   "metadata": {},
   "source": [
    "## Conf"
   ]
  },
  {
   "cell_type": "code",
   "execution_count": 46,
   "metadata": {},
   "outputs": [],
   "source": [
    "max_usg_pct = 0.25"
   ]
  },
  {
   "cell_type": "markdown",
   "metadata": {},
   "source": [
    "## Read From API"
   ]
  },
  {
   "cell_type": "code",
   "execution_count": 47,
   "metadata": {},
   "outputs": [],
   "source": [
    "df = []\n",
    "for season in seasons_string(start_season,end_season):\n",
    "    df.append(get_usg_stats(Season=season))\n",
    "usg_stats_df = pd.concat([x for x in df],ignore_index=True)"
   ]
  },
  {
   "cell_type": "markdown",
   "metadata": {},
   "source": [
    "## Calculate totals before group"
   ]
  },
  {
   "cell_type": "code",
   "execution_count": 48,
   "metadata": {},
   "outputs": [],
   "source": [
    "usg_stats_df[\"TOTAL_USG\"]     = usg_stats_df[\"USG_PCT\"] * usg_stats_df[\"GP\"] * usg_stats_df[\"MIN\"]\n",
    "usg_stats_df[\"TOTAL_AST_PCT\"] = usg_stats_df[\"AST_PCT\"] * usg_stats_df[\"GP\"] * usg_stats_df[\"MIN\"]\n",
    "usg_stats_df[\"TOTAL_MIN\"]     = usg_stats_df[\"GP\"] * usg_stats_df[\"MIN\"]"
   ]
  },
  {
   "cell_type": "markdown",
   "metadata": {},
   "source": [
    "## Check for players that play in last season"
   ]
  },
  {
   "cell_type": "code",
   "execution_count": 49,
   "metadata": {},
   "outputs": [],
   "source": [
    "relevant_season = usg_stats_df.groupby([\"PLAYER_NAME\"],as_index=False).max()[[\"PLAYER_NAME\",\"Season\"]]\n",
    "relevant_season = relevant_season[relevant_season[\"Season\"] == \"2019-20\"]"
   ]
  },
  {
   "cell_type": "markdown",
   "metadata": {},
   "source": [
    "## Group data toghter and enganeering"
   ]
  },
  {
   "cell_type": "code",
   "execution_count": 174,
   "metadata": {},
   "outputs": [],
   "source": [
    "usg_stats_summary = usg_stats_df.groupby(\"PLAYER_NAME\",as_index=False).sum()"
   ]
  },
  {
   "cell_type": "code",
   "execution_count": 58,
   "metadata": {},
   "outputs": [],
   "source": [
    "usg_stats_summary[\"USG_PCT\"] = usg_stats_summary[\"TOTAL_USG\"] / usg_stats_summary[\"TOTAL_MIN\"]\n",
    "usg_stats_summary[\"AST_PCT\"] = usg_stats_summary[\"TOTAL_AST_PCT\"] / usg_stats_summary[\"TOTAL_MIN\"]"
   ]
  },
  {
   "cell_type": "markdown",
   "metadata": {},
   "source": [
    "## Calculate avarage for filter and filer"
   ]
  },
  {
   "cell_type": "code",
   "execution_count": 59,
   "metadata": {},
   "outputs": [],
   "source": [
    "ast_pct_avg = usg_stats_summary[\"AST_PCT\"].mean()"
   ]
  },
  {
   "cell_type": "code",
   "execution_count": 78,
   "metadata": {},
   "outputs": [],
   "source": [
    "usg_filter = usg_stats_summary[\"USG_PCT\"] <= max_usg_pct\n",
    "ast_filter = usg_stats_summary[\"AST_PCT\"] <= ast_pct_avg\n",
    "minuites_filter = usg_stats_summary[\"TOTAL_MIN\"] >= minimum_minuites\n",
    "usg_stats_summary_filtered = usg_stats_summary[usg_filter]\n",
    "usg_stats_summary_filtered = usg_stats_summary_filtered[ast_filter]\n",
    "usg_stats_summary_filtered = usg_stats_summary_filtered[minuites_filter]\n",
    "usg_stats_summary_filtered = usg_stats_summary_filtered.merge(relevant_season,on=\"PLAYER_NAME\")"
   ]
  },
  {
   "cell_type": "markdown",
   "metadata": {},
   "source": [
    "## Merge usage and 3pt shots"
   ]
  },
  {
   "cell_type": "code",
   "execution_count": 175,
   "metadata": {},
   "outputs": [],
   "source": [
    "usage_3pt_merge = df_3pt_freq_pct_filtered.merge(usg_stats_summary_filtered,on=\"PLAYER_NAME\")"
   ]
  },
  {
   "cell_type": "markdown",
   "metadata": {},
   "source": [
    "# Mesure Defense - Old"
   ]
  },
  {
   "cell_type": "markdown",
   "metadata": {},
   "source": [
    "## Conf "
   ]
  },
  {
   "cell_type": "code",
   "execution_count": 82,
   "metadata": {},
   "outputs": [],
   "source": [
    "# def_cols = [\"PLAYER_NAME\",\"PCT_PLUSMINUS\",\"Season\"]"
   ]
  },
  {
   "cell_type": "markdown",
   "metadata": {},
   "source": [
    "## Read From API"
   ]
  },
  {
   "cell_type": "code",
   "execution_count": 83,
   "metadata": {},
   "outputs": [],
   "source": [
    "# df = []\n",
    "# for season in seasons_string(start_season,end_season):\n",
    "#             df.append(get_def_diff_pct_stats(Season=season))\n",
    "# def_stats_df = pd.concat([x for x in df],ignore_index=True)\n",
    "# def_stats_df = def_stats_df[def_cols]\n",
    "# def_stats_df[\"PCT_PLUSMINUS_CONVERTED\"] = def_stats_df[\"PCT_PLUSMINUS\"] * -100\n",
    "# avg_def_metric = def_stats_df[\"PCT_PLUSMINUS_CONVERTED\"].mean()\n",
    "# usage_3pt_merge = usage_3pt_merge[usage_3pt_merge[\"Season\"] == \"2019-20\"]\n",
    "# def_3pt_usg_df = usage_3pt_merge.merge(def_stats_df,on=[\"PLAYER_NAME\",\"Season\"])\n",
    "# def_3pt_usg_df[def_3pt_usg_df[\"PLAYER_NAME\"] == \"James Harden\"]\n",
    "# ax = def_3pt_usg_df.plot.scatter(x=\"3pt_PCT\",y=\"PCT_PLUSMINUS_CONVERTED\",figsize=(20,10))\n",
    "# plt.axvline(avg_shooting_pct)\n",
    "# plt.axhline(avg_def_metric)\n",
    "# for i, txt in enumerate(def_3pt_usg_df.PLAYER_NAME):\n",
    "#     ax.annotate(txt, (def_3pt_usg_df[\"3pt_PCT\"].iat[i],def_3pt_usg_df[\"PCT_PLUSMINUS_CONVERTED\"].iat[i]))\n",
    "# plt.show()"
   ]
  },
  {
   "cell_type": "markdown",
   "metadata": {},
   "source": [
    "## Mesure Defense - DRPM"
   ]
  },
  {
   "cell_type": "markdown",
   "metadata": {},
   "source": [
    "## Read From API"
   ]
  },
  {
   "cell_type": "code",
   "execution_count": 117,
   "metadata": {},
   "outputs": [],
   "source": [
    "rpm_df = pd.read_excel(\"rpm.xlsx\")"
   ]
  },
  {
   "cell_type": "markdown",
   "metadata": {},
   "source": [
    "## Calculate avg for graph"
   ]
  },
  {
   "cell_type": "code",
   "execution_count": null,
   "metadata": {},
   "outputs": [],
   "source": [
    "avg_rpm_df = rpm_df[\"DRPM\"].mean()"
   ]
  },
  {
   "cell_type": "code",
   "execution_count": 127,
   "metadata": {},
   "outputs": [],
   "source": [
    "rpm_3pt_usg_df = usage_3pt_merge.merge(rpm_df,on=\"PLAYER_NAME\")"
   ]
  },
  {
   "cell_type": "code",
   "execution_count": 128,
   "metadata": {},
   "outputs": [
    {
     "data": {
      "image/png": "[encoded data removed]",
      "text/plain": [
       "<Figure size 1440x720 with 1 Axes>"
      ]
     },
     "metadata": {
      "needs_background": "light"
     },
     "output_type": "display_data"
    }
   ],
   "source": [
    "ax = rpm_3pt_usg_df.plot.scatter(x=\"3PT_PCT\",y=\"DRPM\",figsize=(20,10))\n",
    "plt.axvline(avg_shooting_pct)\n",
    "plt.axhline(avg_rpm_df)\n",
    "for i, txt in enumerate(rpm_3pt_usg_df.PLAYER_NAME):\n",
    "    ax.annotate(txt, (rpm_3pt_usg_df[\"3PT_PCT\"].iat[i],rpm_3pt_usg_df[\"DRPM\"].iat[i]))\n",
    "plt.show()"
   ]
  },
  {
   "cell_type": "markdown",
   "metadata": {},
   "source": [
    "## Calculate Rank for results"
   ]
  },
  {
   "cell_type": "code",
   "execution_count": 163,
   "metadata": {},
   "outputs": [],
   "source": [
    "rpm_3pt_usg_df_ranking = rpm_3pt_usg_df\n",
    "rpm_3pt_usg_df_ranking[\"DRPM_RANK\"] = rpm_3pt_usg_df[\"DRPM\"].rank(method='first',ascending=False)\n",
    "rpm_3pt_usg_df_ranking[\"3PT_PCT_RANK\"] = rpm_3pt_usg_df[\"3PT_PCT\"].rank(method='first',ascending=False)\n",
    "rpm_3pt_usg_df_ranking = rpm_3pt_usg_df_ranking[[\"PLAYER_NAME\",\"TOTAL_ATTEMPTS\",\"TOTAL_MADE\",\"3PT_PCT\",\"FREQ_PCT\",\"DRPM\",\"DRPM_RANK\",\"3PT_PCT_RANK\",\"TOTAL_RANK\"]]"
   ]
  },
  {
   "cell_type": "code",
   "execution_count": 164,
   "metadata": {},
   "outputs": [],
   "source": [
    "rpm_3pt_usg_df_ranking[\"TOTAL_RANK\"] = (rpm_3pt_usg_df_ranking[\"DRPM_RANK\"] + rpm_3pt_usg_df_ranking[\"3PT_PCT_RANK\"])/2"
   ]
  },
  {
   "cell_type": "markdown",
   "metadata": {},
   "source": [
    "## Find best players"
   ]
  },
  {
   "cell_type": "code",
   "execution_count": 165,
   "metadata": {
    "scrolled": false
   },
   "outputs": [],
   "source": [
    "rpm_3pt_usg_df_ranking_best = rpm_3pt_usg_df_ranking[rpm_3pt_usg_df_ranking[\"DRPM\"] > avg_rpm_df]\n",
    "rpm_3pt_usg_df_ranking_best = rpm_3pt_usg_df_ranking[rpm_3pt_usg_df_ranking[\"3PT_PCT\"] > avg_shooting_pct]"
   ]
  },
  {
   "cell_type": "code",
   "execution_count": 166,
   "metadata": {},
   "outputs": [
    {
     "data": {
      "text/html": [
       "<div>\n",
       "<style scoped>\n",
       "    .dataframe tbody tr th:only-of-type {\n",
       "        vertical-align: middle;\n",
       "    }\n",
       "\n",
       "    .dataframe tbody tr th {\n",
       "        vertical-align: top;\n",
       "    }\n",
       "\n",
       "    .dataframe thead th {\n",
       "        text-align: right;\n",
       "    }\n",
       "</style>\n",
       "<table border=\"1\" class=\"dataframe\">\n",
       "  <thead>\n",
       "    <tr style=\"text-align: right;\">\n",
       "      <th></th>\n",
       "      <th>PLAYER_NAME</th>\n",
       "      <th>TOTAL_ATTEMPTS</th>\n",
       "      <th>TOTAL_MADE</th>\n",
       "      <th>3PT_PCT</th>\n",
       "      <th>FREQ_PCT</th>\n",
       "      <th>DRPM</th>\n",
       "      <th>DRPM_RANK</th>\n",
       "      <th>3PT_PCT_RANK</th>\n",
       "      <th>TOTAL_RANK</th>\n",
       "    </tr>\n",
       "  </thead>\n",
       "  <tbody>\n",
       "    <tr>\n",
       "      <th>19</th>\n",
       "      <td>Danny Green</td>\n",
       "      <td>329.0</td>\n",
       "      <td>133.0</td>\n",
       "      <td>0.404255</td>\n",
       "      <td>0.657969</td>\n",
       "      <td>0.92</td>\n",
       "      <td>10.0</td>\n",
       "      <td>17.0</td>\n",
       "      <td>13.5</td>\n",
       "    </tr>\n",
       "    <tr>\n",
       "      <th>81</th>\n",
       "      <td>Meyers Leonard</td>\n",
       "      <td>66.0</td>\n",
       "      <td>28.0</td>\n",
       "      <td>0.424242</td>\n",
       "      <td>0.472517</td>\n",
       "      <td>0.60</td>\n",
       "      <td>23.0</td>\n",
       "      <td>8.0</td>\n",
       "      <td>15.5</td>\n",
       "    </tr>\n",
       "    <tr>\n",
       "      <th>112</th>\n",
       "      <td>Terrence Ross</td>\n",
       "      <td>337.0</td>\n",
       "      <td>134.0</td>\n",
       "      <td>0.397626</td>\n",
       "      <td>0.559247</td>\n",
       "      <td>0.92</td>\n",
       "      <td>11.0</td>\n",
       "      <td>21.0</td>\n",
       "      <td>16.0</td>\n",
       "    </tr>\n",
       "    <tr>\n",
       "      <th>54</th>\n",
       "      <td>Joe Harris</td>\n",
       "      <td>430.0</td>\n",
       "      <td>190.0</td>\n",
       "      <td>0.441860</td>\n",
       "      <td>0.546301</td>\n",
       "      <td>0.50</td>\n",
       "      <td>30.0</td>\n",
       "      <td>3.0</td>\n",
       "      <td>16.5</td>\n",
       "    </tr>\n",
       "    <tr>\n",
       "      <th>40</th>\n",
       "      <td>Gary Harris</td>\n",
       "      <td>297.0</td>\n",
       "      <td>113.0</td>\n",
       "      <td>0.380471</td>\n",
       "      <td>0.415808</td>\n",
       "      <td>1.82</td>\n",
       "      <td>1.0</td>\n",
       "      <td>36.0</td>\n",
       "      <td>18.5</td>\n",
       "    </tr>\n",
       "    <tr>\n",
       "      <th>...</th>\n",
       "      <td>...</td>\n",
       "      <td>...</td>\n",
       "      <td>...</td>\n",
       "      <td>...</td>\n",
       "      <td>...</td>\n",
       "      <td>...</td>\n",
       "      <td>...</td>\n",
       "      <td>...</td>\n",
       "      <td>...</td>\n",
       "    </tr>\n",
       "    <tr>\n",
       "      <th>5</th>\n",
       "      <td>Anthony Tolliver</td>\n",
       "      <td>308.0</td>\n",
       "      <td>117.0</td>\n",
       "      <td>0.379870</td>\n",
       "      <td>0.796285</td>\n",
       "      <td>-0.73</td>\n",
       "      <td>104.0</td>\n",
       "      <td>37.0</td>\n",
       "      <td>70.5</td>\n",
       "    </tr>\n",
       "    <tr>\n",
       "      <th>52</th>\n",
       "      <td>Jeff Green</td>\n",
       "      <td>187.0</td>\n",
       "      <td>73.0</td>\n",
       "      <td>0.390374</td>\n",
       "      <td>0.407596</td>\n",
       "      <td>-0.96</td>\n",
       "      <td>114.0</td>\n",
       "      <td>28.0</td>\n",
       "      <td>71.0</td>\n",
       "    </tr>\n",
       "    <tr>\n",
       "      <th>66</th>\n",
       "      <td>Kevin Love</td>\n",
       "      <td>339.0</td>\n",
       "      <td>124.0</td>\n",
       "      <td>0.365782</td>\n",
       "      <td>0.509216</td>\n",
       "      <td>-0.69</td>\n",
       "      <td>102.0</td>\n",
       "      <td>48.0</td>\n",
       "      <td>75.0</td>\n",
       "    </tr>\n",
       "    <tr>\n",
       "      <th>3</th>\n",
       "      <td>Allen Crabbe</td>\n",
       "      <td>331.0</td>\n",
       "      <td>126.0</td>\n",
       "      <td>0.380665</td>\n",
       "      <td>0.669855</td>\n",
       "      <td>-1.30</td>\n",
       "      <td>121.0</td>\n",
       "      <td>35.0</td>\n",
       "      <td>78.0</td>\n",
       "    </tr>\n",
       "    <tr>\n",
       "      <th>7</th>\n",
       "      <td>Ben McLemore</td>\n",
       "      <td>200.0</td>\n",
       "      <td>73.0</td>\n",
       "      <td>0.365000</td>\n",
       "      <td>0.660527</td>\n",
       "      <td>-1.09</td>\n",
       "      <td>118.0</td>\n",
       "      <td>50.0</td>\n",
       "      <td>84.0</td>\n",
       "    </tr>\n",
       "  </tbody>\n",
       "</table>\n",
       "<p>61 rows × 9 columns</p>\n",
       "</div>"
      ],
      "text/plain": [
       "          PLAYER_NAME  TOTAL_ATTEMPTS  TOTAL_MADE   3PT_PCT  FREQ_PCT  DRPM  \\\n",
       "19        Danny Green           329.0       133.0  0.404255  0.657969  0.92   \n",
       "81     Meyers Leonard            66.0        28.0  0.424242  0.472517  0.60   \n",
       "112     Terrence Ross           337.0       134.0  0.397626  0.559247  0.92   \n",
       "54         Joe Harris           430.0       190.0  0.441860  0.546301  0.50   \n",
       "40        Gary Harris           297.0       113.0  0.380471  0.415808  1.82   \n",
       "..                ...             ...         ...       ...       ...   ...   \n",
       "5    Anthony Tolliver           308.0       117.0  0.379870  0.796285 -0.73   \n",
       "52         Jeff Green           187.0        73.0  0.390374  0.407596 -0.96   \n",
       "66         Kevin Love           339.0       124.0  0.365782  0.509216 -0.69   \n",
       "3        Allen Crabbe           331.0       126.0  0.380665  0.669855 -1.30   \n",
       "7        Ben McLemore           200.0        73.0  0.365000  0.660527 -1.09   \n",
       "\n",
       "     DRPM_RANK  3PT_PCT_RANK  TOTAL_RANK  \n",
       "19        10.0          17.0        13.5  \n",
       "81        23.0           8.0        15.5  \n",
       "112       11.0          21.0        16.0  \n",
       "54        30.0           3.0        16.5  \n",
       "40         1.0          36.0        18.5  \n",
       "..         ...           ...         ...  \n",
       "5        104.0          37.0        70.5  \n",
       "52       114.0          28.0        71.0  \n",
       "66       102.0          48.0        75.0  \n",
       "3        121.0          35.0        78.0  \n",
       "7        118.0          50.0        84.0  \n",
       "\n",
       "[61 rows x 9 columns]"
      ]
     },
     "execution_count": 166,
     "metadata": {},
     "output_type": "execute_result"
    }
   ],
   "source": [
    "rpm_3pt_usg_df_ranking_best.sort_values(\"TOTAL_RANK\",ascending=True)"
   ]
  },
  {
   "cell_type": "markdown",
   "metadata": {},
   "source": [
    "## Find worst players"
   ]
  },
  {
   "cell_type": "code",
   "execution_count": 168,
   "metadata": {},
   "outputs": [],
   "source": [
    "rpm_3pt_usg_df_ranking_worst = rpm_3pt_usg_df_ranking[rpm_3pt_usg_df_ranking[\"DRPM\"] < avg_rpm_df]\n",
    "rpm_3pt_usg_df_ranking_worst = rpm_3pt_usg_df_ranking[rpm_3pt_usg_df_ranking[\"3PT_PCT\"] < avg_shooting_pct]"
   ]
  },
  {
   "cell_type": "code",
   "execution_count": 173,
   "metadata": {},
   "outputs": [
    {
     "data": {
      "text/html": [
       "<div>\n",
       "<style scoped>\n",
       "    .dataframe tbody tr th:only-of-type {\n",
       "        vertical-align: middle;\n",
       "    }\n",
       "\n",
       "    .dataframe tbody tr th {\n",
       "        vertical-align: top;\n",
       "    }\n",
       "\n",
       "    .dataframe thead th {\n",
       "        text-align: right;\n",
       "    }\n",
       "</style>\n",
       "<table border=\"1\" class=\"dataframe\">\n",
       "  <thead>\n",
       "    <tr style=\"text-align: right;\">\n",
       "      <th></th>\n",
       "      <th>PLAYER_NAME</th>\n",
       "      <th>TOTAL_ATTEMPTS</th>\n",
       "      <th>TOTAL_MADE</th>\n",
       "      <th>3PT_PCT</th>\n",
       "      <th>FREQ_PCT</th>\n",
       "      <th>DRPM</th>\n",
       "      <th>DRPM_RANK</th>\n",
       "      <th>3PT_PCT_RANK</th>\n",
       "      <th>TOTAL_RANK</th>\n",
       "    </tr>\n",
       "  </thead>\n",
       "  <tbody>\n",
       "    <tr>\n",
       "      <th>61</th>\n",
       "      <td>Keita Bates-Diop</td>\n",
       "      <td>59.0</td>\n",
       "      <td>12.0</td>\n",
       "      <td>0.203390</td>\n",
       "      <td>0.417417</td>\n",
       "      <td>-1.03</td>\n",
       "      <td>117.0</td>\n",
       "      <td>128.0</td>\n",
       "      <td>122.5</td>\n",
       "    </tr>\n",
       "    <tr>\n",
       "      <th>4</th>\n",
       "      <td>Anfernee Simons</td>\n",
       "      <td>79.0</td>\n",
       "      <td>23.0</td>\n",
       "      <td>0.291139</td>\n",
       "      <td>0.420340</td>\n",
       "      <td>-2.60</td>\n",
       "      <td>128.0</td>\n",
       "      <td>112.0</td>\n",
       "      <td>120.0</td>\n",
       "    </tr>\n",
       "    <tr>\n",
       "      <th>65</th>\n",
       "      <td>Kevin Knox II</td>\n",
       "      <td>231.0</td>\n",
       "      <td>66.0</td>\n",
       "      <td>0.285714</td>\n",
       "      <td>0.427023</td>\n",
       "      <td>-1.69</td>\n",
       "      <td>126.0</td>\n",
       "      <td>114.0</td>\n",
       "      <td>120.0</td>\n",
       "    </tr>\n",
       "    <tr>\n",
       "      <th>106</th>\n",
       "      <td>Solomon Hill</td>\n",
       "      <td>79.0</td>\n",
       "      <td>23.0</td>\n",
       "      <td>0.291139</td>\n",
       "      <td>0.602029</td>\n",
       "      <td>-1.62</td>\n",
       "      <td>125.0</td>\n",
       "      <td>113.0</td>\n",
       "      <td>119.0</td>\n",
       "    </tr>\n",
       "    <tr>\n",
       "      <th>39</th>\n",
       "      <td>Gary Clark</td>\n",
       "      <td>77.0</td>\n",
       "      <td>16.0</td>\n",
       "      <td>0.207792</td>\n",
       "      <td>0.892357</td>\n",
       "      <td>-0.75</td>\n",
       "      <td>107.0</td>\n",
       "      <td>126.0</td>\n",
       "      <td>116.5</td>\n",
       "    </tr>\n",
       "    <tr>\n",
       "      <th>35</th>\n",
       "      <td>Frank Jackson</td>\n",
       "      <td>60.0</td>\n",
       "      <td>18.0</td>\n",
       "      <td>0.300000</td>\n",
       "      <td>0.409636</td>\n",
       "      <td>-1.95</td>\n",
       "      <td>127.0</td>\n",
       "      <td>105.0</td>\n",
       "      <td>116.0</td>\n",
       "    </tr>\n",
       "    <tr>\n",
       "      <th>72</th>\n",
       "      <td>Luke Kornet</td>\n",
       "      <td>101.0</td>\n",
       "      <td>25.0</td>\n",
       "      <td>0.247525</td>\n",
       "      <td>0.644917</td>\n",
       "      <td>-0.77</td>\n",
       "      <td>109.0</td>\n",
       "      <td>121.0</td>\n",
       "      <td>115.0</td>\n",
       "    </tr>\n",
       "    <tr>\n",
       "      <th>50</th>\n",
       "      <td>Jarrett Culver</td>\n",
       "      <td>81.0</td>\n",
       "      <td>24.0</td>\n",
       "      <td>0.296296</td>\n",
       "      <td>0.390305</td>\n",
       "      <td>-0.80</td>\n",
       "      <td>111.0</td>\n",
       "      <td>108.0</td>\n",
       "      <td>109.5</td>\n",
       "    </tr>\n",
       "    <tr>\n",
       "      <th>60</th>\n",
       "      <td>Justin Jackson</td>\n",
       "      <td>125.0</td>\n",
       "      <td>38.0</td>\n",
       "      <td>0.304000</td>\n",
       "      <td>0.484211</td>\n",
       "      <td>-0.98</td>\n",
       "      <td>115.0</td>\n",
       "      <td>102.0</td>\n",
       "      <td>108.5</td>\n",
       "    </tr>\n",
       "    <tr>\n",
       "      <th>107</th>\n",
       "      <td>Stanley Johnson</td>\n",
       "      <td>129.0</td>\n",
       "      <td>30.0</td>\n",
       "      <td>0.232558</td>\n",
       "      <td>0.461659</td>\n",
       "      <td>-0.39</td>\n",
       "      <td>86.0</td>\n",
       "      <td>124.0</td>\n",
       "      <td>105.0</td>\n",
       "    </tr>\n",
       "  </tbody>\n",
       "</table>\n",
       "</div>"
      ],
      "text/plain": [
       "          PLAYER_NAME  TOTAL_ATTEMPTS  TOTAL_MADE   3PT_PCT  FREQ_PCT  DRPM  \\\n",
       "61   Keita Bates-Diop            59.0        12.0  0.203390  0.417417 -1.03   \n",
       "4     Anfernee Simons            79.0        23.0  0.291139  0.420340 -2.60   \n",
       "65      Kevin Knox II           231.0        66.0  0.285714  0.427023 -1.69   \n",
       "106      Solomon Hill            79.0        23.0  0.291139  0.602029 -1.62   \n",
       "39         Gary Clark            77.0        16.0  0.207792  0.892357 -0.75   \n",
       "35      Frank Jackson            60.0        18.0  0.300000  0.409636 -1.95   \n",
       "72        Luke Kornet           101.0        25.0  0.247525  0.644917 -0.77   \n",
       "50     Jarrett Culver            81.0        24.0  0.296296  0.390305 -0.80   \n",
       "60     Justin Jackson           125.0        38.0  0.304000  0.484211 -0.98   \n",
       "107   Stanley Johnson           129.0        30.0  0.232558  0.461659 -0.39   \n",
       "\n",
       "     DRPM_RANK  3PT_PCT_RANK  TOTAL_RANK  \n",
       "61       117.0         128.0       122.5  \n",
       "4        128.0         112.0       120.0  \n",
       "65       126.0         114.0       120.0  \n",
       "106      125.0         113.0       119.0  \n",
       "39       107.0         126.0       116.5  \n",
       "35       127.0         105.0       116.0  \n",
       "72       109.0         121.0       115.0  \n",
       "50       111.0         108.0       109.5  \n",
       "60       115.0         102.0       108.5  \n",
       "107       86.0         124.0       105.0  "
      ]
     },
     "execution_count": 173,
     "metadata": {},
     "output_type": "execute_result"
    }
   ],
   "source": [
    "rpm_3pt_usg_df_ranking_worst.sort_values(\"TOTAL_RANK\",ascending=False).head(10)"
   ]
  }
 ],
 "metadata": {
  "kernelspec": {
   "display_name": "Python 3",
   "language": "python",
   "name": "python3"
  },
  "language_info": {
   "codemirror_mode": {
    "name": "ipython",
    "version": 3
   },
   "file_extension": ".py",
   "mimetype": "text/x-python",
   "name": "python",
   "nbconvert_exporter": "python",
   "pygments_lexer": "ipython3",
   "version": "3.8.0"
  }
 },
 "nbformat": 4,
 "nbformat_minor": 2
}
